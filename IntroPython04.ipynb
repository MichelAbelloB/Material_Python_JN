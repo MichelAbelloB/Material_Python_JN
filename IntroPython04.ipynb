{
  "nbformat": 4,
  "nbformat_minor": 0,
  "metadata": {
    "colab": {
      "name": "IntroPython04.ipynb",
      "provenance": []
    },
    "kernelspec": {
      "name": "python3",
      "display_name": "Python 3"
    },
    "language_info": {
      "name": "python"
    }
  },
  "cells": [
    {
      "cell_type": "markdown",
      "metadata": {
        "id": "ZMYl6E-b5OsL"
      },
      "source": [
        "# Unidad modular 2: Introducción a Python.\n",
        "## Diplomado en R y Python para análisis de datos - UMNG\n",
        "Docente: Jarles Andrés Marimon Hernández"
      ]
    },
    {
      "cell_type": "markdown",
      "metadata": {
        "id": "vEeVwKNlINu7"
      },
      "source": [
        "# Librerías"
      ]
    },
    {
      "cell_type": "markdown",
      "metadata": {
        "id": "OaD0amRpI0Pk"
      },
      "source": [
        "## random"
      ]
    },
    {
      "cell_type": "code",
      "metadata": {
        "id": "-95nYN3BIP5C"
      },
      "source": [
        "import random as rd"
      ],
      "execution_count": 1,
      "outputs": []
    },
    {
      "cell_type": "code",
      "metadata": {
        "id": "Vs8vkireH1MN"
      },
      "source": [
        "#Semilla\n",
        "rd.seed(2021)"
      ],
      "execution_count": 2,
      "outputs": []
    },
    {
      "cell_type": "code",
      "metadata": {
        "colab": {
          "base_uri": "https://localhost:8080/",
          "height": 0
        },
        "id": "Tm6KaUvhKBn6",
        "outputId": "8e0ed77e-9b3a-4bcc-8e09-c38de7f4c73d"
      },
      "source": [
        "print(rd.randint(5,10)) #Número entero\n",
        "print(rd.choice([1,2,5,6,7,10]))"
      ],
      "execution_count": 3,
      "outputs": [
        {
          "output_type": "stream",
          "text": [
            "8\n",
            "10\n"
          ],
          "name": "stdout"
        }
      ]
    },
    {
      "cell_type": "code",
      "metadata": {
        "colab": {
          "base_uri": "https://localhost:8080/",
          "height": 0
        },
        "id": "-AXn0AiyLjYY",
        "outputId": "f14d00e6-2e23-4880-d8d4-b4c2330e254e"
      },
      "source": [
        "train_sample = rd.sample(range(100), 80, ) #Muestreo sin reemplazo\n",
        "print(train_sample)"
      ],
      "execution_count": 4,
      "outputs": [
        {
          "output_type": "stream",
          "text": [
            "[69, 35, 31, 81, 4, 56, 60, 73, 8, 40, 34, 37, 93, 9, 20, 21, 6, 13, 70, 88, 83, 68, 59, 14, 25, 94, 98, 67, 43, 47, 50, 76, 28, 97, 77, 74, 87, 7, 41, 89, 78, 29, 30, 18, 91, 17, 0, 1, 63, 48, 65, 12, 10, 15, 75, 27, 80, 61, 23, 16, 3, 54, 95, 5, 11, 72, 49, 55, 44, 99, 24, 32, 82, 36, 85, 66, 71, 19, 46, 86]\n"
          ],
          "name": "stdout"
        }
      ]
    },
    {
      "cell_type": "code",
      "metadata": {
        "colab": {
          "base_uri": "https://localhost:8080/",
          "height": 0
        },
        "id": "cVCR6JK5NKFD",
        "outputId": "42aadfcf-9a6b-42e7-9a62-dc7d0bea59cb"
      },
      "source": [
        "print(rd.random()) #Aleatorio entre en [0,1]\n",
        "print(rd.uniform(-1,1))"
      ],
      "execution_count": 5,
      "outputs": [
        {
          "output_type": "stream",
          "text": [
            "0.1079262446297723\n",
            "-0.9781268618807348\n"
          ],
          "name": "stdout"
        }
      ]
    },
    {
      "cell_type": "markdown",
      "metadata": {
        "id": "KLbg1By0Oqra"
      },
      "source": [
        "## [numpy](https://numpy.org/doc/stable/reference/index.html)"
      ]
    },
    {
      "cell_type": "code",
      "metadata": {
        "id": "qwFgC1l5NnQ9"
      },
      "source": [
        "import numpy as np"
      ],
      "execution_count": 6,
      "outputs": []
    },
    {
      "cell_type": "markdown",
      "metadata": {
        "id": "BccoEnbDjNmL"
      },
      "source": [
        "### Arreglos N-dimensionales: **ndarray.**"
      ]
    },
    {
      "cell_type": "code",
      "metadata": {
        "id": "Hi1wIjooSPIB",
        "colab": {
          "base_uri": "https://localhost:8080/",
          "height": 0
        },
        "outputId": "461da37d-1402-4210-8180-e9277a912f99"
      },
      "source": [
        "vector1 = np.array([1,2,3])\n",
        "vector2 = np.array([5,7,9])\n",
        "print(type(vector1))\n",
        "print(vector1)\n",
        "print(vector2)\n",
        "print(vector1[1])\n",
        "print(vector2[2])\n",
        "print(2*vector1)\n",
        "print(vector1 + vector2)\n",
        "print(np.dot(vector1,vector2))\n",
        "print(np.matmul(vector1,vector2))"
      ],
      "execution_count": 7,
      "outputs": [
        {
          "output_type": "stream",
          "text": [
            "<class 'numpy.ndarray'>\n",
            "[1 2 3]\n",
            "[5 7 9]\n",
            "2\n",
            "9\n",
            "[2 4 6]\n",
            "[ 6  9 12]\n",
            "46\n",
            "46\n"
          ],
          "name": "stdout"
        }
      ]
    },
    {
      "cell_type": "code",
      "metadata": {
        "colab": {
          "base_uri": "https://localhost:8080/",
          "height": 0
        },
        "id": "x9-9t9Tomg2N",
        "outputId": "38dbccb3-5633-4ee7-bd00-0e2d0b519fad"
      },
      "source": [
        "matrix1 = np.array([[1,2,3],[4,1,8]])\n",
        "matrix2 = np.array([[5,7,9], [1,1,2], [0,1,2]])\n",
        "print(matrix1)\n",
        "print(matrix2)\n",
        "print(matrix1[1])\n",
        "print(matrix2[2])\n",
        "print(2*matrix1)\n",
        "print(matrix1 + matrix1)\n",
        "print(np.dot(matrix1,matrix2))\n",
        "print(np.matmul(matrix1,matrix2)) #Preferible para producto"
      ],
      "execution_count": 8,
      "outputs": [
        {
          "output_type": "stream",
          "text": [
            "[[1 2 3]\n",
            " [4 1 8]]\n",
            "[[5 7 9]\n",
            " [1 1 2]\n",
            " [0 1 2]]\n",
            "[4 1 8]\n",
            "[0 1 2]\n",
            "[[ 2  4  6]\n",
            " [ 8  2 16]]\n",
            "[[ 2  4  6]\n",
            " [ 8  2 16]]\n",
            "[[ 7 12 19]\n",
            " [21 37 54]]\n",
            "[[ 7 12 19]\n",
            " [21 37 54]]\n"
          ],
          "name": "stdout"
        }
      ]
    },
    {
      "cell_type": "markdown",
      "metadata": {
        "id": "ouQITwu9okXp"
      },
      "source": [
        "### Matriz inversa"
      ]
    },
    {
      "cell_type": "code",
      "metadata": {
        "colab": {
          "base_uri": "https://localhost:8080/",
          "height": 0
        },
        "id": "NI1FaL3anRhl",
        "outputId": "8589ba8d-4a53-41f5-e0a9-a14005b359c3"
      },
      "source": [
        "matrix3 = np.array([[1,2],[3,1]])\n",
        "inv_m3 = np.linalg.inv(matrix3)\n",
        "print(np.matmul(matrix3, inv_m3))"
      ],
      "execution_count": 9,
      "outputs": [
        {
          "output_type": "stream",
          "text": [
            "[[1. 0.]\n",
            " [0. 1.]]\n"
          ],
          "name": "stdout"
        }
      ]
    },
    {
      "cell_type": "markdown",
      "metadata": {
        "id": "DzdX7Bq3o-12"
      },
      "source": [
        "### Transpuesta"
      ]
    },
    {
      "cell_type": "code",
      "metadata": {
        "colab": {
          "base_uri": "https://localhost:8080/",
          "height": 0
        },
        "id": "0FdAMkyPlpE3",
        "outputId": "d12b25bf-ce0e-4eaa-af3f-9cdbb7e682a1"
      },
      "source": [
        "print(np.transpose(matrix3))"
      ],
      "execution_count": 10,
      "outputs": [
        {
          "output_type": "stream",
          "text": [
            "[[1 3]\n",
            " [2 1]]\n"
          ],
          "name": "stdout"
        }
      ]
    },
    {
      "cell_type": "markdown",
      "metadata": {
        "id": "4NdAp6ZVqyTy"
      },
      "source": [
        "### Otras rutinas"
      ]
    },
    {
      "cell_type": "code",
      "metadata": {
        "colab": {
          "base_uri": "https://localhost:8080/",
          "height": 0
        },
        "id": "WmwWADrBlVNb",
        "outputId": "7c4f965c-321e-47cf-b820-3c01bf36dc72"
      },
      "source": [
        "array0 = np.arange(20).reshape(4,5)\n",
        "print(array0)\n",
        "print(array0 > 10)\n",
        "print(array0[array0 > 10])\n",
        "print('------------------------------')\n",
        "print(array0.mean())\n",
        "print(array0.mean(axis=0))\n",
        "print(array0.mean(axis=1))\n",
        "print('------------------------------')\n",
        "print(array0.std())\n",
        "print(array0.std(axis=0))\n",
        "print(array0.std(axis=1))\n",
        "print('------------------------------')\n",
        "\n"
      ],
      "execution_count": 11,
      "outputs": [
        {
          "output_type": "stream",
          "text": [
            "[[ 0  1  2  3  4]\n",
            " [ 5  6  7  8  9]\n",
            " [10 11 12 13 14]\n",
            " [15 16 17 18 19]]\n",
            "[[False False False False False]\n",
            " [False False False False False]\n",
            " [False  True  True  True  True]\n",
            " [ True  True  True  True  True]]\n",
            "[11 12 13 14 15 16 17 18 19]\n",
            "------------------------------\n",
            "9.5\n",
            "[ 7.5  8.5  9.5 10.5 11.5]\n",
            "[ 2.  7. 12. 17.]\n",
            "------------------------------\n",
            "5.766281297335398\n",
            "[5.59016994 5.59016994 5.59016994 5.59016994 5.59016994]\n",
            "[1.41421356 1.41421356 1.41421356 1.41421356]\n",
            "------------------------------\n"
          ],
          "name": "stdout"
        }
      ]
    },
    {
      "cell_type": "markdown",
      "metadata": {
        "id": "YoAiL4IYt456"
      },
      "source": [
        "### Constantes"
      ]
    },
    {
      "cell_type": "code",
      "metadata": {
        "colab": {
          "base_uri": "https://localhost:8080/",
          "height": 0
        },
        "id": "F1HQ6LEWt6dF",
        "outputId": "40c830ef-c0aa-4eab-e639-0f655df7413d"
      },
      "source": [
        "print(np.pi)\n",
        "print(np.e)"
      ],
      "execution_count": 12,
      "outputs": [
        {
          "output_type": "stream",
          "text": [
            "3.141592653589793\n",
            "2.718281828459045\n"
          ],
          "name": "stdout"
        }
      ]
    },
    {
      "cell_type": "markdown",
      "metadata": {
        "id": "8Rf00ydnr0Ug"
      },
      "source": [
        "### Funciones"
      ]
    },
    {
      "cell_type": "code",
      "metadata": {
        "colab": {
          "base_uri": "https://localhost:8080/",
          "height": 0
        },
        "id": "rvhjuj8rrvmB",
        "outputId": "c475cbef-2eb6-422e-81b8-d790e2996118"
      },
      "source": [
        "print(np.sin(30))\n",
        "print(np.cos(30))\n",
        "print(np.log(10)) #ln\n",
        "print(np.exp(2))\n",
        "print(np.sqrt(16))"
      ],
      "execution_count": 13,
      "outputs": [
        {
          "output_type": "stream",
          "text": [
            "-0.9880316240928618\n",
            "0.15425144988758405\n",
            "2.302585092994046\n",
            "7.38905609893065\n",
            "4.0\n"
          ],
          "name": "stdout"
        }
      ]
    },
    {
      "cell_type": "markdown",
      "metadata": {
        "id": "QD69WFYxv77W"
      },
      "source": [
        "### Arreglos aleatorios"
      ]
    },
    {
      "cell_type": "code",
      "metadata": {
        "colab": {
          "base_uri": "https://localhost:8080/",
          "height": 0
        },
        "id": "iRptgflQsZgo",
        "outputId": "abec0b13-d3df-4cf1-d484-c91b7e0675fa"
      },
      "source": [
        "mu = 3\n",
        "sd = 2\n",
        "print(np.random.normal(mu,sd,10))\n",
        "print(np.random.normal(mu, sd, size = (3,2)))"
      ],
      "execution_count": 14,
      "outputs": [
        {
          "output_type": "stream",
          "text": [
            "[-0.21170725  1.75293458  2.63542449  3.62114695  6.95346312  4.03668906\n",
            "  3.65347835  3.127496    3.50711014  0.55567409]\n",
            "[[ 4.6719278   1.628918  ]\n",
            " [ 5.20963076  4.21947965]\n",
            " [-2.12999411  1.41869602]]\n"
          ],
          "name": "stdout"
        }
      ]
    },
    {
      "cell_type": "markdown",
      "metadata": {
        "id": "CmzpBxAoxB0z"
      },
      "source": [
        "### [matplotlib:](https://matplotlib.org/stable/tutorials/index.html)"
      ]
    },
    {
      "cell_type": "code",
      "metadata": {
        "id": "ANZ8cZWkxEjg"
      },
      "source": [
        "import matplotlib.pyplot as plt"
      ],
      "execution_count": 15,
      "outputs": []
    },
    {
      "cell_type": "code",
      "metadata": {
        "colab": {
          "base_uri": "https://localhost:8080/",
          "height": 295
        },
        "id": "ZUSEl2cVxcvi",
        "outputId": "10c03845-968c-4e05-e431-bb593d2105c2"
      },
      "source": [
        "x = np.linspace(-10, 10, 100)\n",
        "\n",
        "plt.plot(x,x, label = 'Lineal', color='red')\n",
        "plt.plot(x,x**2, label = 'Cuadrática', linestyle = '--')\n",
        "plt.xlabel('Eje x')\n",
        "plt.ylabel('Eje y')\n",
        "plt.title('Funciones')\n",
        "plt.legend()\n",
        "plt.savefig('funciones.pdf', format = 'pdf')\n",
        "plt.show()"
      ],
      "execution_count": 16,
      "outputs": [
        {
          "output_type": "display_data",
          "data": {
            "image/png": "[encoded data removed]",
            "text/plain": [
              "<Figure size 432x288 with 1 Axes>"
            ]
          },
          "metadata": {
            "tags": [],
            "needs_background": "light"
          }
        }
      ]
    },
    {
      "cell_type": "code",
      "metadata": {
        "colab": {
          "base_uri": "https://localhost:8080/",
          "height": 265
        },
        "id": "Etg2HB9Z1C5T",
        "outputId": "32f38fc0-e188-4a18-acf0-c4ec09f12a26"
      },
      "source": [
        "x_rand = np.random.normal(size = 100)\n",
        "plt.plot(x_rand)\n",
        "plt.show()"
      ],
      "execution_count": 17,
      "outputs": [
        {
          "output_type": "display_data",
          "data": {
            "image/png": "[encoded data removed]",
            "text/plain": [
              "<Figure size 432x288 with 1 Axes>"
            ]
          },
          "metadata": {
            "tags": [],
            "needs_background": "light"
          }
        }
      ]
    },
    {
      "cell_type": "code",
      "metadata": {
        "colab": {
          "base_uri": "https://localhost:8080/",
          "height": 265
        },
        "id": "pwsJnEjJ20am",
        "outputId": "a21e4824-1a2a-4801-85bd-bc6e238d031b"
      },
      "source": [
        "plt.hist(x_rand, bins = 20)\n",
        "plt.show()"
      ],
      "execution_count": 18,
      "outputs": [
        {
          "output_type": "display_data",
          "data": {
            "image/png": "[encoded data removed]",
            "text/plain": [
              "<Figure size 432x288 with 1 Axes>"
            ]
          },
          "metadata": {
            "tags": [],
            "needs_background": "light"
          }
        }
      ]
    },
    {
      "cell_type": "code",
      "metadata": {
        "colab": {
          "base_uri": "https://localhost:8080/",
          "height": 299
        },
        "id": "mwZtfOmy1Q_P",
        "outputId": "77788965-6a80-4eeb-976f-d926d507232e"
      },
      "source": [
        "x_rand = np.random.normal(size = 100)\n",
        "y_rand = np.random.normal(size = 100)\n",
        "colors = np.random.choice([\"r\",\"b\"], 100)\n",
        "areaxy = 100*x_rand*y_rand\n",
        "plt.scatter(x_rand, y_rand, s = areaxy, c = colors)\n",
        "plt.axhline(0)\n",
        "plt.axvline(0)\n",
        "plt.show()"
      ],
      "execution_count": 19,
      "outputs": [
        {
          "output_type": "stream",
          "text": [
            "/usr/local/lib/python3.7/dist-packages/matplotlib/collections.py:885: RuntimeWarning: invalid value encountered in sqrt\n",
            "  scale = np.sqrt(self._sizes) * dpi / 72.0 * self._factor\n"
          ],
          "name": "stderr"
        },
        {
          "output_type": "display_data",
          "data": {
            "image/png": "[encoded data removed]",
            "text/plain": [
              "<Figure size 432x288 with 1 Axes>"
            ]
          },
          "metadata": {
            "tags": [],
            "needs_background": "light"
          }
        }
      ]
    },
    {
      "cell_type": "markdown",
      "metadata": {
        "id": "0sBjjUYe9PBA"
      },
      "source": [
        "## [statsmodels:](https://www.statsmodels.org/stable/index.html)"
      ]
    },
    {
      "cell_type": "markdown",
      "metadata": {
        "id": "ARxdddPt9ytf"
      },
      "source": [
        "### Regresión lineal"
      ]
    },
    {
      "cell_type": "code",
      "metadata": {
        "colab": {
          "base_uri": "https://localhost:8080/",
          "height": 0
        },
        "id": "ctDwQKcc9U1D",
        "outputId": "9b71d7a5-c8fd-4206-90e3-213494253ae9"
      },
      "source": [
        "import statsmodels.api as sm"
      ],
      "execution_count": 20,
      "outputs": [
        {
          "output_type": "stream",
          "text": [
            "/usr/local/lib/python3.7/dist-packages/statsmodels/tools/_testing.py:19: FutureWarning: pandas.util.testing is deprecated. Use the functions in the public API at pandas.testing instead.\n",
            "  import pandas.util.testing as tm\n"
          ],
          "name": "stderr"
        }
      ]
    },
    {
      "cell_type": "code",
      "metadata": {
        "colab": {
          "base_uri": "https://localhost:8080/",
          "height": 267
        },
        "id": "2Gxg1LwU9vVn",
        "outputId": "f305926c-83b3-452e-cc3c-bf8900d24d46"
      },
      "source": [
        "#Datos artificiales\n",
        "np.random.seed(2021)\n",
        "noise = np.random.normal(0, 3, size = 100)\n",
        "X = np.linspace(0,10,100)\n",
        "Y = 3*X + 1 + noise\n",
        "plt.scatter(X,Y)\n",
        "plt.show()"
      ],
      "execution_count": 21,
      "outputs": [
        {
          "output_type": "display_data",
          "data": {
            "image/png": "[encoded data removed]",
            "text/plain": [
              "<Figure size 432x288 with 1 Axes>"
            ]
          },
          "metadata": {
            "tags": [],
            "needs_background": "light"
          }
        }
      ]
    },
    {
      "cell_type": "code",
      "metadata": {
        "colab": {
          "base_uri": "https://localhost:8080/",
          "height": 0
        },
        "id": "oVWosVwg_PNl",
        "outputId": "4c3b437b-3406-436a-966a-ca4321ee301b"
      },
      "source": [
        "#OLS\n",
        "X = sm.add_constant(X) #Intercepto\n",
        "model = sm.OLS(Y,X)\n",
        "results = model.fit()\n",
        "print(results.summary())\n",
        "print(results.params)\n",
        "print(results.aic)\n",
        "print(results.bic)\n",
        "print(results.resid)"
      ],
      "execution_count": 23,
      "outputs": [
        {
          "output_type": "stream",
          "text": [
            "                            OLS Regression Results                            \n",
            "==============================================================================\n",
            "Dep. Variable:                      y   R-squared:                       0.893\n",
            "Model:                            OLS   Adj. R-squared:                  0.892\n",
            "Method:                 Least Squares   F-statistic:                     815.9\n",
            "Date:                Thu, 15 Jul 2021   Prob (F-statistic):           2.61e-49\n",
            "Time:                        23:59:33   Log-Likelihood:                -253.41\n",
            "No. Observations:                 100   AIC:                             510.8\n",
            "Df Residuals:                      98   BIC:                             516.0\n",
            "Df Model:                           1                                         \n",
            "Covariance Type:            nonrobust                                         \n",
            "==============================================================================\n",
            "                 coef    std err          t      P>|t|      [0.025      0.975]\n",
            "------------------------------------------------------------------------------\n",
            "const          1.3024      0.612      2.129      0.036       0.089       2.516\n",
            "x1             3.0182      0.106     28.563      0.000       2.809       3.228\n",
            "==============================================================================\n",
            "Omnibus:                        2.806   Durbin-Watson:                   2.195\n",
            "Prob(Omnibus):                  0.246   Jarque-Bera (JB):                2.407\n",
            "Skew:                           0.174   Prob(JB):                        0.300\n",
            "Kurtosis:                       3.676   Cond. No.                         11.7\n",
            "==============================================================================\n",
            "\n",
            "Warnings:\n",
            "[1] Standard Errors assume that the covariance matrix of the errors is correctly specified.\n",
            "[1.30241818 3.01823789]\n",
            "510.81985815532784\n",
            "516.030198527304\n",
            "[ 4.16340898e+00  1.72377223e+00 -1.56145671e+00 -2.72750725e+00\n",
            "  1.35784047e+00 -2.42814209e+00  3.07910334e+00  1.61969186e+00\n",
            "  2.08536216e-03  9.47466412e-01  5.17802467e-02 -2.83654288e+00\n",
            "  9.02522405e-01 -1.81132646e-02 -6.05137630e+00  2.97062157e+00\n",
            " -4.53886874e+00 -1.00897956e+00 -4.34419587e+00  5.73744355e-01\n",
            " -2.49973890e+00  7.29363919e+00  3.60892654e+00 -1.26898124e-01\n",
            " -1.11495565e+00  6.55577717e-02  3.09139229e+00  3.77662440e+00\n",
            " -1.77055199e+00  1.21641239e+00  4.09763927e+00  4.08777003e+00\n",
            "  1.82302260e+00 -1.53215539e+00  4.71627926e-01 -2.11194962e-01\n",
            " -3.50296882e+00 -8.55102585e-01 -8.75301391e+00  7.10679616e-01\n",
            "  3.44216120e-01  1.05548803e+00  2.46764768e-01  2.37210166e+00\n",
            " -4.61880899e+00  3.28738949e+00 -2.02413304e+00  2.33124207e+00\n",
            " -3.33869601e+00 -2.29217219e+00  2.08203200e+00 -4.24986150e+00\n",
            " -1.44013950e+00 -3.63333760e+00  2.51582728e+00  8.32833714e-01\n",
            " -8.01840121e-01 -2.42747696e+00  3.25739873e+00 -3.19034889e+00\n",
            "  3.86203057e+00 -7.89162850e-01  1.69984050e+00  1.74016504e+00\n",
            "  4.07212726e-03 -2.38550734e+00 -2.44031661e+00  2.18525916e+00\n",
            "  2.58204730e+00 -1.52888021e+00  2.95278210e+00  1.94453625e+00\n",
            " -5.68758455e+00 -2.86350792e+00 -4.67654723e+00 -2.84961309e+00\n",
            "  1.95241520e+00  4.82372025e+00 -6.72623225e-01  8.12577610e-01\n",
            "  1.98731407e-02 -6.22221104e-01 -2.06818021e+00  2.24884030e+00\n",
            "  2.17668719e-01  3.37435844e+00  1.42695748e+00  6.22983117e-01\n",
            "  1.04516448e+01 -4.07003728e+00 -4.45831571e+00  3.31304070e+00\n",
            " -2.41627824e+00  6.26215626e+00 -3.51276775e+00 -8.55244315e-01\n",
            " -1.77651971e+00  7.96698951e-01  1.78695325e+00 -3.46935924e+00]\n"
          ],
          "name": "stdout"
        }
      ]
    },
    {
      "cell_type": "code",
      "metadata": {
        "colab": {
          "base_uri": "https://localhost:8080/",
          "height": 267
        },
        "id": "SnkGFaljIo3M",
        "outputId": "6ba44d48-cc5b-473f-9355-bfb069cb87e5"
      },
      "source": [
        "x = np.linspace(0,10,100)\n",
        "Y = 3*x + 1 + noise\n",
        "plt.scatter(x, Y)\n",
        "plt.plot(x,results.params[1]*x + results.params[0], c = 'red')\n",
        "plt.show()"
      ],
      "execution_count": 24,
      "outputs": [
        {
          "output_type": "display_data",
          "data": {
            "image/png": "[encoded data removed]",
            "text/plain": [
              "<Figure size 432x288 with 1 Axes>"
            ]
          },
          "metadata": {
            "tags": [],
            "needs_background": "light"
          }
        }
      ]
    },
    {
      "cell_type": "markdown",
      "metadata": {
        "id": "ry0vtQG9RKdg"
      },
      "source": [
        ""
      ]
    },
    {
      "cell_type": "markdown",
      "metadata": {
        "id": "VSq5hGrZ3aW3"
      },
      "source": [
        "# Bibliografía\n",
        "\n",
        "- Guttag, J. V. (2021). Introduction to Computation and Programming Using Python: With Application to Computational Modeling and Understanding Data. MIT Press.\n",
        "- Heinold, B. (2012). A Practical Introduction to Python Programming. Creative Commons Attribution.\n",
        "- Pine, D. J. (2019). Introduction to Python for science and engineering. CRC Press.\n",
        "- Python Software Foundation (2021). Python Language Reference, version 3.9.6. https://www.python.org/doc/"
      ]
    }
  ]
}