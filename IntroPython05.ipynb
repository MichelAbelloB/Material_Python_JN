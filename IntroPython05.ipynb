{
  "nbformat": 4,
  "nbformat_minor": 0,
  "metadata": {
    "colab": {
      "name": "IntroPython05.ipynb",
      "provenance": []
    },
    "kernelspec": {
      "name": "python3",
      "display_name": "Python 3"
    },
    "language_info": {
      "name": "python"
    }
  },
  "cells": [
    {
      "cell_type": "markdown",
      "metadata": {
        "id": "LCOw8_m3dIay"
      },
      "source": [
        "# Unidad modular 2: Introducción a Python.\n",
        "## Diplomado en R y Python para análisis de datos - UMNG\n",
        "Docente: Jarles Andrés Marimon Hernández"
      ]
    },
    {
      "cell_type": "markdown",
      "metadata": {
        "id": "X1oXSzIHVWlC"
      },
      "source": [
        "# [pandas](https://pandas.pydata.org/docs/reference/index.html)"
      ]
    },
    {
      "cell_type": "code",
      "metadata": {
        "id": "NFExU9JZUpWE"
      },
      "source": [
        "import pandas as pd\n",
        "import numpy as np"
      ],
      "execution_count": null,
      "outputs": []
    },
    {
      "cell_type": "markdown",
      "metadata": {
        "id": "rUI8i2W5V1hd"
      },
      "source": [
        "## Objeto: Series\n",
        "\n",
        "Arreglo de una dimensión."
      ]
    },
    {
      "cell_type": "code",
      "metadata": {
        "id": "pbrm6KD4V60D"
      },
      "source": [
        "np.random.seed(2021)\n",
        "s = pd.Series(np.random.randn(20))\n",
        "s2 = pd.Series([3.2,2.7,4.5], index=['Juan', 'Pedro', 'Maria'])\n",
        "s3 = pd.Series({'Juan':3.5, 'Andrea':3.5, 'Pedro':4.0, 'Maria':4.3, 'default':np.nan})"
      ],
      "execution_count": null,
      "outputs": []
    },
    {
      "cell_type": "code",
      "metadata": {
        "colab": {
          "base_uri": "https://localhost:8080/"
        },
        "id": "4KhmP5VcWq7D",
        "outputId": "169d61d7-c924-4d54-e575-c194538e4194"
      },
      "source": [
        "print(s)"
      ],
      "execution_count": null,
      "outputs": [
        {
          "output_type": "stream",
          "text": [
            "0     1.488609\n",
            "1     0.676011\n",
            "2    -0.418451\n",
            "3    -0.806521\n",
            "4     0.555876\n",
            "5    -0.705504\n",
            "6     1.130858\n",
            "7     0.645002\n",
            "8     0.106414\n",
            "9     0.422155\n",
            "10    0.124207\n",
            "11   -0.837953\n",
            "12    0.409016\n",
            "13    0.102751\n",
            "14   -1.907722\n",
            "15    1.100224\n",
            "16   -1.402325\n",
            "17   -0.225081\n",
            "18   -1.336206\n",
            "19    0.303722\n",
            "dtype: float64\n"
          ],
          "name": "stdout"
        }
      ]
    },
    {
      "cell_type": "code",
      "metadata": {
        "colab": {
          "base_uri": "https://localhost:8080/"
        },
        "id": "031-hC-jWuQB",
        "outputId": "0864d08e-b258-4a89-8f8a-ba88b1ceb645"
      },
      "source": [
        "print(s2)"
      ],
      "execution_count": null,
      "outputs": [
        {
          "output_type": "stream",
          "text": [
            "Juan     3.2\n",
            "Pedro    2.7\n",
            "Maria    4.5\n",
            "dtype: float64\n"
          ],
          "name": "stdout"
        }
      ]
    },
    {
      "cell_type": "code",
      "metadata": {
        "colab": {
          "base_uri": "https://localhost:8080/"
        },
        "id": "vV3jDOy2Wys5",
        "outputId": "98bf04f5-409c-46db-8fac-06980ff4acac"
      },
      "source": [
        "print(s3)"
      ],
      "execution_count": null,
      "outputs": [
        {
          "output_type": "stream",
          "text": [
            "Juan       3.5\n",
            "Andrea     3.5\n",
            "Pedro      4.0\n",
            "Maria      4.3\n",
            "default    NaN\n",
            "dtype: float64\n"
          ],
          "name": "stdout"
        }
      ]
    },
    {
      "cell_type": "code",
      "metadata": {
        "colab": {
          "base_uri": "https://localhost:8080/"
        },
        "id": "Kn9aA1FEW2w1",
        "outputId": "313ccf08-1b37-4445-a6a2-8cba32a1551e"
      },
      "source": [
        "s2[2]"
      ],
      "execution_count": null,
      "outputs": [
        {
          "output_type": "execute_result",
          "data": {
            "text/plain": [
              "4.5"
            ]
          },
          "metadata": {
            "tags": []
          },
          "execution_count": 62
        }
      ]
    },
    {
      "cell_type": "code",
      "metadata": {
        "colab": {
          "base_uri": "https://localhost:8080/"
        },
        "id": "PkYmPj56W9Qj",
        "outputId": "5f8042a3-18f7-4eb8-8881-4624e15a229a"
      },
      "source": [
        "s[[2,5,17]]"
      ],
      "execution_count": null,
      "outputs": [
        {
          "output_type": "execute_result",
          "data": {
            "text/plain": [
              "2    -0.418451\n",
              "5    -0.705504\n",
              "17   -0.225081\n",
              "dtype: float64"
            ]
          },
          "metadata": {
            "tags": []
          },
          "execution_count": 63
        }
      ]
    },
    {
      "cell_type": "code",
      "metadata": {
        "colab": {
          "base_uri": "https://localhost:8080/"
        },
        "id": "pCT753pt9MSJ",
        "outputId": "026cdba4-27d0-4d45-b6e0-a53a197b5d8a"
      },
      "source": [
        "s3[[0,3]]"
      ],
      "execution_count": null,
      "outputs": [
        {
          "output_type": "execute_result",
          "data": {
            "text/plain": [
              "Juan     3.5\n",
              "Maria    4.3\n",
              "dtype: float64"
            ]
          },
          "metadata": {
            "tags": []
          },
          "execution_count": 64
        }
      ]
    },
    {
      "cell_type": "code",
      "metadata": {
        "colab": {
          "base_uri": "https://localhost:8080/"
        },
        "id": "pxVzq2mJXGLW",
        "outputId": "b62029f1-919b-47e5-b4c5-bcbbdc942697"
      },
      "source": [
        "s[5:7]"
      ],
      "execution_count": null,
      "outputs": [
        {
          "output_type": "execute_result",
          "data": {
            "text/plain": [
              "5   -0.705504\n",
              "6    1.130858\n",
              "dtype: float64"
            ]
          },
          "metadata": {
            "tags": []
          },
          "execution_count": 65
        }
      ]
    },
    {
      "cell_type": "code",
      "metadata": {
        "colab": {
          "base_uri": "https://localhost:8080/"
        },
        "id": "C1_i7K28XJ7f",
        "outputId": "8a0089a4-586c-4cad-fc18-004e9e4f8326"
      },
      "source": [
        "s.head(3)"
      ],
      "execution_count": null,
      "outputs": [
        {
          "output_type": "execute_result",
          "data": {
            "text/plain": [
              "0    1.488609\n",
              "1    0.676011\n",
              "2   -0.418451\n",
              "dtype: float64"
            ]
          },
          "metadata": {
            "tags": []
          },
          "execution_count": 66
        }
      ]
    },
    {
      "cell_type": "code",
      "metadata": {
        "colab": {
          "base_uri": "https://localhost:8080/"
        },
        "id": "JOJH1Md0XNB3",
        "outputId": "bcb51132-5b29-4121-95bd-4e6689b774ec"
      },
      "source": [
        "s.tail(5)"
      ],
      "execution_count": null,
      "outputs": [
        {
          "output_type": "execute_result",
          "data": {
            "text/plain": [
              "15    1.100224\n",
              "16   -1.402325\n",
              "17   -0.225081\n",
              "18   -1.336206\n",
              "19    0.303722\n",
              "dtype: float64"
            ]
          },
          "metadata": {
            "tags": []
          },
          "execution_count": 67
        }
      ]
    },
    {
      "cell_type": "code",
      "metadata": {
        "colab": {
          "base_uri": "https://localhost:8080/"
        },
        "id": "YK64wrC1XQWt",
        "outputId": "566b02f2-2a3b-43bc-9572-237372e8bff1"
      },
      "source": [
        "print(s2.shape, s3.count())"
      ],
      "execution_count": null,
      "outputs": [
        {
          "output_type": "stream",
          "text": [
            "(3,) 4\n"
          ],
          "name": "stdout"
        }
      ]
    },
    {
      "cell_type": "code",
      "metadata": {
        "colab": {
          "base_uri": "https://localhost:8080/"
        },
        "id": "8ZwZh84zXbbg",
        "outputId": "6d23084b-c457-428a-ad6b-4786098482ba"
      },
      "source": [
        "print(s3.value_counts())\n",
        "s4 = (s2+s3)/2\n",
        "print(s4)"
      ],
      "execution_count": null,
      "outputs": [
        {
          "output_type": "stream",
          "text": [
            "3.5    2\n",
            "4.3    1\n",
            "4.0    1\n",
            "dtype: int64\n",
            "Andrea      NaN\n",
            "Juan       3.35\n",
            "Maria      4.40\n",
            "Pedro      3.35\n",
            "default     NaN\n",
            "dtype: float64\n"
          ],
          "name": "stdout"
        }
      ]
    },
    {
      "cell_type": "markdown",
      "metadata": {
        "id": "Bvzznc9fXsj6"
      },
      "source": [
        "## Dataframes"
      ]
    },
    {
      "cell_type": "code",
      "metadata": {
        "colab": {
          "base_uri": "https://localhost:8080/",
          "height": 306
        },
        "id": "VUectfDgXu2H",
        "outputId": "6e19ff6a-d183-48f2-8d7e-6e7500ff477c"
      },
      "source": [
        "np.random.seed(2021)\n",
        "df = pd.DataFrame(np.random.randn(5, 4), columns=['A', 'B', 'C', 'D'], \n",
        "                  index = ['Fila 0', 'Fila 1', 'Fila 2', 'Fila 3', 'Fila 4'])\n",
        "print(df)\n",
        "display(df)"
      ],
      "execution_count": null,
      "outputs": [
        {
          "output_type": "stream",
          "text": [
            "               A         B         C         D\n",
            "Fila 0  1.488609  0.676011 -0.418451 -0.806521\n",
            "Fila 1  0.555876 -0.705504  1.130858  0.645002\n",
            "Fila 2  0.106414  0.422155  0.124207 -0.837953\n",
            "Fila 3  0.409016  0.102751 -1.907722  1.100224\n",
            "Fila 4 -1.402325 -0.225081 -1.336206  0.303722\n"
          ],
          "name": "stdout"
        },
        {
          "output_type": "display_data",
          "data": {
            "text/html": [
              "<div>\n",
              "<style scoped>\n",
              "    .dataframe tbody tr th:only-of-type {\n",
              "        vertical-align: middle;\n",
              "    }\n",
              "\n",
              "    .dataframe tbody tr th {\n",
              "        vertical-align: top;\n",
              "    }\n",
              "\n",
              "    .dataframe thead th {\n",
              "        text-align: right;\n",
              "    }\n",
              "</style>\n",
              "<table border=\"1\" class=\"dataframe\">\n",
              "  <thead>\n",
              "    <tr style=\"text-align: right;\">\n",
              "      <th></th>\n",
              "      <th>A</th>\n",
              "      <th>B</th>\n",
              "      <th>C</th>\n",
              "      <th>D</th>\n",
              "    </tr>\n",
              "  </thead>\n",
              "  <tbody>\n",
              "    <tr>\n",
              "      <th>Fila 0</th>\n",
              "      <td>1.488609</td>\n",
              "      <td>0.676011</td>\n",
              "      <td>-0.418451</td>\n",
              "      <td>-0.806521</td>\n",
              "    </tr>\n",
              "    <tr>\n",
              "      <th>Fila 1</th>\n",
              "      <td>0.555876</td>\n",
              "      <td>-0.705504</td>\n",
              "      <td>1.130858</td>\n",
              "      <td>0.645002</td>\n",
              "    </tr>\n",
              "    <tr>\n",
              "      <th>Fila 2</th>\n",
              "      <td>0.106414</td>\n",
              "      <td>0.422155</td>\n",
              "      <td>0.124207</td>\n",
              "      <td>-0.837953</td>\n",
              "    </tr>\n",
              "    <tr>\n",
              "      <th>Fila 3</th>\n",
              "      <td>0.409016</td>\n",
              "      <td>0.102751</td>\n",
              "      <td>-1.907722</td>\n",
              "      <td>1.100224</td>\n",
              "    </tr>\n",
              "    <tr>\n",
              "      <th>Fila 4</th>\n",
              "      <td>-1.402325</td>\n",
              "      <td>-0.225081</td>\n",
              "      <td>-1.336206</td>\n",
              "      <td>0.303722</td>\n",
              "    </tr>\n",
              "  </tbody>\n",
              "</table>\n",
              "</div>"
            ],
            "text/plain": [
              "               A         B         C         D\n",
              "Fila 0  1.488609  0.676011 -0.418451 -0.806521\n",
              "Fila 1  0.555876 -0.705504  1.130858  0.645002\n",
              "Fila 2  0.106414  0.422155  0.124207 -0.837953\n",
              "Fila 3  0.409016  0.102751 -1.907722  1.100224\n",
              "Fila 4 -1.402325 -0.225081 -1.336206  0.303722"
            ]
          },
          "metadata": {
            "tags": []
          }
        }
      ]
    },
    {
      "cell_type": "markdown",
      "metadata": {
        "id": "HbAn0sI7YAF0"
      },
      "source": [
        "### Operaciones aritméticas\n"
      ]
    },
    {
      "cell_type": "code",
      "metadata": {
        "colab": {
          "base_uri": "https://localhost:8080/"
        },
        "id": "6KOGJ5xNYFnN",
        "outputId": "302b9bf3-03d4-49e6-c430-14854cccb260"
      },
      "source": [
        "print(df*2)"
      ],
      "execution_count": null,
      "outputs": [
        {
          "output_type": "stream",
          "text": [
            "               A         B         C         D\n",
            "Fila 0  2.977218  1.352022 -0.836903 -1.613042\n",
            "Fila 1  1.111752 -1.411009  2.261717  1.290004\n",
            "Fila 2  0.212827  0.844310  0.248414 -1.675907\n",
            "Fila 3  0.818031  0.205502 -3.815445  2.200449\n",
            "Fila 4 -2.804650 -0.450163 -2.672412  0.607443\n"
          ],
          "name": "stdout"
        }
      ]
    },
    {
      "cell_type": "markdown",
      "metadata": {
        "id": "uVtCrM8hs6A6"
      },
      "source": [
        "### `.loc`\n",
        "\n",
        "Acceder a un conjunto filas o columnas usando el label del índice."
      ]
    },
    {
      "cell_type": "code",
      "metadata": {
        "colab": {
          "base_uri": "https://localhost:8080/"
        },
        "id": "UWox33ZutkxM",
        "outputId": "efa53949-b77a-420a-c258-c35e6e7b2482"
      },
      "source": [
        "print(df.loc['Fila 1','A'])\n",
        "print(df.loc['Fila 1':'Fila 3',['A', 'D']])"
      ],
      "execution_count": null,
      "outputs": [
        {
          "output_type": "stream",
          "text": [
            "0.555875831519425\n",
            "               A         D\n",
            "Fila 1  0.555876  0.645002\n",
            "Fila 2  0.106414 -0.837953\n",
            "Fila 3  0.409016  1.100224\n"
          ],
          "name": "stdout"
        }
      ]
    },
    {
      "cell_type": "markdown",
      "metadata": {
        "id": "NzTXT4cj8iBa"
      },
      "source": [
        "### `.iloc`\n",
        "\n",
        "Indexación de la posición según números enteros."
      ]
    },
    {
      "cell_type": "code",
      "metadata": {
        "colab": {
          "base_uri": "https://localhost:8080/"
        },
        "id": "kuzSxndYYJ20",
        "outputId": "b758b67c-9986-45be-9881-fc0dd11250db"
      },
      "source": [
        "frowdf = df.iloc[1]\n",
        "print(frowdf)\n",
        "print(df - frowdf)"
      ],
      "execution_count": null,
      "outputs": [
        {
          "output_type": "stream",
          "text": [
            "A    0.555876\n",
            "B   -0.705504\n",
            "C    1.130858\n",
            "D    0.645002\n",
            "Name: Fila 1, dtype: float64\n",
            "               A         B         C         D\n",
            "Fila 0  0.932733  1.381515 -1.549310 -1.451523\n",
            "Fila 1  0.000000  0.000000  0.000000  0.000000\n",
            "Fila 2 -0.449462  1.127659 -1.006651 -1.482955\n",
            "Fila 3 -0.146860  0.808256 -3.038581  0.455222\n",
            "Fila 4 -1.958201  0.480423 -2.467064 -0.341280\n"
          ],
          "name": "stdout"
        }
      ]
    },
    {
      "cell_type": "code",
      "metadata": {
        "colab": {
          "base_uri": "https://localhost:8080/"
        },
        "id": "M8kHVjup9igA",
        "outputId": "b750dca1-c544-46c0-aa2a-32fca289a78a"
      },
      "source": [
        "print(df.iloc[1:3, 1:3])\n",
        "print(df.iloc[1:3, :])"
      ],
      "execution_count": null,
      "outputs": [
        {
          "output_type": "stream",
          "text": [
            "               B         C\n",
            "Fila 1 -0.705504  1.130858\n",
            "Fila 2  0.422155  0.124207\n",
            "               A         B         C         D\n",
            "Fila 1  0.555876 -0.705504  1.130858  0.645002\n",
            "Fila 2  0.106414  0.422155  0.124207 -0.837953\n"
          ],
          "name": "stdout"
        }
      ]
    },
    {
      "cell_type": "code",
      "metadata": {
        "colab": {
          "base_uri": "https://localhost:8080/"
        },
        "id": "ilqEDvUoYWie",
        "outputId": "097080ae-49a7-4fb9-90eb-1c451164eb37"
      },
      "source": [
        "subdf = df[1:4][['B','C']]\n",
        "print(subdf)\n",
        "print(df - subdf)"
      ],
      "execution_count": null,
      "outputs": [
        {
          "output_type": "stream",
          "text": [
            "               B         C\n",
            "Fila 1 -0.705504  1.130858\n",
            "Fila 2  0.422155  0.124207\n",
            "Fila 3  0.102751 -1.907722\n",
            "         A    B    C   D\n",
            "Fila 0 NaN  NaN  NaN NaN\n",
            "Fila 1 NaN  0.0  0.0 NaN\n",
            "Fila 2 NaN  0.0  0.0 NaN\n",
            "Fila 3 NaN  0.0  0.0 NaN\n",
            "Fila 4 NaN  NaN  NaN NaN\n"
          ],
          "name": "stdout"
        }
      ]
    },
    {
      "cell_type": "code",
      "metadata": {
        "colab": {
          "base_uri": "https://localhost:8080/"
        },
        "id": "XIS4EHeUZJMs",
        "outputId": "fbb0168f-4cfb-47f0-b62b-42d8bdf6826b"
      },
      "source": [
        "Acol = df['A']\n",
        "print(Acol)"
      ],
      "execution_count": null,
      "outputs": [
        {
          "output_type": "stream",
          "text": [
            "Fila 0    1.488609\n",
            "Fila 1    0.555876\n",
            "Fila 2    0.106414\n",
            "Fila 3    0.409016\n",
            "Fila 4   -1.402325\n",
            "Name: A, dtype: float64\n"
          ],
          "name": "stdout"
        }
      ]
    },
    {
      "cell_type": "code",
      "metadata": {
        "colab": {
          "base_uri": "https://localhost:8080/"
        },
        "id": "Z4Oqt3DoaW7r",
        "outputId": "5bf1b74f-eb28-48a3-9612-977605ee4198"
      },
      "source": [
        "np.random.seed(2021)\n",
        "s = pd.Series(np.random.randn(5))\n",
        "s.index = ['a', 'b', 'c', 'd', 'e']\n",
        "print(s)"
      ],
      "execution_count": null,
      "outputs": [
        {
          "output_type": "stream",
          "text": [
            "a    1.488609\n",
            "b    0.676011\n",
            "c   -0.418451\n",
            "d   -0.806521\n",
            "e    0.555876\n",
            "dtype: float64\n"
          ],
          "name": "stdout"
        }
      ]
    },
    {
      "cell_type": "code",
      "metadata": {
        "colab": {
          "base_uri": "https://localhost:8080/"
        },
        "id": "oW3upG2badoV",
        "outputId": "5e26d9d9-f120-44e9-861c-518a30febbfb"
      },
      "source": [
        "s2 = s.reindex(['a', 'c', 'e', 'g'])\n",
        "print(s2)\n",
        "s2['a'] = 0\n",
        "print(s2)\n"
      ],
      "execution_count": null,
      "outputs": [
        {
          "output_type": "stream",
          "text": [
            "a    1.488609\n",
            "c   -0.418451\n",
            "e    0.555876\n",
            "g         NaN\n",
            "dtype: float64\n",
            "a    0.000000\n",
            "c   -0.418451\n",
            "e    0.555876\n",
            "g         NaN\n",
            "dtype: float64\n"
          ],
          "name": "stdout"
        }
      ]
    },
    {
      "cell_type": "code",
      "metadata": {
        "colab": {
          "base_uri": "https://localhost:8080/"
        },
        "id": "QBNA4ZW1aipa",
        "outputId": "516fb6a0-600d-466e-e4cf-d96e1ea2175c"
      },
      "source": [
        "s3 = s.reindex(['a', 'c', 'f'], fill_value =-1)\n",
        "print(s3)"
      ],
      "execution_count": null,
      "outputs": [
        {
          "output_type": "stream",
          "text": [
            "a    1.488609\n",
            "c   -0.418451\n",
            "f   -1.000000\n",
            "dtype: float64\n"
          ],
          "name": "stdout"
        }
      ]
    },
    {
      "cell_type": "code",
      "metadata": {
        "colab": {
          "base_uri": "https://localhost:8080/"
        },
        "id": "XMEYsjf1aqhG",
        "outputId": "e11d69dd-aa76-4f5f-bef7-9ee0dab4c76c"
      },
      "source": [
        "fbs = pd.Series([5,7,11], index=[1,4,5])\n",
        "print(fbs)\n",
        "fbs1 = fbs.reindex(np.arange(0,7), method ='ffill')\n",
        "fbs2 = fbs.reindex(np.arange(0,7), method ='bfill')\n",
        "print(fbs1)\n",
        "print(fbs2)"
      ],
      "execution_count": null,
      "outputs": [
        {
          "output_type": "stream",
          "text": [
            "1     5\n",
            "4     7\n",
            "5    11\n",
            "dtype: int64\n",
            "0     NaN\n",
            "1     5.0\n",
            "2     5.0\n",
            "3     5.0\n",
            "4     7.0\n",
            "5    11.0\n",
            "6    11.0\n",
            "dtype: float64\n",
            "0     5.0\n",
            "1     5.0\n",
            "2     7.0\n",
            "3     7.0\n",
            "4     7.0\n",
            "5    11.0\n",
            "6     NaN\n",
            "dtype: float64\n"
          ],
          "name": "stdout"
        }
      ]
    },
    {
      "cell_type": "markdown",
      "metadata": {
        "id": "PtmTShEdayH4"
      },
      "source": [
        "### Practicar con Dataframes"
      ]
    },
    {
      "cell_type": "code",
      "metadata": {
        "colab": {
          "base_uri": "https://localhost:8080/"
        },
        "id": "v1kOPIBqbAon",
        "outputId": "5572cf00-ff05-4d7d-a5de-ab7796f32aa1"
      },
      "source": [
        "df = pd.DataFrame(np.array([[2,1],[1,2]]))\n",
        "print(df)"
      ],
      "execution_count": null,
      "outputs": [
        {
          "output_type": "stream",
          "text": [
            "   0  1\n",
            "0  2  1\n",
            "1  1  2\n"
          ],
          "name": "stdout"
        }
      ]
    },
    {
      "cell_type": "code",
      "metadata": {
        "colab": {
          "base_uri": "https://localhost:8080/"
        },
        "id": "eGdeqSf_cJc4",
        "outputId": "38a317cc-a5b6-4522-f66c-6121fd43abab"
      },
      "source": [
        "df1 = pd.DataFrame([pd.Series(np.arange(7,11)),pd.Series(np.arange(13,17))])\n",
        "print(df1)\n",
        "print(df1.shape)"
      ],
      "execution_count": null,
      "outputs": [
        {
          "output_type": "stream",
          "text": [
            "    0   1   2   3\n",
            "0   7   8   9  10\n",
            "1  13  14  15  16\n",
            "(2, 4)\n"
          ],
          "name": "stdout"
        }
      ]
    },
    {
      "cell_type": "code",
      "metadata": {
        "colab": {
          "base_uri": "https://localhost:8080/"
        },
        "id": "JeKWcpRlcMwy",
        "outputId": "26f2cf74-9018-4ef5-a3b5-089c7d40e471"
      },
      "source": [
        "df = pd.DataFrame(np.array([[2,1],[1,2]]), columns = ['x','y'])\n",
        "print(df)\n",
        "# Cambiar nombre de índices y columnas\n",
        "df.columns = ['x1','x2']\n",
        "df.index = ['y1','y2']\n",
        "print(df)"
      ],
      "execution_count": null,
      "outputs": [
        {
          "output_type": "stream",
          "text": [
            "   x  y\n",
            "0  2  1\n",
            "1  1  2\n",
            "    x1  x2\n",
            "y1   2   1\n",
            "y2   1   2\n"
          ],
          "name": "stdout"
        }
      ]
    },
    {
      "cell_type": "markdown",
      "metadata": {
        "id": "u9NKENPo-fYp"
      },
      "source": [
        "### Crear un Dataframe de un diccionario"
      ]
    },
    {
      "cell_type": "code",
      "metadata": {
        "colab": {
          "base_uri": "https://localhost:8080/"
        },
        "id": "o2HhLszacU6f",
        "outputId": "a1f46747-4c2a-4d53-efd1-3853d0ac3c16"
      },
      "source": [
        "s1 = pd.Series(np.array(['Luis','Ernst','Paola']))\n",
        "s2 = pd.Series(np.array([3.1,2.3,4.1]))\n",
        "df2 = pd.DataFrame({'Name':s1, 'Grade':s2})\n",
        "print(df2)"
      ],
      "execution_count": null,
      "outputs": [
        {
          "output_type": "stream",
          "text": [
            "    Name  Grade\n",
            "0   Luis    3.1\n",
            "1  Ernst    2.3\n",
            "2  Paola    4.1\n"
          ],
          "name": "stdout"
        }
      ]
    },
    {
      "cell_type": "markdown",
      "metadata": {
        "id": "1LyElgxycGAD"
      },
      "source": [
        "### Importar datos"
      ]
    },
    {
      "cell_type": "code",
      "metadata": {
        "colab": {
          "base_uri": "https://localhost:8080/"
        },
        "id": "BpEk9527_QnR",
        "outputId": "7d8b8d1c-99ca-4667-f17c-e9c0df27b573"
      },
      "source": [
        "fb = pd.read_csv('FB.csv', index_col=0 )\n",
        "print(fb)"
      ],
      "execution_count": null,
      "outputs": [
        {
          "output_type": "stream",
          "text": [
            "                  Open        High  ...   Adj Close    Volume\n",
            "Date                                ...                      \n",
            "2016-07-15  117.739998  118.279999  ...  116.860001  16646000\n",
            "2016-07-18  117.320000  119.610001  ...  119.370003  20868400\n",
            "2016-07-19  118.989998  120.849998  ...  120.610001  21541300\n",
            "2016-07-20  121.250000  122.199997  ...  121.919998  20046500\n",
            "2016-07-21  121.919998  122.099998  ...  120.610001  17801700\n",
            "...                ...         ...  ...         ...       ...\n",
            "2021-07-08  345.730011  348.329987  ...  345.649994  14406500\n",
            "2021-07-09  345.320007  350.709991  ...  350.420013  13010400\n",
            "2021-07-12  351.230011  354.190002  ...  353.160004  10018600\n",
            "2021-07-13  351.500000  358.489990  ...  352.089996  11445800\n",
            "2021-07-14  354.559998  355.200012  ...  347.630005  13888900\n",
            "\n",
            "[1258 rows x 6 columns]\n"
          ],
          "name": "stdout"
        }
      ]
    },
    {
      "cell_type": "markdown",
      "metadata": {
        "id": "hGV-x6_pA0wQ"
      },
      "source": [
        "### Imprimir resumen estadístico de las variables"
      ]
    },
    {
      "cell_type": "code",
      "metadata": {
        "colab": {
          "base_uri": "https://localhost:8080/"
        },
        "id": "4rCDwEtfAtL-",
        "outputId": "66c60eda-4d86-4a4e-8b17-6d3f7d109f70"
      },
      "source": [
        "print(fb.describe())"
      ],
      "execution_count": null,
      "outputs": [
        {
          "output_type": "stream",
          "text": [
            "              Open         High  ...    Adj Close        Volume\n",
            "count  1258.000000  1258.000000  ...  1258.000000  1.258000e+03\n",
            "mean    192.192424   194.430898  ...   192.285381  2.055030e+07\n",
            "std      54.408306    55.246849  ...    54.446401  1.245726e+07\n",
            "min     114.480003   116.480003  ...   115.050003  6.046300e+06\n",
            "25%     153.325004   154.907498  ...   153.267505  1.347350e+07\n",
            "50%     179.294998   180.779999  ...   179.544999  1.739895e+07\n",
            "75%     212.442498   214.625000  ...   213.119999  2.323152e+07\n",
            "max     356.500000   358.790009  ...   355.640015  1.698037e+08\n",
            "\n",
            "[8 rows x 6 columns]\n"
          ],
          "name": "stdout"
        }
      ]
    },
    {
      "cell_type": "markdown",
      "metadata": {
        "id": "7DYgsearByT3"
      },
      "source": [
        "# Caso práctico: análisis de precios de activos financieros"
      ]
    },
    {
      "cell_type": "code",
      "metadata": {
        "colab": {
          "base_uri": "https://localhost:8080/",
          "height": 883
        },
        "id": "MSx3jrceHMaE",
        "outputId": "d24046e0-69a6-4d2e-ef4e-6149629791a8"
      },
      "source": [
        "aapl = pd.read_csv('AAPL.csv', index_col = 0)\n",
        "msft = pd.read_csv('MSFT.csv', index_col = 0)\n",
        "display(aapl)\n",
        "display(msft)"
      ],
      "execution_count": null,
      "outputs": [
        {
          "output_type": "display_data",
          "data": {
            "text/html": [
              "<div>\n",
              "<style scoped>\n",
              "    .dataframe tbody tr th:only-of-type {\n",
              "        vertical-align: middle;\n",
              "    }\n",
              "\n",
              "    .dataframe tbody tr th {\n",
              "        vertical-align: top;\n",
              "    }\n",
              "\n",
              "    .dataframe thead th {\n",
              "        text-align: right;\n",
              "    }\n",
              "</style>\n",
              "<table border=\"1\" class=\"dataframe\">\n",
              "  <thead>\n",
              "    <tr style=\"text-align: right;\">\n",
              "      <th></th>\n",
              "      <th>Open</th>\n",
              "      <th>High</th>\n",
              "      <th>Low</th>\n",
              "      <th>Close</th>\n",
              "      <th>Adj Close</th>\n",
              "      <th>Volume</th>\n",
              "    </tr>\n",
              "    <tr>\n",
              "      <th>Date</th>\n",
              "      <th></th>\n",
              "      <th></th>\n",
              "      <th></th>\n",
              "      <th></th>\n",
              "      <th></th>\n",
              "      <th></th>\n",
              "    </tr>\n",
              "  </thead>\n",
              "  <tbody>\n",
              "    <tr>\n",
              "      <th>2016-07-15</th>\n",
              "      <td>24.730000</td>\n",
              "      <td>24.825001</td>\n",
              "      <td>24.625000</td>\n",
              "      <td>24.695000</td>\n",
              "      <td>23.069700</td>\n",
              "      <td>120548000</td>\n",
              "    </tr>\n",
              "    <tr>\n",
              "      <th>2016-07-18</th>\n",
              "      <td>24.674999</td>\n",
              "      <td>25.032499</td>\n",
              "      <td>24.650000</td>\n",
              "      <td>24.957500</td>\n",
              "      <td>23.314920</td>\n",
              "      <td>145975600</td>\n",
              "    </tr>\n",
              "    <tr>\n",
              "      <th>2016-07-19</th>\n",
              "      <td>24.889999</td>\n",
              "      <td>25.000000</td>\n",
              "      <td>24.834999</td>\n",
              "      <td>24.967501</td>\n",
              "      <td>23.324263</td>\n",
              "      <td>95119600</td>\n",
              "    </tr>\n",
              "    <tr>\n",
              "      <th>2016-07-20</th>\n",
              "      <td>25.000000</td>\n",
              "      <td>25.115000</td>\n",
              "      <td>24.934999</td>\n",
              "      <td>24.990000</td>\n",
              "      <td>23.345284</td>\n",
              "      <td>105104000</td>\n",
              "    </tr>\n",
              "    <tr>\n",
              "      <th>2016-07-21</th>\n",
              "      <td>24.957500</td>\n",
              "      <td>25.250000</td>\n",
              "      <td>24.782499</td>\n",
              "      <td>24.857500</td>\n",
              "      <td>23.221504</td>\n",
              "      <td>130808000</td>\n",
              "    </tr>\n",
              "    <tr>\n",
              "      <th>...</th>\n",
              "      <td>...</td>\n",
              "      <td>...</td>\n",
              "      <td>...</td>\n",
              "      <td>...</td>\n",
              "      <td>...</td>\n",
              "      <td>...</td>\n",
              "    </tr>\n",
              "    <tr>\n",
              "      <th>2021-07-08</th>\n",
              "      <td>141.580002</td>\n",
              "      <td>144.059998</td>\n",
              "      <td>140.669998</td>\n",
              "      <td>143.240005</td>\n",
              "      <td>143.240005</td>\n",
              "      <td>105575500</td>\n",
              "    </tr>\n",
              "    <tr>\n",
              "      <th>2021-07-09</th>\n",
              "      <td>142.750000</td>\n",
              "      <td>145.649994</td>\n",
              "      <td>142.649994</td>\n",
              "      <td>145.110001</td>\n",
              "      <td>145.110001</td>\n",
              "      <td>99788400</td>\n",
              "    </tr>\n",
              "    <tr>\n",
              "      <th>2021-07-12</th>\n",
              "      <td>146.210007</td>\n",
              "      <td>146.320007</td>\n",
              "      <td>144.000000</td>\n",
              "      <td>144.500000</td>\n",
              "      <td>144.500000</td>\n",
              "      <td>76299700</td>\n",
              "    </tr>\n",
              "    <tr>\n",
              "      <th>2021-07-13</th>\n",
              "      <td>144.029999</td>\n",
              "      <td>147.460007</td>\n",
              "      <td>143.630005</td>\n",
              "      <td>145.639999</td>\n",
              "      <td>145.639999</td>\n",
              "      <td>100698900</td>\n",
              "    </tr>\n",
              "    <tr>\n",
              "      <th>2021-07-14</th>\n",
              "      <td>148.100006</td>\n",
              "      <td>149.570007</td>\n",
              "      <td>147.679993</td>\n",
              "      <td>149.149994</td>\n",
              "      <td>149.149994</td>\n",
              "      <td>126871000</td>\n",
              "    </tr>\n",
              "  </tbody>\n",
              "</table>\n",
              "<p>1258 rows × 6 columns</p>\n",
              "</div>"
            ],
            "text/plain": [
              "                  Open        High  ...   Adj Close     Volume\n",
              "Date                                ...                       \n",
              "2016-07-15   24.730000   24.825001  ...   23.069700  120548000\n",
              "2016-07-18   24.674999   25.032499  ...   23.314920  145975600\n",
              "2016-07-19   24.889999   25.000000  ...   23.324263   95119600\n",
              "2016-07-20   25.000000   25.115000  ...   23.345284  105104000\n",
              "2016-07-21   24.957500   25.250000  ...   23.221504  130808000\n",
              "...                ...         ...  ...         ...        ...\n",
              "2021-07-08  141.580002  144.059998  ...  143.240005  105575500\n",
              "2021-07-09  142.750000  145.649994  ...  145.110001   99788400\n",
              "2021-07-12  146.210007  146.320007  ...  144.500000   76299700\n",
              "2021-07-13  144.029999  147.460007  ...  145.639999  100698900\n",
              "2021-07-14  148.100006  149.570007  ...  149.149994  126871000\n",
              "\n",
              "[1258 rows x 6 columns]"
            ]
          },
          "metadata": {
            "tags": []
          }
        },
        {
          "output_type": "display_data",
          "data": {
            "text/html": [
              "<div>\n",
              "<style scoped>\n",
              "    .dataframe tbody tr th:only-of-type {\n",
              "        vertical-align: middle;\n",
              "    }\n",
              "\n",
              "    .dataframe tbody tr th {\n",
              "        vertical-align: top;\n",
              "    }\n",
              "\n",
              "    .dataframe thead th {\n",
              "        text-align: right;\n",
              "    }\n",
              "</style>\n",
              "<table border=\"1\" class=\"dataframe\">\n",
              "  <thead>\n",
              "    <tr style=\"text-align: right;\">\n",
              "      <th></th>\n",
              "      <th>Open</th>\n",
              "      <th>High</th>\n",
              "      <th>Low</th>\n",
              "      <th>Close</th>\n",
              "      <th>Adj Close</th>\n",
              "      <th>Volume</th>\n",
              "    </tr>\n",
              "    <tr>\n",
              "      <th>Date</th>\n",
              "      <th></th>\n",
              "      <th></th>\n",
              "      <th></th>\n",
              "      <th></th>\n",
              "      <th></th>\n",
              "      <th></th>\n",
              "    </tr>\n",
              "  </thead>\n",
              "  <tbody>\n",
              "    <tr>\n",
              "      <th>2016-07-15</th>\n",
              "      <td>53.950001</td>\n",
              "      <td>54.000000</td>\n",
              "      <td>53.209999</td>\n",
              "      <td>53.700001</td>\n",
              "      <td>49.471569</td>\n",
              "      <td>32024400</td>\n",
              "    </tr>\n",
              "    <tr>\n",
              "      <th>2016-07-18</th>\n",
              "      <td>53.700001</td>\n",
              "      <td>54.340000</td>\n",
              "      <td>53.549999</td>\n",
              "      <td>53.959999</td>\n",
              "      <td>49.711090</td>\n",
              "      <td>31433900</td>\n",
              "    </tr>\n",
              "    <tr>\n",
              "      <th>2016-07-19</th>\n",
              "      <td>53.709999</td>\n",
              "      <td>53.900002</td>\n",
              "      <td>52.930000</td>\n",
              "      <td>53.090000</td>\n",
              "      <td>48.909595</td>\n",
              "      <td>53336500</td>\n",
              "    </tr>\n",
              "    <tr>\n",
              "      <th>2016-07-20</th>\n",
              "      <td>56.150002</td>\n",
              "      <td>56.840000</td>\n",
              "      <td>55.529999</td>\n",
              "      <td>55.910000</td>\n",
              "      <td>51.507542</td>\n",
              "      <td>89893300</td>\n",
              "    </tr>\n",
              "    <tr>\n",
              "      <th>2016-07-21</th>\n",
              "      <td>55.980000</td>\n",
              "      <td>56.230000</td>\n",
              "      <td>55.759998</td>\n",
              "      <td>55.799999</td>\n",
              "      <td>51.406200</td>\n",
              "      <td>32776700</td>\n",
              "    </tr>\n",
              "    <tr>\n",
              "      <th>...</th>\n",
              "      <td>...</td>\n",
              "      <td>...</td>\n",
              "      <td>...</td>\n",
              "      <td>...</td>\n",
              "      <td>...</td>\n",
              "      <td>...</td>\n",
              "    </tr>\n",
              "    <tr>\n",
              "      <th>2021-07-08</th>\n",
              "      <td>276.899994</td>\n",
              "      <td>278.730011</td>\n",
              "      <td>274.869995</td>\n",
              "      <td>277.420013</td>\n",
              "      <td>277.420013</td>\n",
              "      <td>24618600</td>\n",
              "    </tr>\n",
              "    <tr>\n",
              "      <th>2021-07-09</th>\n",
              "      <td>275.720001</td>\n",
              "      <td>278.049988</td>\n",
              "      <td>275.320007</td>\n",
              "      <td>277.940002</td>\n",
              "      <td>277.940002</td>\n",
              "      <td>23905500</td>\n",
              "    </tr>\n",
              "    <tr>\n",
              "      <th>2021-07-12</th>\n",
              "      <td>279.160004</td>\n",
              "      <td>279.769989</td>\n",
              "      <td>276.579987</td>\n",
              "      <td>277.320007</td>\n",
              "      <td>277.320007</td>\n",
              "      <td>18931700</td>\n",
              "    </tr>\n",
              "    <tr>\n",
              "      <th>2021-07-13</th>\n",
              "      <td>277.519989</td>\n",
              "      <td>282.850006</td>\n",
              "      <td>277.390015</td>\n",
              "      <td>280.980011</td>\n",
              "      <td>280.980011</td>\n",
              "      <td>26107500</td>\n",
              "    </tr>\n",
              "    <tr>\n",
              "      <th>2021-07-14</th>\n",
              "      <td>282.350006</td>\n",
              "      <td>283.660004</td>\n",
              "      <td>280.549988</td>\n",
              "      <td>282.510010</td>\n",
              "      <td>282.510010</td>\n",
              "      <td>23105600</td>\n",
              "    </tr>\n",
              "  </tbody>\n",
              "</table>\n",
              "<p>1258 rows × 6 columns</p>\n",
              "</div>"
            ],
            "text/plain": [
              "                  Open        High  ...   Adj Close    Volume\n",
              "Date                                ...                      \n",
              "2016-07-15   53.950001   54.000000  ...   49.471569  32024400\n",
              "2016-07-18   53.700001   54.340000  ...   49.711090  31433900\n",
              "2016-07-19   53.709999   53.900002  ...   48.909595  53336500\n",
              "2016-07-20   56.150002   56.840000  ...   51.507542  89893300\n",
              "2016-07-21   55.980000   56.230000  ...   51.406200  32776700\n",
              "...                ...         ...  ...         ...       ...\n",
              "2021-07-08  276.899994  278.730011  ...  277.420013  24618600\n",
              "2021-07-09  275.720001  278.049988  ...  277.940002  23905500\n",
              "2021-07-12  279.160004  279.769989  ...  277.320007  18931700\n",
              "2021-07-13  277.519989  282.850006  ...  280.980011  26107500\n",
              "2021-07-14  282.350006  283.660004  ...  282.510010  23105600\n",
              "\n",
              "[1258 rows x 6 columns]"
            ]
          },
          "metadata": {
            "tags": []
          }
        }
      ]
    },
    {
      "cell_type": "code",
      "metadata": {
        "colab": {
          "base_uri": "https://localhost:8080/",
          "height": 408
        },
        "id": "pPBcKpy4Hcel",
        "outputId": "b1262b81-16d6-4999-82f4-39be863f9910"
      },
      "source": [
        "aapl1 = aapl.loc['2020-01-01':'2020-02-01', 'Adj Close']\n",
        "aapl2 = aapl.loc['2020-02-01':'2020-03-01', 'Adj Close']\n",
        "msft1 = msft.loc['2020-01-01':'2020-02-01', 'Adj Close']\n",
        "display(aapl1)"
      ],
      "execution_count": null,
      "outputs": [
        {
          "output_type": "display_data",
          "data": {
            "text/plain": [
              "Date\n",
              "2020-01-02    74.207466\n",
              "2020-01-03    73.486023\n",
              "2020-01-06    74.071579\n",
              "2020-01-07    73.723213\n",
              "2020-01-08    74.909149\n",
              "2020-01-09    76.500275\n",
              "2020-01-10    76.673225\n",
              "2020-01-13    78.311295\n",
              "2020-01-14    77.253838\n",
              "2020-01-15    76.922775\n",
              "2020-01-16    77.886337\n",
              "2020-01-17    78.748619\n",
              "2020-01-21    78.214951\n",
              "2020-01-22    78.494141\n",
              "2020-01-23    78.872154\n",
              "2020-01-24    78.644852\n",
              "2020-01-27    76.332275\n",
              "2020-01-28    78.491669\n",
              "2020-01-29    80.134674\n",
              "2020-01-30    80.018555\n",
              "2020-01-31    76.470634\n",
              "Name: Adj Close, dtype: float64"
            ]
          },
          "metadata": {
            "tags": []
          }
        }
      ]
    },
    {
      "cell_type": "markdown",
      "metadata": {
        "id": "_VcK9miKJ7T0"
      },
      "source": [
        "### pd.concat()"
      ]
    },
    {
      "cell_type": "code",
      "metadata": {
        "colab": {
          "base_uri": "https://localhost:8080/"
        },
        "id": "QSn2XdqKJ4px",
        "outputId": "fc48104a-6aad-4a14-c1ec-da7e2d3a5e4f"
      },
      "source": [
        "ckt = pd.concat([aapl1.head(3), aapl2.head(3)])\n",
        "print(ckt)"
      ],
      "execution_count": null,
      "outputs": [
        {
          "output_type": "stream",
          "text": [
            "Date\n",
            "2020-01-02    74.207466\n",
            "2020-01-03    73.486023\n",
            "2020-01-06    74.071579\n",
            "2020-02-03    76.260628\n",
            "2020-02-04    78.778267\n",
            "2020-02-05    79.420647\n",
            "Name: Adj Close, dtype: float64\n"
          ],
          "name": "stdout"
        }
      ]
    },
    {
      "cell_type": "code",
      "metadata": {
        "colab": {
          "base_uri": "https://localhost:8080/",
          "height": 450
        },
        "id": "pdmOYfE8MSPw",
        "outputId": "b517666d-fad1-419e-973a-0d1e9c4cca6d"
      },
      "source": [
        "data = pd.concat([aapl, msft], keys = ['AAPL', 'MSFT'], names=['Ticker','Date'])\n",
        "display(data)"
      ],
      "execution_count": null,
      "outputs": [
        {
          "output_type": "display_data",
          "data": {
            "text/html": [
              "<div>\n",
              "<style scoped>\n",
              "    .dataframe tbody tr th:only-of-type {\n",
              "        vertical-align: middle;\n",
              "    }\n",
              "\n",
              "    .dataframe tbody tr th {\n",
              "        vertical-align: top;\n",
              "    }\n",
              "\n",
              "    .dataframe thead th {\n",
              "        text-align: right;\n",
              "    }\n",
              "</style>\n",
              "<table border=\"1\" class=\"dataframe\">\n",
              "  <thead>\n",
              "    <tr style=\"text-align: right;\">\n",
              "      <th></th>\n",
              "      <th></th>\n",
              "      <th>Open</th>\n",
              "      <th>High</th>\n",
              "      <th>Low</th>\n",
              "      <th>Close</th>\n",
              "      <th>Adj Close</th>\n",
              "      <th>Volume</th>\n",
              "    </tr>\n",
              "    <tr>\n",
              "      <th>Ticker</th>\n",
              "      <th>Date</th>\n",
              "      <th></th>\n",
              "      <th></th>\n",
              "      <th></th>\n",
              "      <th></th>\n",
              "      <th></th>\n",
              "      <th></th>\n",
              "    </tr>\n",
              "  </thead>\n",
              "  <tbody>\n",
              "    <tr>\n",
              "      <th rowspan=\"5\" valign=\"top\">AAPL</th>\n",
              "      <th>2016-07-15</th>\n",
              "      <td>24.730000</td>\n",
              "      <td>24.825001</td>\n",
              "      <td>24.625000</td>\n",
              "      <td>24.695000</td>\n",
              "      <td>23.069700</td>\n",
              "      <td>120548000</td>\n",
              "    </tr>\n",
              "    <tr>\n",
              "      <th>2016-07-18</th>\n",
              "      <td>24.674999</td>\n",
              "      <td>25.032499</td>\n",
              "      <td>24.650000</td>\n",
              "      <td>24.957500</td>\n",
              "      <td>23.314920</td>\n",
              "      <td>145975600</td>\n",
              "    </tr>\n",
              "    <tr>\n",
              "      <th>2016-07-19</th>\n",
              "      <td>24.889999</td>\n",
              "      <td>25.000000</td>\n",
              "      <td>24.834999</td>\n",
              "      <td>24.967501</td>\n",
              "      <td>23.324263</td>\n",
              "      <td>95119600</td>\n",
              "    </tr>\n",
              "    <tr>\n",
              "      <th>2016-07-20</th>\n",
              "      <td>25.000000</td>\n",
              "      <td>25.115000</td>\n",
              "      <td>24.934999</td>\n",
              "      <td>24.990000</td>\n",
              "      <td>23.345284</td>\n",
              "      <td>105104000</td>\n",
              "    </tr>\n",
              "    <tr>\n",
              "      <th>2016-07-21</th>\n",
              "      <td>24.957500</td>\n",
              "      <td>25.250000</td>\n",
              "      <td>24.782499</td>\n",
              "      <td>24.857500</td>\n",
              "      <td>23.221504</td>\n",
              "      <td>130808000</td>\n",
              "    </tr>\n",
              "    <tr>\n",
              "      <th>...</th>\n",
              "      <th>...</th>\n",
              "      <td>...</td>\n",
              "      <td>...</td>\n",
              "      <td>...</td>\n",
              "      <td>...</td>\n",
              "      <td>...</td>\n",
              "      <td>...</td>\n",
              "    </tr>\n",
              "    <tr>\n",
              "      <th rowspan=\"5\" valign=\"top\">MSFT</th>\n",
              "      <th>2021-07-08</th>\n",
              "      <td>276.899994</td>\n",
              "      <td>278.730011</td>\n",
              "      <td>274.869995</td>\n",
              "      <td>277.420013</td>\n",
              "      <td>277.420013</td>\n",
              "      <td>24618600</td>\n",
              "    </tr>\n",
              "    <tr>\n",
              "      <th>2021-07-09</th>\n",
              "      <td>275.720001</td>\n",
              "      <td>278.049988</td>\n",
              "      <td>275.320007</td>\n",
              "      <td>277.940002</td>\n",
              "      <td>277.940002</td>\n",
              "      <td>23905500</td>\n",
              "    </tr>\n",
              "    <tr>\n",
              "      <th>2021-07-12</th>\n",
              "      <td>279.160004</td>\n",
              "      <td>279.769989</td>\n",
              "      <td>276.579987</td>\n",
              "      <td>277.320007</td>\n",
              "      <td>277.320007</td>\n",
              "      <td>18931700</td>\n",
              "    </tr>\n",
              "    <tr>\n",
              "      <th>2021-07-13</th>\n",
              "      <td>277.519989</td>\n",
              "      <td>282.850006</td>\n",
              "      <td>277.390015</td>\n",
              "      <td>280.980011</td>\n",
              "      <td>280.980011</td>\n",
              "      <td>26107500</td>\n",
              "    </tr>\n",
              "    <tr>\n",
              "      <th>2021-07-14</th>\n",
              "      <td>282.350006</td>\n",
              "      <td>283.660004</td>\n",
              "      <td>280.549988</td>\n",
              "      <td>282.510010</td>\n",
              "      <td>282.510010</td>\n",
              "      <td>23105600</td>\n",
              "    </tr>\n",
              "  </tbody>\n",
              "</table>\n",
              "<p>2516 rows × 6 columns</p>\n",
              "</div>"
            ],
            "text/plain": [
              "                         Open        High  ...   Adj Close     Volume\n",
              "Ticker Date                                ...                       \n",
              "AAPL   2016-07-15   24.730000   24.825001  ...   23.069700  120548000\n",
              "       2016-07-18   24.674999   25.032499  ...   23.314920  145975600\n",
              "       2016-07-19   24.889999   25.000000  ...   23.324263   95119600\n",
              "       2016-07-20   25.000000   25.115000  ...   23.345284  105104000\n",
              "       2016-07-21   24.957500   25.250000  ...   23.221504  130808000\n",
              "...                       ...         ...  ...         ...        ...\n",
              "MSFT   2021-07-08  276.899994  278.730011  ...  277.420013   24618600\n",
              "       2021-07-09  275.720001  278.049988  ...  277.940002   23905500\n",
              "       2021-07-12  279.160004  279.769989  ...  277.320007   18931700\n",
              "       2021-07-13  277.519989  282.850006  ...  280.980011   26107500\n",
              "       2021-07-14  282.350006  283.660004  ...  282.510010   23105600\n",
              "\n",
              "[2516 rows x 6 columns]"
            ]
          },
          "metadata": {
            "tags": []
          }
        }
      ]
    },
    {
      "cell_type": "code",
      "metadata": {
        "colab": {
          "base_uri": "https://localhost:8080/"
        },
        "id": "3nbl6waxNonT",
        "outputId": "a8706ace-67a5-411d-a884-fe5d27ab68cf"
      },
      "source": [
        "adjclose_data = data['Adj Close'].reset_index()\n",
        "# Organizar datos\n",
        "daily_data = adjclose_data.pivot('Date', 'Ticker','Adj Close')\n",
        "print(daily_data.head())"
      ],
      "execution_count": null,
      "outputs": [
        {
          "output_type": "stream",
          "text": [
            "Ticker           AAPL       MSFT\n",
            "Date                            \n",
            "2016-07-15  23.069700  49.471569\n",
            "2016-07-18  23.314920  49.711090\n",
            "2016-07-19  23.324263  48.909595\n",
            "2016-07-20  23.345284  51.507542\n",
            "2016-07-21  23.221504  51.406200\n"
          ],
          "name": "stdout"
        }
      ]
    },
    {
      "cell_type": "code",
      "metadata": {
        "colab": {
          "base_uri": "https://localhost:8080/",
          "height": 225
        },
        "id": "bBelPCkeOPSv",
        "outputId": "8317a781-5ace-43de-f9c7-40cfb8c2f657"
      },
      "source": [
        "import matplotlib.pyplot as plt\n",
        "\n",
        "daily_data.plot(figsize=(10, 3))\n",
        "plt.legend(fontsize='small')\n",
        "plt.show()"
      ],
      "execution_count": null,
      "outputs": [
        {
          "output_type": "display_data",
          "data": {
            "image/png": "[encoded data removed]",
            "text/plain": [
              "<Figure size 720x216 with 1 Axes>"
            ]
          },
          "metadata": {
            "tags": [],
            "needs_background": "light"
          }
        }
      ]
    },
    {
      "cell_type": "code",
      "metadata": {
        "colab": {
          "base_uri": "https://localhost:8080/",
          "height": 242
        },
        "id": "vojJLn7aKdx6",
        "outputId": "fc9202a1-9bdd-45ef-80df-a6776fa1f873"
      },
      "source": [
        "daily_data['AAPL'].plot(figsize=(10, 3))"
      ],
      "execution_count": null,
      "outputs": [
        {
          "output_type": "execute_result",
          "data": {
            "text/plain": [
              "<matplotlib.axes._subplots.AxesSubplot at 0x7fb2539b78d0>"
            ]
          },
          "metadata": {
            "tags": []
          },
          "execution_count": 93
        },
        {
          "output_type": "display_data",
          "data": {
            "image/png": "[encoded data removed]",
            "text/plain": [
              "<Figure size 720x216 with 1 Axes>"
            ]
          },
          "metadata": {
            "tags": [],
            "needs_background": "light"
          }
        }
      ]
    },
    {
      "cell_type": "markdown",
      "metadata": {
        "id": "qKnOVX0PQqDt"
      },
      "source": [
        "### Retornos"
      ]
    },
    {
      "cell_type": "code",
      "metadata": {
        "colab": {
          "base_uri": "https://localhost:8080/",
          "height": 258
        },
        "id": "JbiiRgy1Kroy",
        "outputId": "eeab3773-2f80-4731-e3a1-ee05bd90ad52"
      },
      "source": [
        "d_logret = np.log(daily_data/daily_data.shift(1))\n",
        "d_logret.fillna(0, inplace=True)\n",
        "d_logret.plot(title='Log-Retornos diarios', figsize=(10, 3))\n",
        "plt.legend(fontsize='small')"
      ],
      "execution_count": null,
      "outputs": [
        {
          "output_type": "execute_result",
          "data": {
            "text/plain": [
              "<matplotlib.legend.Legend at 0x7fb25346c550>"
            ]
          },
          "metadata": {
            "tags": []
          },
          "execution_count": 94
        },
        {
          "output_type": "display_data",
          "data": {
            "image/png": "[encoded data removed]",
            "text/plain": [
              "<Figure size 720x216 with 1 Axes>"
            ]
          },
          "metadata": {
            "tags": [],
            "needs_background": "light"
          }
        }
      ]
    },
    {
      "cell_type": "markdown",
      "metadata": {
        "id": "Q13Rc_hRPVDk"
      },
      "source": [
        "### Retornos acumulados"
      ]
    },
    {
      "cell_type": "code",
      "metadata": {
        "colab": {
          "base_uri": "https://localhost:8080/",
          "height": 225
        },
        "id": "9jCvcTphPXsC",
        "outputId": "954df3bb-b5c2-4c49-ea40-9617d273378f"
      },
      "source": [
        "cumret = np.exp(d_logret.cumsum())\n",
        "cumret.plot(figsize=(10, 3))\n",
        "plt.show()"
      ],
      "execution_count": null,
      "outputs": [
        {
          "output_type": "display_data",
          "data": {
            "image/png": "[encoded data removed]",
            "text/plain": [
              "<Figure size 720x216 with 1 Axes>"
            ]
          },
          "metadata": {
            "tags": [],
            "needs_background": "light"
          }
        }
      ]
    },
    {
      "cell_type": "markdown",
      "metadata": {
        "id": "Re_K4irtPv-1"
      },
      "source": [
        "### Distribución de los retornos"
      ]
    },
    {
      "cell_type": "code",
      "metadata": {
        "colab": {
          "base_uri": "https://localhost:8080/",
          "height": 545
        },
        "id": "2xx-k-7LE-Ex",
        "outputId": "760a3123-8f5a-4129-a9c3-673384d5a7ec"
      },
      "source": [
        "aapl = d_logret['AAPL']\n",
        "aapl.hist(bins=20)\n",
        "plt.title(\"Distribución Retornos de Apple\")\n",
        "d_logret.hist(bins=20, sharex=True)\n",
        "plt.show()"
      ],
      "execution_count": null,
      "outputs": [
        {
          "output_type": "display_data",
          "data": {
            "image/png": "[encoded data removed]",
            "text/plain": [
              "<Figure size 432x288 with 1 Axes>"
            ]
          },
          "metadata": {
            "tags": [],
            "needs_background": "light"
          }
        },
        {
          "output_type": "display_data",
          "data": {
            "image/png": "[encoded data removed]",
            "text/plain": [
              "<Figure size 432x288 with 2 Axes>"
            ]
          },
          "metadata": {
            "tags": [],
            "needs_background": "light"
          }
        }
      ]
    },
    {
      "cell_type": "markdown",
      "metadata": {
        "id": "1UOF865EEvUL"
      },
      "source": [
        "### Cajas y bigotes"
      ]
    },
    {
      "cell_type": "code",
      "metadata": {
        "colab": {
          "base_uri": "https://localhost:8080/",
          "height": 265
        },
        "id": "W9fGGmIxT92e",
        "outputId": "d940850a-e1cd-4c10-8c9d-c8f2a2b37e36"
      },
      "source": [
        "d_logret.plot(kind='box')\n",
        "plt.show()"
      ],
      "execution_count": null,
      "outputs": [
        {
          "output_type": "display_data",
          "data": {
            "image/png": "[encoded data removed]",
            "text/plain": [
              "<Figure size 432x288 with 1 Axes>"
            ]
          },
          "metadata": {
            "tags": [],
            "needs_background": "light"
          }
        }
      ]
    },
    {
      "cell_type": "markdown",
      "metadata": {
        "id": "MF3g1V8VFIoL"
      },
      "source": [
        "Comparar todo"
      ]
    },
    {
      "cell_type": "code",
      "metadata": {
        "colab": {
          "base_uri": "https://localhost:8080/",
          "height": 289
        },
        "id": "RH_GmmdfG_yW",
        "outputId": "8c3f7a0c-ccbe-41df-f9ff-19c241865303"
      },
      "source": [
        "pd.plotting.scatter_matrix(d_logret, diagonal ='kde', alpha=0.2)\n",
        "plt.show()"
      ],
      "execution_count": null,
      "outputs": [
        {
          "output_type": "display_data",
          "data": {
            "image/png": "[encoded data removed]",
            "text/plain": [
              "<Figure size 432x288 with 4 Axes>"
            ]
          },
          "metadata": {
            "tags": [],
            "needs_background": "light"
          }
        }
      ]
    },
    {
      "cell_type": "markdown",
      "metadata": {
        "id": "zIg13lptIN7d"
      },
      "source": [
        "# Manipulación de fechas: datetime"
      ]
    },
    {
      "cell_type": "code",
      "metadata": {
        "id": "0x90KtEXIdoH"
      },
      "source": [
        "import datetime"
      ],
      "execution_count": null,
      "outputs": []
    },
    {
      "cell_type": "code",
      "metadata": {
        "colab": {
          "base_uri": "https://localhost:8080/"
        },
        "id": "mEJPs5T5IL5D",
        "outputId": "aaf5a2f7-3383-4806-b87a-a337788061f8"
      },
      "source": [
        "now = datetime.datetime.now() #año - mes - día - hora - minuto - segundo - milisegundo\n",
        "print(now)\n",
        "print(now.date())\n",
        "print(now.year)\n",
        "print(now.month) \n",
        "print(now.strftime('%A')) #String día de la semana full\n",
        "print(now.strftime('%a')) #String día de la semana corto\n",
        "print(now.strftime('%w')) #String día de la semana como número\n",
        "print(now.strftime('%d')) #String día del mes\n",
        "print(now.strftime('%b')) #String nombre del mes corto\n",
        "print(now.strftime('%B')) #String nombre del mes full\n",
        "print(now.strftime('%m')) #String número del mes\n",
        "print(now.strftime('%y')) #String año corto\n",
        "print(now.strftime('%Y')) #String año full\n",
        "print(now.strftime('%H')) #String hora formato 24h\n",
        "print(now.strftime('%I')) #String hora formato 12h\n",
        "print(now.strftime('%M')) #String minuto\n",
        "print(now.strftime('%S')) #String segundo"
      ],
      "execution_count": null,
      "outputs": [
        {
          "output_type": "stream",
          "text": [
            "2021-07-16 17:38:13.951794\n",
            "2021-07-16\n",
            "2021\n",
            "7\n",
            "Friday\n",
            "Fri\n",
            "5\n",
            "16\n",
            "Jul\n",
            "July\n",
            "07\n",
            "21\n",
            "2021\n",
            "17\n",
            "05\n",
            "38\n",
            "13\n"
          ],
          "name": "stdout"
        }
      ]
    },
    {
      "cell_type": "code",
      "metadata": {
        "colab": {
          "base_uri": "https://localhost:8080/",
          "height": 350
        },
        "id": "gR7aY3xSL8Rn",
        "outputId": "f131e927-6db0-415f-da37-e2fd4c40dcab"
      },
      "source": [
        "'''import locale\n",
        "locale.setlocale(locale.LC_ALL, 'es_ES.ISO8859-15') #En español\n",
        "now = datetime.datetime.now() #año - mes - día - hora - minuto - segundo - milisegundo\n",
        "print(now)\n",
        "print(now.date())\n",
        "print(now.year)\n",
        "print(now.month) \n",
        "print(now.strftime('%A')) #String día de la semana full\n",
        "print(now.strftime('%a')) #String día de la semana corto\n",
        "print(now.strftime('%d')) #String día del mes\n",
        "print(now.strftime('%b')) #String nombre del mes corto\n",
        "print(now.strftime('%B')) #String nombre del mes full'''"
      ],
      "execution_count": 4,
      "outputs": [
        {
          "output_type": "error",
          "ename": "Error",
          "evalue": "ignored",
          "traceback": [
            "\u001b[0;31m---------------------------------------------------------------------------\u001b[0m",
            "\u001b[0;31mError\u001b[0m                                     Traceback (most recent call last)",
            "\u001b[0;32m<ipython-input-4-f78b495b4d3b>\u001b[0m in \u001b[0;36m<module>\u001b[0;34m()\u001b[0m\n\u001b[1;32m      1\u001b[0m \u001b[0;32mimport\u001b[0m \u001b[0mlocale\u001b[0m\u001b[0;34m\u001b[0m\u001b[0;34m\u001b[0m\u001b[0m\n\u001b[0;32m----> 2\u001b[0;31m \u001b[0mlocale\u001b[0m\u001b[0;34m.\u001b[0m\u001b[0msetlocale\u001b[0m\u001b[0;34m(\u001b[0m\u001b[0mlocale\u001b[0m\u001b[0;34m.\u001b[0m\u001b[0mLC_ALL\u001b[0m\u001b[0;34m,\u001b[0m \u001b[0;34m'es_ES.ISO8859-15'\u001b[0m\u001b[0;34m)\u001b[0m \u001b[0;31m#En español\u001b[0m\u001b[0;34m\u001b[0m\u001b[0;34m\u001b[0m\u001b[0m\n\u001b[0m\u001b[1;32m      3\u001b[0m \u001b[0mnow\u001b[0m \u001b[0;34m=\u001b[0m \u001b[0mdatetime\u001b[0m\u001b[0;34m.\u001b[0m\u001b[0mdatetime\u001b[0m\u001b[0;34m.\u001b[0m\u001b[0mnow\u001b[0m\u001b[0;34m(\u001b[0m\u001b[0;34m)\u001b[0m \u001b[0;31m#año - mes - día - hora - minuto - segundo - milisegundo\u001b[0m\u001b[0;34m\u001b[0m\u001b[0;34m\u001b[0m\u001b[0m\n\u001b[1;32m      4\u001b[0m \u001b[0mprint\u001b[0m\u001b[0;34m(\u001b[0m\u001b[0mnow\u001b[0m\u001b[0;34m)\u001b[0m\u001b[0;34m\u001b[0m\u001b[0;34m\u001b[0m\u001b[0m\n\u001b[1;32m      5\u001b[0m \u001b[0mprint\u001b[0m\u001b[0;34m(\u001b[0m\u001b[0mnow\u001b[0m\u001b[0;34m.\u001b[0m\u001b[0mdate\u001b[0m\u001b[0;34m(\u001b[0m\u001b[0;34m)\u001b[0m\u001b[0;34m)\u001b[0m\u001b[0;34m\u001b[0m\u001b[0;34m\u001b[0m\u001b[0m\n",
            "\u001b[0;32m/usr/lib/python3.7/locale.py\u001b[0m in \u001b[0;36msetlocale\u001b[0;34m(category, locale)\u001b[0m\n\u001b[1;32m    606\u001b[0m         \u001b[0;31m# convert to string\u001b[0m\u001b[0;34m\u001b[0m\u001b[0;34m\u001b[0m\u001b[0;34m\u001b[0m\u001b[0m\n\u001b[1;32m    607\u001b[0m         \u001b[0mlocale\u001b[0m \u001b[0;34m=\u001b[0m \u001b[0mnormalize\u001b[0m\u001b[0;34m(\u001b[0m\u001b[0m_build_localename\u001b[0m\u001b[0;34m(\u001b[0m\u001b[0mlocale\u001b[0m\u001b[0;34m)\u001b[0m\u001b[0;34m)\u001b[0m\u001b[0;34m\u001b[0m\u001b[0;34m\u001b[0m\u001b[0m\n\u001b[0;32m--> 608\u001b[0;31m     \u001b[0;32mreturn\u001b[0m \u001b[0m_setlocale\u001b[0m\u001b[0;34m(\u001b[0m\u001b[0mcategory\u001b[0m\u001b[0;34m,\u001b[0m \u001b[0mlocale\u001b[0m\u001b[0;34m)\u001b[0m\u001b[0;34m\u001b[0m\u001b[0;34m\u001b[0m\u001b[0m\n\u001b[0m\u001b[1;32m    609\u001b[0m \u001b[0;34m\u001b[0m\u001b[0m\n\u001b[1;32m    610\u001b[0m \u001b[0;32mdef\u001b[0m \u001b[0mresetlocale\u001b[0m\u001b[0;34m(\u001b[0m\u001b[0mcategory\u001b[0m\u001b[0;34m=\u001b[0m\u001b[0mLC_ALL\u001b[0m\u001b[0;34m)\u001b[0m\u001b[0;34m:\u001b[0m\u001b[0;34m\u001b[0m\u001b[0;34m\u001b[0m\u001b[0m\n",
            "\u001b[0;31mError\u001b[0m: unsupported locale setting"
          ]
        }
      ]
    },
    {
      "cell_type": "markdown",
      "metadata": {
        "id": "K7MC62n9S71T"
      },
      "source": [
        "### Crear fechas"
      ]
    },
    {
      "cell_type": "code",
      "metadata": {
        "colab": {
          "base_uri": "https://localhost:8080/"
        },
        "id": "O_gbs6GzS6Zt",
        "outputId": "b4b036b1-30fe-455d-f99b-a14ceeab55e1"
      },
      "source": [
        "date1 = datetime.datetime(2017, 7, 11)\n",
        "date2 = datetime.datetime(2017, 7, 11, 15, 26, 41)\n",
        "print(date1)\n",
        "print(date2)"
      ],
      "execution_count": null,
      "outputs": [
        {
          "output_type": "stream",
          "text": [
            "2017-07-11 00:00:00\n",
            "2017-07-11 15:26:41\n"
          ],
          "name": "stdout"
        }
      ]
    },
    {
      "cell_type": "markdown",
      "metadata": {
        "id": "OqeglmKaUXhF"
      },
      "source": [
        "### Cambiar formato de fechas"
      ]
    },
    {
      "cell_type": "code",
      "metadata": {
        "colab": {
          "base_uri": "https://localhost:8080/"
        },
        "id": "XyWRapLtTeht",
        "outputId": "4abb1208-1c6f-411c-f5f9-a84e9f9b8f83"
      },
      "source": [
        "date3 = '2021-07-05'\n",
        "date4 = datetime.datetime.strptime(date3, '%Y-%m-%d')\n",
        "print(date4)"
      ],
      "execution_count": null,
      "outputs": [
        {
          "output_type": "stream",
          "text": [
            "2021-01-05 00:07:00\n"
          ],
          "name": "stdout"
        }
      ]
    },
    {
      "cell_type": "code",
      "metadata": {
        "colab": {
          "base_uri": "https://localhost:8080/"
        },
        "id": "RmpGtQ3LV_l8",
        "outputId": "08f6202b-ff58-4aa6-d552-f04f9d34e4b6"
      },
      "source": [
        "date5 = '2021/07/05'\n",
        "date6 = datetime.datetime.strptime(date5, '%Y/%M/%d')\n",
        "print(date6)"
      ],
      "execution_count": null,
      "outputs": [
        {
          "output_type": "stream",
          "text": [
            "2021-01-05 00:07:00\n"
          ],
          "name": "stdout"
        }
      ]
    },
    {
      "cell_type": "code",
      "metadata": {
        "colab": {
          "base_uri": "https://localhost:8080/"
        },
        "id": "udgBMKw_WieF",
        "outputId": "feb5b54f-0862-4150-98d0-39f401d444cd"
      },
      "source": [
        "date7 = date6.strftime('%A, %d %B %y')\n",
        "print(date7)"
      ],
      "execution_count": null,
      "outputs": [
        {
          "output_type": "stream",
          "text": [
            "Tuesday, 05 January 21\n"
          ],
          "name": "stdout"
        }
      ]
    },
    {
      "cell_type": "code",
      "metadata": {
        "colab": {
          "base_uri": "https://localhost:8080/"
        },
        "id": "Nt7cWBNLbrZS",
        "outputId": "8e6a19f7-0a46-4008-b63d-7b12be5d6388"
      },
      "source": [
        "date8 = datetime.datetime(2021,7,15)\n",
        "date9 = datetime.datetime(2021,6,12)\n",
        "print('Diferencia: ',date8 - date9)"
      ],
      "execution_count": null,
      "outputs": [
        {
          "output_type": "stream",
          "text": [
            "Diferencia:  33 days, 0:00:00\n"
          ],
          "name": "stdout"
        }
      ]
    },
    {
      "cell_type": "markdown",
      "metadata": {
        "id": "lVykQMsWXid2"
      },
      "source": [
        "### Intervalo de tiempo con pandas: pd.date_range"
      ]
    },
    {
      "cell_type": "code",
      "metadata": {
        "colab": {
          "base_uri": "https://localhost:8080/"
        },
        "id": "2Umpqg2-XvYj",
        "outputId": "06203f99-1a1b-4211-aa1c-9836827ad51d"
      },
      "source": [
        "range1 = pd.date_range(start='1-1-2018', end='1-08-2018')\n",
        "print(range1)"
      ],
      "execution_count": null,
      "outputs": [
        {
          "output_type": "stream",
          "text": [
            "DatetimeIndex(['2018-01-01', '2018-01-02', '2018-01-03', '2018-01-04',\n",
            "               '2018-01-05', '2018-01-06', '2018-01-07', '2018-01-08'],\n",
            "              dtype='datetime64[ns]', freq='D')\n"
          ],
          "name": "stdout"
        }
      ]
    },
    {
      "cell_type": "code",
      "metadata": {
        "colab": {
          "base_uri": "https://localhost:8080/"
        },
        "id": "oykG228NXgOZ",
        "outputId": "36767bca-76de-46e9-c4d2-5e13169570eb"
      },
      "source": [
        "range2 = pd.date_range(start='1/1/2018', end='1/08/2018')\n",
        "print(range2)"
      ],
      "execution_count": null,
      "outputs": [
        {
          "output_type": "stream",
          "text": [
            "DatetimeIndex(['2018-01-01', '2018-01-02', '2018-01-03', '2018-01-04',\n",
            "               '2018-01-05', '2018-01-06', '2018-01-07', '2018-01-08'],\n",
            "              dtype='datetime64[ns]', freq='D')\n"
          ],
          "name": "stdout"
        }
      ]
    },
    {
      "cell_type": "code",
      "metadata": {
        "colab": {
          "base_uri": "https://localhost:8080/"
        },
        "id": "LBB0ygtgYSAK",
        "outputId": "8f69892f-bcca-46f8-b15d-6671bb1fa118"
      },
      "source": [
        "range3 = pd.date_range(start='1/1/2018', end='31/12/2018', freq='W')\n",
        "print(range3)"
      ],
      "execution_count": null,
      "outputs": [
        {
          "output_type": "stream",
          "text": [
            "DatetimeIndex(['2018-01-07', '2018-01-14', '2018-01-21', '2018-01-28',\n",
            "               '2018-02-04', '2018-02-11', '2018-02-18', '2018-02-25',\n",
            "               '2018-03-04', '2018-03-11', '2018-03-18', '2018-03-25',\n",
            "               '2018-04-01', '2018-04-08', '2018-04-15', '2018-04-22',\n",
            "               '2018-04-29', '2018-05-06', '2018-05-13', '2018-05-20',\n",
            "               '2018-05-27', '2018-06-03', '2018-06-10', '2018-06-17',\n",
            "               '2018-06-24', '2018-07-01', '2018-07-08', '2018-07-15',\n",
            "               '2018-07-22', '2018-07-29', '2018-08-05', '2018-08-12',\n",
            "               '2018-08-19', '2018-08-26', '2018-09-02', '2018-09-09',\n",
            "               '2018-09-16', '2018-09-23', '2018-09-30', '2018-10-07',\n",
            "               '2018-10-14', '2018-10-21', '2018-10-28', '2018-11-04',\n",
            "               '2018-11-11', '2018-11-18', '2018-11-25', '2018-12-02',\n",
            "               '2018-12-09', '2018-12-16', '2018-12-23', '2018-12-30'],\n",
            "              dtype='datetime64[ns]', freq='W-SUN')\n"
          ],
          "name": "stdout"
        }
      ]
    },
    {
      "cell_type": "markdown",
      "metadata": {
        "id": "IsTFClHTYlGx"
      },
      "source": [
        "Para ver más frecuencias: [link](https://pandas.pydata.org/pandas-docs/stable/user_guide/timeseries.html#offset-aliases)."
      ]
    }
  ]
}