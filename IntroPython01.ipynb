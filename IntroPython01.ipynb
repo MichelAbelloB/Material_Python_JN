{
 "cells": [
  {
   "cell_type": "markdown",
   "id": "f429aecf",
   "metadata": {},
   "source": [
    "# Unidad modular 2: Introducción a Python.\n",
    "## Diplomado en R y Python para análisis de datos - UMNG\n",
    "Docente: Jarles Andrés Marimon Hernández\n"
   ]
  },
  {
   "cell_type": "markdown",
   "id": "7ed52adb",
   "metadata": {},
   "source": [
    "## Características de Python"
   ]
  },
  {
   "cell_type": "markdown",
   "id": "b39cd56c",
   "metadata": {},
   "source": [
    "- Creado en 1991 por Guido Van Rossum\n",
    "- Código abierto\n",
    "- Última versión: 3.9.6"
   ]
  },
  {
   "cell_type": "markdown",
   "id": "f75fef93",
   "metadata": {},
   "source": [
    "## Instalación y configuración"
   ]
  },
  {
   "cell_type": "markdown",
   "id": "d0a331d0",
   "metadata": {},
   "source": [
    "- Descargar versión base de python: https://www.python.org/\n",
    "- Decargar Integrated Development Environment (IDE): **pycharm, spyder.** Otros: PyDev, Sublime Text, etc. "
   ]
  },
  {
   "cell_type": "markdown",
   "id": "3a54a40c",
   "metadata": {},
   "source": [
    "## Operaciones en terminal de Python"
   ]
  },
  {
   "cell_type": "code",
   "execution_count": null,
   "id": "e5e19ba1",
   "metadata": {},
   "outputs": [
    {
     "data": {
      "text/plain": [
       "4"
      ]
     },
     "execution_count": 2,
     "metadata": {},
     "output_type": "execute_result"
    }
   ],
   "source": [
    "2+2"
   ]
  },
  {
   "cell_type": "code",
   "execution_count": null,
   "id": "f0158b91",
   "metadata": {},
   "outputs": [
    {
     "data": {
      "text/plain": [
       "5.0"
      ]
     },
     "execution_count": 3,
     "metadata": {},
     "output_type": "execute_result"
    }
   ],
   "source": [
    "1+8/2"
   ]
  },
  {
   "cell_type": "code",
   "execution_count": null,
   "id": "34e92bc6",
   "metadata": {},
   "outputs": [
    {
     "data": {
      "text/plain": [
       "4"
      ]
     },
     "execution_count": 8,
     "metadata": {},
     "output_type": "execute_result"
    }
   ],
   "source": [
    "9%5"
   ]
  },
  {
   "cell_type": "code",
   "execution_count": null,
   "id": "a96d157a",
   "metadata": {},
   "outputs": [
    {
     "data": {
      "text/plain": [
       "867"
      ]
     },
     "execution_count": 9,
     "metadata": {},
     "output_type": "execute_result"
    }
   ],
   "source": [
    "17*51"
   ]
  },
  {
   "cell_type": "code",
   "execution_count": null,
   "id": "795d7b72",
   "metadata": {},
   "outputs": [
    {
     "data": {
      "text/plain": [
       "25"
      ]
     },
     "execution_count": 19,
     "metadata": {},
     "output_type": "execute_result"
    }
   ],
   "source": [
    "5**2"
   ]
  },
  {
   "cell_type": "code",
   "execution_count": null,
   "id": "ae60b05c",
   "metadata": {},
   "outputs": [
    {
     "data": {
      "text/plain": [
       "400000.0"
      ]
     },
     "execution_count": 25,
     "metadata": {},
     "output_type": "execute_result"
    }
   ],
   "source": [
    "4e5\n",
    "4E5"
   ]
  },
  {
   "cell_type": "markdown",
   "id": "868bb8ff",
   "metadata": {},
   "source": [
    "## Primeros programas"
   ]
  },
  {
   "cell_type": "code",
   "execution_count": null,
   "id": "0b3956ff",
   "metadata": {},
   "outputs": [
    {
     "name": "stdout",
     "output_type": "stream",
     "text": [
      "Hola mundo\n"
     ]
    }
   ],
   "source": [
    "print('Hola mundo')"
   ]
  },
  {
   "cell_type": "code",
   "execution_count": 1,
   "id": "c3fbb957",
   "metadata": {},
   "outputs": [],
   "source": [
    "nombre = input('Ingrese su nombre')\n",
    "print('Hola, mi nombre es', nombre)"
   ]
  },
  {
   "cell_type": "code",
   "execution_count": 15,
   "id": "5d444034",
   "metadata": {},
   "outputs": [
    {
     "name": "stdout",
     "output_type": "stream",
     "text": [
      "Ingrese su edad7*8\n",
      "Mi edad es:  56\n"
     ]
    }
   ],
   "source": [
    "edad = eval(input('Ingrese su edad'))\n",
    "print('Mi edad es: ', edad)"
   ]
  },
  {
   "cell_type": "code",
   "execution_count": 17,
   "id": "9ca309b1",
   "metadata": {},
   "outputs": [
    {
     "name": "stdout",
     "output_type": "stream",
     "text": [
      "B 2 True 3.1416 0.25 -1.8\n"
     ]
    }
   ],
   "source": [
    "print('B', 2, True, 3.1416, 1/4, -1.8)"
   ]
  },
  {
   "cell_type": "code",
   "execution_count": 18,
   "id": "6e23c6c7",
   "metadata": {},
   "outputs": [
    {
     "name": "stdout",
     "output_type": "stream",
     "text": [
      "Hoy es:  10 de julio del año 2021\n"
     ]
    }
   ],
   "source": [
    "print('Hoy es: ', 10, 'de julio del año', 2021)"
   ]
  },
  {
   "cell_type": "code",
   "execution_count": 44,
   "id": "8b2b97af",
   "metadata": {},
   "outputs": [
    {
     "name": "stdout",
     "output_type": "stream",
     "text": [
      "15\n",
      "16\n"
     ]
    }
   ],
   "source": [
    "a = 10\n",
    "a = a + 5\n",
    "print(a)\n",
    "a += 1\n",
    "print(a)"
   ]
  },
  {
   "cell_type": "code",
   "execution_count": 5,
   "id": "e0559a4e",
   "metadata": {},
   "outputs": [
    {
     "data": {
      "text/plain": [
       "' Comentar 5+25\\nPárrafos '"
      ]
     },
     "execution_count": 5,
     "metadata": {},
     "output_type": "execute_result"
    }
   ],
   "source": [
    "#Comentarios\n",
    "''' Comentar \n",
    "Párrafos '''"
   ]
  },
  {
   "cell_type": "markdown",
   "id": "98279928",
   "metadata": {},
   "source": [
    "## Variables"
   ]
  },
  {
   "cell_type": "markdown",
   "id": "30637726",
   "metadata": {},
   "source": [
    "### Tipos"
   ]
  },
  {
   "cell_type": "markdown",
   "id": "b6d6dc77",
   "metadata": {},
   "source": [
    "- `int`: Números enteros\n",
    "- `float`: Números reales\n",
    "- `bool`: Valores booleanos\n",
    "- `str`: Caracteres de texto"
   ]
  },
  {
   "cell_type": "code",
   "execution_count": 32,
   "id": "03d9ba2e",
   "metadata": {},
   "outputs": [
    {
     "name": "stdout",
     "output_type": "stream",
     "text": [
      "<class 'int'>\n",
      "<class 'float'>\n",
      "<class 'bool'>\n",
      "<class 'str'>\n"
     ]
    }
   ],
   "source": [
    "x = 3\n",
    "y = 1.5\n",
    "z = True\n",
    "w = 'Hola'\n",
    "print(type(x))\n",
    "print(type(y))\n",
    "print(type(z))\n",
    "print(type(w))"
   ]
  },
  {
   "cell_type": "markdown",
   "id": "cc2a3b57",
   "metadata": {},
   "source": [
    "### Asignación"
   ]
  },
  {
   "cell_type": "code",
   "execution_count": 20,
   "id": "acf9542b",
   "metadata": {},
   "outputs": [
    {
     "name": "stdout",
     "output_type": "stream",
     "text": [
      "0\n"
     ]
    }
   ],
   "source": [
    "a = 2\n",
    "b = 3\n",
    "c = (a+b)**2\n",
    "d = a**2 + 2*a*b + b**2\n",
    "print(c-d)"
   ]
  },
  {
   "cell_type": "code",
   "execution_count": 34,
   "id": "5cd48193",
   "metadata": {},
   "outputs": [
    {
     "name": "stdout",
     "output_type": "stream",
     "text": [
      "5.0\n"
     ]
    }
   ],
   "source": [
    "cateto1 = 3\n",
    "cateto2 = 4\n",
    "hipotenusa = (cateto1**2 + cateto2**2)**(1/2)\n",
    "print(hipotenusa)"
   ]
  },
  {
   "cell_type": "code",
   "execution_count": 36,
   "id": "dcffeb7e",
   "metadata": {},
   "outputs": [
    {
     "name": "stdout",
     "output_type": "stream",
     "text": [
      "6\n"
     ]
    }
   ],
   "source": [
    "#Múltiple\n",
    "x, y, z = 1, 2, 3 \n",
    "print(x*y*z)"
   ]
  },
  {
   "cell_type": "markdown",
   "id": "85169e6b",
   "metadata": {},
   "source": [
    "### Comentarios sobre las variables: \n",
    "- Pueden contener letras, números y guión bajo\n",
    "- No pueden contener espacios\n",
    "- No pueden empezar con números\n",
    "- Las mayúsculas y minúsculas no representan lo mismo."
   ]
  },
  {
   "cell_type": "markdown",
   "id": "0880e841",
   "metadata": {},
   "source": [
    "### Comparación\n",
    "- <, >, <=, >=, ==, !=."
   ]
  },
  {
   "cell_type": "markdown",
   "id": "f0a70b1a",
   "metadata": {},
   "source": [
    "## Operaciones lógicas"
   ]
  },
  {
   "cell_type": "code",
   "execution_count": 11,
   "id": "c869e955",
   "metadata": {},
   "outputs": [
    {
     "name": "stdout",
     "output_type": "stream",
     "text": [
      "True\n",
      "False\n",
      "False\n",
      "False\n"
     ]
    }
   ],
   "source": [
    "print(True and True)\n",
    "print(True and False)\n",
    "print(False and True)\n",
    "print(False and False)"
   ]
  },
  {
   "cell_type": "code",
   "execution_count": 10,
   "id": "6849b722",
   "metadata": {},
   "outputs": [
    {
     "name": "stdout",
     "output_type": "stream",
     "text": [
      "True\n",
      "True\n",
      "True\n",
      "False\n"
     ]
    }
   ],
   "source": [
    "print(True or True)\n",
    "print(True or False)\n",
    "print(False or True)\n",
    "print(False or False)"
   ]
  },
  {
   "cell_type": "code",
   "execution_count": 16,
   "id": "006aef78",
   "metadata": {},
   "outputs": [
    {
     "name": "stdout",
     "output_type": "stream",
     "text": [
      "False\n",
      "False\n",
      "True\n",
      "True\n",
      "True\n",
      "True\n",
      "True\n",
      "False\n"
     ]
    }
   ],
   "source": [
    "print(5 == 3)\n",
    "print(6 < 2)\n",
    "print(7 >= 7)\n",
    "print (True == 1)\n",
    "print(False == 0)\n",
    "print(1 <= 5/5)\n",
    "print('a' in 'Hola')\n",
    "print('p' in 'Mañana')"
   ]
  },
  {
   "cell_type": "markdown",
   "id": "68d148fe",
   "metadata": {},
   "source": [
    "## Strings"
   ]
  },
  {
   "cell_type": "code",
   "execution_count": 3,
   "id": "5b81afda",
   "metadata": {},
   "outputs": [
    {
     "name": "stdout",
     "output_type": "stream",
     "text": [
      "Diplomado UMNGDiplomado UMNGDiplomado UMNG\n",
      "Diplomado UMNGDiplomado UMNG\n"
     ]
    }
   ],
   "source": [
    "texto = 'Diplomado UMNG'\n",
    "print(3*texto)\n",
    "print(texto + texto)"
   ]
  },
  {
   "cell_type": "markdown",
   "id": "9bf2f56a",
   "metadata": {},
   "source": [
    "**Nota:** Los operadores '+' y '\\*' se llaman **operadores sobrecargados** porque tienen diferentes usos dependiendo el tipo de variable."
   ]
  },
  {
   "cell_type": "code",
   "execution_count": 4,
   "id": "b200a954",
   "metadata": {},
   "outputs": [
    {
     "name": "stdout",
     "output_type": "stream",
     "text": [
      "14\n",
      "i\n",
      "ip\n",
      "Dla \n"
     ]
    }
   ],
   "source": [
    "print(len(texto))\n",
    "print(texto[1])\n",
    "print(texto[1:3])\n",
    "print(texto[0:10:3])"
   ]
  },
  {
   "cell_type": "code",
   "execution_count": 1,
   "id": "1ec488e0",
   "metadata": {},
   "outputs": [
    {
     "name": "stdout",
     "output_type": "stream",
     "text": [
      "CIEN AÑOS DE SOLEDAD\n",
      "cien años de soledad\n",
      "Cien años de soledad\n"
     ]
    }
   ],
   "source": [
    "libro = 'Cien años de soledad'\n",
    "print(libro.upper())\n",
    "print(libro.lower())\n",
    "print(libro.capitalize())"
   ]
  },
  {
   "cell_type": "code",
   "execution_count": 4,
   "id": "c45cd751",
   "metadata": {},
   "outputs": [
    {
     "name": "stdout",
     "output_type": "stream",
     "text": [
      "Gabriel García Márquez escribió más de 700 libro, entre ellos Cien años de soledad\n"
     ]
    }
   ],
   "source": [
    "nlib = 700\n",
    "print('Gabriel García Márquez escribió más de {} libro, entre ellos {}'.format(nlib,libro))"
   ]
  },
  {
   "cell_type": "markdown",
   "id": "c11545e4",
   "metadata": {},
   "source": [
    "### Funciones útiles"
   ]
  },
  {
   "cell_type": "code",
   "execution_count": 5,
   "id": "c6200cb8",
   "metadata": {},
   "outputs": [
    {
     "data": {
      "text/plain": [
       "10"
      ]
     },
     "execution_count": 5,
     "metadata": {},
     "output_type": "execute_result"
    }
   ],
   "source": [
    "print(libro.find('d'))"
   ]
  },
  {
   "cell_type": "code",
   "execution_count": 7,
   "id": "b8865d5f",
   "metadata": {},
   "outputs": [
    {
     "name": "stdout",
     "output_type": "stream",
     "text": [
      "['Cien', 'años', 'de', 'soledad']\n"
     ]
    }
   ],
   "source": [
    "listlet = libro.split(\" \")\n",
    "print(listlet)"
   ]
  },
  {
   "cell_type": "markdown",
   "id": "c8214ff6",
   "metadata": {},
   "source": [
    "### Conversión"
   ]
  },
  {
   "cell_type": "code",
   "execution_count": 5,
   "id": "c0c478ce",
   "metadata": {},
   "outputs": [
    {
     "name": "stdout",
     "output_type": "stream",
     "text": [
      "15\n"
     ]
    }
   ],
   "source": [
    "a = '3'\n",
    "print(int(a)*5)"
   ]
  },
  {
   "cell_type": "markdown",
   "id": "a5f00719",
   "metadata": {},
   "source": [
    "# While Loops\n",
    "\n",
    "Ejecuta un conjunto un ciclo de líneas de código mientras una condición sea cierta."
   ]
  },
  {
   "cell_type": "code",
   "execution_count": 21,
   "id": "e012bfdc",
   "metadata": {},
   "outputs": [
    {
     "name": "stdout",
     "output_type": "stream",
     "text": [
      "0\n",
      "1\n",
      "2\n",
      "3\n",
      "4\n"
     ]
    }
   ],
   "source": [
    "i = 0\n",
    "while i < 5:\n",
    "  print(i)\n",
    "  i += 1"
   ]
  },
  {
   "cell_type": "code",
   "execution_count": 22,
   "id": "38d97032",
   "metadata": {},
   "outputs": [
    {
     "name": "stdout",
     "output_type": "stream",
     "text": [
      "0\n",
      "1\n",
      "2\n",
      "3\n"
     ]
    }
   ],
   "source": [
    "i = 0\n",
    "while i < 5:\n",
    "  print(i)\n",
    "  if i == 3:\n",
    "    break #Parar el ciclo aunque la condición sea cierta.\n",
    "  i += 1"
   ]
  },
  {
   "cell_type": "code",
   "execution_count": 19,
   "id": "53cb7918",
   "metadata": {},
   "outputs": [
    {
     "name": "stdout",
     "output_type": "stream",
     "text": [
      "1\n",
      "2\n",
      "4\n",
      "5\n"
     ]
    }
   ],
   "source": [
    "i = 0\n",
    "while i < 5:\n",
    "  i += 1\n",
    "  if i == 3:\n",
    "    continue #Interrumpe el ciclo únicamente en la iteración que se especifique\n",
    "  print(i)"
   ]
  },
  {
   "cell_type": "code",
   "execution_count": 20,
   "id": "78423a5f",
   "metadata": {},
   "outputs": [
    {
     "name": "stdout",
     "output_type": "stream",
     "text": [
      "1\n",
      "2\n",
      "3\n",
      "4\n",
      "Fin del loop\n"
     ]
    }
   ],
   "source": [
    "i = 1\n",
    "while i < 5:\n",
    "  print(i)\n",
    "  i += 1\n",
    "else:\n",
    "  print(\"Fin del loop\")"
   ]
  },
  {
   "cell_type": "code",
   "execution_count": 2,
   "id": "11ee403e",
   "metadata": {},
   "outputs": [
    {
     "name": "stdout",
     "output_type": "stream",
     "text": [
      "Hola\n"
     ]
    }
   ],
   "source": [
    "while True:\n",
    "    print('Hola')\n",
    "    break"
   ]
  },
  {
   "cell_type": "markdown",
   "id": "cd6e2e89",
   "metadata": {},
   "source": [
    "# For Loops"
   ]
  },
  {
   "cell_type": "code",
   "execution_count": 7,
   "id": "41bd18ee",
   "metadata": {},
   "outputs": [
    {
     "name": "stdout",
     "output_type": "stream",
     "text": [
      "0\n",
      "1\n",
      "2\n",
      "3\n",
      "4\n",
      "5\n",
      "6\n",
      "7\n",
      "8\n",
      "9\n"
     ]
    }
   ],
   "source": [
    "for i in range(10):\n",
    "    print(i)"
   ]
  },
  {
   "cell_type": "code",
   "execution_count": 8,
   "id": "4da804a9",
   "metadata": {},
   "outputs": [
    {
     "name": "stdout",
     "output_type": "stream",
     "text": [
      "Ingrese un número: 5\n",
      "El cuadrado del número es:  25\n",
      "Ingrese un número: 47.7\n",
      "El cuadrado del número es:  2275.2900000000004\n",
      "Ingrese un número: 967\n",
      "El cuadrado del número es:  935089\n",
      "Fin del ciclo\n"
     ]
    }
   ],
   "source": [
    "for k in range(3):\n",
    "    num = eval(input('Ingrese un número: '))\n",
    "    print('El cuadrado del número es: ', num*num)\n",
    "print('Fin del ciclo')"
   ]
  },
  {
   "cell_type": "code",
   "execution_count": 24,
   "id": "b04969a4",
   "metadata": {},
   "outputs": [
    {
     "name": "stdout",
     "output_type": "stream",
     "text": [
      "coco\n",
      "mango\n",
      "manzana\n"
     ]
    }
   ],
   "source": [
    "frutas = ['coco', 'mango', 'manzana']\n",
    "for k in frutas:\n",
    "    print(k)"
   ]
  },
  {
   "cell_type": "code",
   "execution_count": 25,
   "id": "4a5860c1",
   "metadata": {},
   "outputs": [
    {
     "name": "stdout",
     "output_type": "stream",
     "text": [
      "coco\n",
      "mango\n"
     ]
    }
   ],
   "source": [
    "for k in frutas:\n",
    "  print(k)\n",
    "  if k == \"mango\":\n",
    "    break"
   ]
  },
  {
   "cell_type": "code",
   "execution_count": 26,
   "id": "23beb79b",
   "metadata": {},
   "outputs": [
    {
     "name": "stdout",
     "output_type": "stream",
     "text": [
      "coco\n",
      "manzana\n"
     ]
    }
   ],
   "source": [
    "for k in frutas:\n",
    "  if k == \"mango\":\n",
    "    continue\n",
    "  print(k)"
   ]
  },
  {
   "cell_type": "markdown",
   "id": "d4eb20eb",
   "metadata": {},
   "source": [
    "# Estructuras de datos\n",
    "\n"
   ]
  },
  {
   "cell_type": "markdown",
   "id": "1b71869b",
   "metadata": {},
   "source": [
    "## Listas:\n",
    "- Secuencias mutables\n",
    "- Sirven para almacenar colecciones de elementos"
   ]
  },
  {
   "cell_type": "code",
   "execution_count": 6,
   "id": "c88d2edf",
   "metadata": {},
   "outputs": [
    {
     "name": "stdout",
     "output_type": "stream",
     "text": [
      "['a', 'e', 'i', 'o', 'u']\n",
      "['a', 'e', 'i', 'o', 'u']\n"
     ]
    }
   ],
   "source": [
    "empty_list = []\n",
    "vowels = ['a', 'e', 'i', 'o', 'u']\n",
    "vowels2 = list('aeiou')\n",
    "print(vowels)\n",
    "print(vowels2)"
   ]
  },
  {
   "cell_type": "code",
   "execution_count": 2,
   "id": "5c323e43",
   "metadata": {},
   "outputs": [
    {
     "name": "stdout",
     "output_type": "stream",
     "text": [
      "['aeiou', 50, False, 0.3333333333333333, 0.96]\n"
     ]
    }
   ],
   "source": [
    "list0 = ['aeiou', 50, False, 1/3, 0.96]\n",
    "print(list0)"
   ]
  },
  {
   "cell_type": "markdown",
   "id": "f2d2ebb7",
   "metadata": {},
   "source": [
    "### Elementos de una lista"
   ]
  },
  {
   "cell_type": "code",
   "execution_count": 3,
   "id": "4d73b4eb",
   "metadata": {},
   "outputs": [
    {
     "name": "stdout",
     "output_type": "stream",
     "text": [
      "False\n",
      "aeiou\n",
      "0.96\n",
      "False\n",
      "['aeiou', 50]\n",
      "[False, 0.3333333333333333, 0.96]\n",
      "['aeiou', 50]\n",
      "[]\n",
      "False\n"
     ]
    }
   ],
   "source": [
    "print(list0[2])\n",
    "print(list0[0])\n",
    "print(list0[-1])\n",
    "print(list0[-3])\n",
    "print(list0[0:2])\n",
    "print(list0[2:])\n",
    "print(list0[:2])\n",
    "print(list0[-1:-3])\n",
    "print('mango' in list0)"
   ]
  },
  {
   "cell_type": "code",
   "execution_count": 4,
   "id": "2cff4005",
   "metadata": {},
   "outputs": [
    {
     "name": "stdout",
     "output_type": "stream",
     "text": [
      "['aeiou', 50, 'rojo', 0.3333333333333333, 0.96]\n"
     ]
    }
   ],
   "source": [
    "list0[2] = 'rojo'\n",
    "#list0[5] = True #Error\n",
    "print(list0)\n"
   ]
  },
  {
   "cell_type": "markdown",
   "id": "4676973f",
   "metadata": {},
   "source": [
    "### list.insert()\n",
    "\n",
    "Insertar un nuevo elemento, dado el índice, sin reemplazar el que ya existe."
   ]
  },
  {
   "cell_type": "code",
   "execution_count": 5,
   "id": "df486e1e",
   "metadata": {},
   "outputs": [
    {
     "name": "stdout",
     "output_type": "stream",
     "text": [
      "['aeiou', 'azul', 50, 'rojo', 0.3333333333333333, 0.96]\n"
     ]
    }
   ],
   "source": [
    "list0.insert(1, 'azul')\n",
    "print(list0)"
   ]
  },
  {
   "cell_type": "markdown",
   "id": "5bacb2c6",
   "metadata": {},
   "source": [
    "### list.append()\n",
    "\n",
    "Agregar un elemento al final de la lista."
   ]
  },
  {
   "cell_type": "code",
   "execution_count": 6,
   "id": "1f304600",
   "metadata": {},
   "outputs": [
    {
     "name": "stdout",
     "output_type": "stream",
     "text": [
      "['aeiou', 'azul', 50, 'rojo', 0.3333333333333333, 0.96, 'Colombia']\n"
     ]
    }
   ],
   "source": [
    "list0.append('Colombia')\n",
    "print(list0)"
   ]
  },
  {
   "cell_type": "markdown",
   "id": "5b88fada",
   "metadata": {},
   "source": [
    "### list.extend()\n",
    "\n",
    "Agregar elementos de otra lista."
   ]
  },
  {
   "cell_type": "code",
   "execution_count": 7,
   "id": "6fb854c3",
   "metadata": {},
   "outputs": [
    {
     "name": "stdout",
     "output_type": "stream",
     "text": [
      "['aeiou', 'azul', 50, 'rojo', 0.3333333333333333, 0.96, 'Colombia', 'Bogotá', 'Barranquilla', 'Medellín']\n"
     ]
    }
   ],
   "source": [
    "list1 = ['Bogotá', 'Barranquilla', 'Medellín']\n",
    "list0.extend(list1)\n",
    "print(list0)"
   ]
  },
  {
   "cell_type": "markdown",
   "id": "bfad6acc",
   "metadata": {},
   "source": [
    "### list.remove()\n",
    "\n",
    "Eliminar un elemento en específico."
   ]
  },
  {
   "cell_type": "code",
   "execution_count": 8,
   "id": "b07503ac",
   "metadata": {},
   "outputs": [
    {
     "name": "stdout",
     "output_type": "stream",
     "text": [
      "['aeiou', 'azul', 50, 'rojo', 0.3333333333333333, 0.96, 'Colombia', 'Barranquilla', 'Medellín']\n"
     ]
    }
   ],
   "source": [
    "list0.remove('Bogotá')\n",
    "print(list0)"
   ]
  },
  {
   "cell_type": "markdown",
   "id": "44c16bf5",
   "metadata": {},
   "source": [
    "### list.pop()\n",
    "\n",
    "Eliminar un elemento dado el índice. Por defecto elimina el último elemento. "
   ]
  },
  {
   "cell_type": "code",
   "execution_count": 9,
   "id": "69d903b1",
   "metadata": {},
   "outputs": [
    {
     "name": "stdout",
     "output_type": "stream",
     "text": [
      "['aeiou', 'azul', 'rojo', 0.3333333333333333, 0.96, 'Colombia', 'Barranquilla', 'Medellín']\n"
     ]
    }
   ],
   "source": [
    "list0.pop(2)\n",
    "print(list0)"
   ]
  },
  {
   "cell_type": "markdown",
   "id": "f811bb4a",
   "metadata": {},
   "source": [
    "### `del` list\n",
    "\n",
    "Otra forma de eleiminar un elemento especificando el índice. `del` lista3 elimina lista3 de la memoria."
   ]
  },
  {
   "cell_type": "code",
   "execution_count": 10,
   "id": "6df789c1",
   "metadata": {},
   "outputs": [
    {
     "name": "stdout",
     "output_type": "stream",
     "text": [
      "['azul', 'rojo', 0.3333333333333333, 0.96, 'Colombia', 'Barranquilla', 'Medellín']\n"
     ]
    }
   ],
   "source": [
    "del list0[0]\n",
    "print(list0)\n",
    "list2 = [1, 2, True]\n",
    "del list2\n",
    "#print(list2)"
   ]
  },
  {
   "cell_type": "markdown",
   "id": "3ab9ba8e",
   "metadata": {},
   "source": [
    "### list.clear()\n",
    "\n",
    "Elimina todo los elementos de la lista sin eliminar el objeto de la memoria."
   ]
  },
  {
   "cell_type": "code",
   "execution_count": 11,
   "id": "389b040d",
   "metadata": {},
   "outputs": [
    {
     "name": "stdout",
     "output_type": "stream",
     "text": [
      "[]\n"
     ]
    }
   ],
   "source": [
    "list3 = [0, 'aei', 'rst', True]\n",
    "list3.clear()\n",
    "print(list3)"
   ]
  },
  {
   "cell_type": "markdown",
   "id": "a1989d17",
   "metadata": {},
   "source": [
    "### list.count()\n",
    "\n",
    "Contar el número de veces que aparece un elemento."
   ]
  },
  {
   "cell_type": "code",
   "execution_count": 12,
   "id": "ec2ad516",
   "metadata": {},
   "outputs": [
    {
     "name": "stdout",
     "output_type": "stream",
     "text": [
      "3\n",
      "1\n"
     ]
    }
   ],
   "source": [
    "list4 = ['a', 'b', 'a', 'c', 'a']\n",
    "print(list4.count('a'))\n",
    "print(list4.count('c'))"
   ]
  },
  {
   "cell_type": "markdown",
   "id": "58afd652",
   "metadata": {},
   "source": [
    "### list.sort(reverse = False)\n",
    "\n",
    "Ordenar los elementos de la lista."
   ]
  },
  {
   "cell_type": "code",
   "execution_count": 13,
   "id": "a1dc426f",
   "metadata": {},
   "outputs": [
    {
     "name": "stdout",
     "output_type": "stream",
     "text": [
      "[-100.0, -5.1, -0.6, 0.87, 3.14, 4, 8]\n",
      "['Sandra', 'María', 'Luis', 'Juan', 'Ana']\n"
     ]
    }
   ],
   "source": [
    "list5 = [4, 8, -5.1, -3/5, 0.87, -1e2, 3.14]\n",
    "list6 = ['Juan', 'Ana', 'Luis', 'Sandra', 'María']\n",
    "\n",
    "list5.sort()\n",
    "print(list5)\n",
    "\n",
    "list6.sort(reverse = True)\n",
    "print(list6)\n"
   ]
  },
  {
   "cell_type": "markdown",
   "id": "7d21df1a",
   "metadata": {},
   "source": [
    "### list.index()\n",
    "\n",
    "Retorna el índice de un elemento."
   ]
  },
  {
   "cell_type": "code",
   "execution_count": 14,
   "id": "fb478c52",
   "metadata": {},
   "outputs": [
    {
     "name": "stdout",
     "output_type": "stream",
     "text": [
      "5\n"
     ]
    }
   ],
   "source": [
    "print(list0.index('Barranquilla'))"
   ]
  },
  {
   "cell_type": "markdown",
   "id": "e56fcf60",
   "metadata": {},
   "source": [
    "### Más sobre listas"
   ]
  },
  {
   "cell_type": "code",
   "execution_count": 15,
   "id": "5944f901",
   "metadata": {},
   "outputs": [
    {
     "name": "stdout",
     "output_type": "stream",
     "text": [
      "azul\n",
      "rojo\n",
      "0.3333333333333333\n",
      "0.96\n",
      "Colombia\n",
      "Barranquilla\n",
      "Medellín\n"
     ]
    }
   ],
   "source": [
    "for i in range(len(list0)):\n",
    "    print(list0[i])"
   ]
  },
  {
   "cell_type": "code",
   "execution_count": 16,
   "id": "95e69327",
   "metadata": {},
   "outputs": [
    {
     "name": "stdout",
     "output_type": "stream",
     "text": [
      "0 azul\n",
      "1 rojo\n",
      "2 0.3333333333333333\n",
      "3 0.96\n",
      "4 Colombia\n",
      "5 Barranquilla\n",
      "6 Medellín\n"
     ]
    }
   ],
   "source": [
    "for i, x in enumerate(list0):\n",
    "    print(i, x)"
   ]
  },
  {
   "cell_type": "code",
   "execution_count": 66,
   "id": "ef34d419",
   "metadata": {},
   "outputs": [
    {
     "name": "stdout",
     "output_type": "stream",
     "text": [
      "0.3333333333333333\n",
      "0.96\n",
      "Colombia\n",
      "Barranquilla\n",
      "Medellín\n"
     ]
    }
   ],
   "source": [
    "i = 0\n",
    "while i < len(list0):\n",
    "  print(list0[i])\n",
    "  i = i + 1"
   ]
  },
  {
   "cell_type": "markdown",
   "id": "0af7afa2",
   "metadata": {},
   "source": [
    "### Listas por comprensión "
   ]
  },
  {
   "cell_type": "code",
   "execution_count": 67,
   "id": "1aa6942c",
   "metadata": {},
   "outputs": [
    {
     "name": "stdout",
     "output_type": "stream",
     "text": [
      "[0, 1, 2, 3, 4, 5, 6, 7, 8, 9]\n"
     ]
    }
   ],
   "source": [
    "list7 = [k for k in range(10)]\n",
    "print(list7)"
   ]
  },
  {
   "cell_type": "markdown",
   "id": "d13271af",
   "metadata": {},
   "source": [
    "### Operador '+'\n",
    "\n",
    "Se usa para unir listas."
   ]
  },
  {
   "cell_type": "code",
   "execution_count": 74,
   "id": "ba051288",
   "metadata": {},
   "outputs": [
    {
     "name": "stdout",
     "output_type": "stream",
     "text": [
      "[0.3333333333333333, 0.96, 'Colombia', 'Barranquilla', 'Medellín', 0, 1, 2, 3, 4, 5, 6, 7, 8, 9]\n"
     ]
    }
   ],
   "source": [
    "list8 = list0 + list7\n",
    "print(list8)"
   ]
  },
  {
   "cell_type": "markdown",
   "id": "45585bc8",
   "metadata": {},
   "source": [
    "### Listas de listas"
   ]
  },
  {
   "cell_type": "code",
   "execution_count": 18,
   "id": "39458153",
   "metadata": {},
   "outputs": [
    {
     "name": "stdout",
     "output_type": "stream",
     "text": [
      "[1, 2, 3]\n",
      "[4, 5, 6]\n",
      "[7, 8, 9]\n"
     ]
    }
   ],
   "source": [
    "mat = [[1,2,3],[4,5,6],[7,8,9]]\n",
    "for row in mat:\n",
    "    print(row)"
   ]
  },
  {
   "cell_type": "code",
   "execution_count": 19,
   "id": "d3a79d99",
   "metadata": {},
   "outputs": [
    {
     "name": "stdout",
     "output_type": "stream",
     "text": [
      "6\n"
     ]
    }
   ],
   "source": [
    "print(mat[1][2])"
   ]
  },
  {
   "cell_type": "markdown",
   "id": "00c358dc",
   "metadata": {},
   "source": [
    "# Tuplas\n",
    "- Son listas inmutables"
   ]
  },
  {
   "cell_type": "code",
   "execution_count": 2,
   "id": "2362158a",
   "metadata": {},
   "outputs": [
    {
     "name": "stdout",
     "output_type": "stream",
     "text": [
      "(1, True, 0.25, 'Gabriel')\n"
     ]
    }
   ],
   "source": [
    "tup0 = (1, True, 1/4, 'Gabriel')\n",
    "print(tup0)"
   ]
  },
  {
   "cell_type": "code",
   "execution_count": 4,
   "id": "350bc326",
   "metadata": {},
   "outputs": [
    {
     "name": "stdout",
     "output_type": "stream",
     "text": [
      "0.25\n"
     ]
    }
   ],
   "source": [
    "print(tup0[2])"
   ]
  },
  {
   "cell_type": "code",
   "execution_count": 5,
   "id": "bf723422",
   "metadata": {},
   "outputs": [
    {
     "name": "stdout",
     "output_type": "stream",
     "text": [
      "[4, 5, 6]\n"
     ]
    }
   ],
   "source": [
    "tup1 = (1, 2, 3, [4, 5, 6])\n",
    "print(tup1[3])"
   ]
  },
  {
   "cell_type": "markdown",
   "id": "05967735",
   "metadata": {},
   "source": [
    "# Conjuntos\n",
    "- Colección no ordenada de elementos\n",
    "- Soportan operaciones básicas de conjuntos: unión, intersección, diferencia y diferencia simétrica."
   ]
  },
  {
   "cell_type": "code",
   "execution_count": 9,
   "id": "64a01913",
   "metadata": {},
   "outputs": [
    {
     "name": "stdout",
     "output_type": "stream",
     "text": [
      "<class 'set'>\n",
      "<class 'set'>\n",
      "<class 'set'>\n",
      "<class 'set'>\n"
     ]
    }
   ],
   "source": [
    "A = {1, 3, 5, 7, 9, 11, 13, 15, 17, 19}\n",
    "B = {2, 3, 5, 7, 11, 13, 17, 19}\n",
    "C = set('Metamorfosis')\n",
    "D = set('Soledad')\n",
    "empty_set = set() # NO {}\n",
    "print(type(A))\n",
    "print(type(B))\n",
    "print(type(C))\n",
    "print(type(D))"
   ]
  },
  {
   "cell_type": "code",
   "execution_count": 10,
   "id": "ce1a7c03",
   "metadata": {},
   "outputs": [
    {
     "name": "stdout",
     "output_type": "stream",
     "text": [
      "{1, 3, 5, 7, 9, 11, 13, 15, 17, 19}\n",
      "{2, 3, 5, 7, 11, 13, 17, 19}\n",
      "{'M', 'm', 't', 'r', 'f', 'i', 'e', 'o', 'a', 's'}\n",
      "{'S', 'd', 'e', 'l', 'o', 'a'}\n"
     ]
    }
   ],
   "source": [
    "print(A)\n",
    "print(B)\n",
    "print(C)\n",
    "print(D)"
   ]
  },
  {
   "cell_type": "code",
   "execution_count": 30,
   "id": "982d98eb",
   "metadata": {},
   "outputs": [
    {
     "name": "stdout",
     "output_type": "stream",
     "text": [
      "True\n",
      "False\n"
     ]
    }
   ],
   "source": [
    "print(7 in A)\n",
    "print(7 not in B)"
   ]
  },
  {
   "cell_type": "code",
   "execution_count": 11,
   "id": "06ee0dbb",
   "metadata": {},
   "outputs": [
    {
     "name": "stdout",
     "output_type": "stream",
     "text": [
      "{'m', 'C', 'b', 'l'}\n"
     ]
    }
   ],
   "source": [
    "set0 = {x for x in 'Colombia' if x not in 'aeiou'}\n",
    "print(set0)"
   ]
  },
  {
   "cell_type": "markdown",
   "id": "00c07b3f",
   "metadata": {},
   "source": [
    "### Unión"
   ]
  },
  {
   "cell_type": "code",
   "execution_count": 13,
   "id": "c6bd62ec",
   "metadata": {},
   "outputs": [
    {
     "name": "stdout",
     "output_type": "stream",
     "text": [
      "{1, 2, 3, 5, 7, 9, 11, 13, 15, 17, 19}\n",
      "{'M', 'm', 't', 'S', 'r', 'f', 'i', 'd', 'e', 'l', 'o', 'a', 's'}\n"
     ]
    }
   ],
   "source": [
    "print(A | B)\n",
    "print(C | D)"
   ]
  },
  {
   "cell_type": "markdown",
   "id": "361ad0d3",
   "metadata": {},
   "source": [
    "### Intersección"
   ]
  },
  {
   "cell_type": "code",
   "execution_count": 14,
   "id": "fccf4c7e",
   "metadata": {},
   "outputs": [
    {
     "name": "stdout",
     "output_type": "stream",
     "text": [
      "{3, 5, 7, 11, 13, 17, 19}\n",
      "{'o', 'a', 'e'}\n"
     ]
    }
   ],
   "source": [
    "print(A & B)\n",
    "print(C & D)"
   ]
  },
  {
   "cell_type": "markdown",
   "id": "f0d0d915",
   "metadata": {},
   "source": [
    "### Diferencia"
   ]
  },
  {
   "cell_type": "code",
   "execution_count": 15,
   "id": "edc60f67",
   "metadata": {},
   "outputs": [
    {
     "name": "stdout",
     "output_type": "stream",
     "text": [
      "{1, 9, 15}\n",
      "{'M', 'm', 't', 'r', 'f', 'i', 's'}\n"
     ]
    }
   ],
   "source": [
    "print(A - B)\n",
    "print(C - D)"
   ]
  },
  {
   "cell_type": "markdown",
   "id": "2d60ac8c",
   "metadata": {},
   "source": [
    "### Diferencia simétrica"
   ]
  },
  {
   "cell_type": "code",
   "execution_count": 16,
   "id": "981dab32",
   "metadata": {},
   "outputs": [
    {
     "name": "stdout",
     "output_type": "stream",
     "text": [
      "{1, 2, 9, 15}\n",
      "{'m', 'S', 'r', 'd', 'l', 's', 'M', 't', 'f', 'i'}\n"
     ]
    }
   ],
   "source": [
    "print(A ^ B)\n",
    "print(C ^ D)"
   ]
  },
  {
   "cell_type": "markdown",
   "id": "f1f19d4e",
   "metadata": {},
   "source": [
    "# Diccionarios\n",
    "- Colección de objetos indexados por strings o números en cualquier orden que se denominan *keys*\n",
    "- Incluso las tuplas pueden ser *keys* si contienen números, strings o tuplas.\n",
    "- Sintaxis: {key0 : value0, key1 : value1, ... keyN : valueN}"
   ]
  },
  {
   "cell_type": "code",
   "execution_count": 21,
   "id": "2b9daab6",
   "metadata": {},
   "outputs": [
    {
     "name": "stdout",
     "output_type": "stream",
     "text": [
      "{'Ana': 31, 'Victoria': 24, 'Sofía': 4, 'Yoly': 29, 'Michelle': 11}\n"
     ]
    }
   ],
   "source": [
    "edades = {'Ana': 31, 'Victoria': 24, 'Sofía': 4, 'Michelle' : 11 }\n",
    "print(edades)"
   ]
  },
  {
   "cell_type": "markdown",
   "id": "16ed1766",
   "metadata": {},
   "source": [
    "### Acceder a elementos de un diccionario"
   ]
  },
  {
   "cell_type": "code",
   "execution_count": 23,
   "id": "7e7014da",
   "metadata": {},
   "outputs": [
    {
     "name": "stdout",
     "output_type": "stream",
     "text": [
      "31\n",
      "29\n"
     ]
    }
   ],
   "source": [
    "print(edades['Ana'])\n",
    "print(edades['Yoly'])"
   ]
  },
  {
   "cell_type": "markdown",
   "id": "f31c2d22",
   "metadata": {},
   "source": [
    "### Lista de *keys*, *values* e ítems"
   ]
  },
  {
   "cell_type": "code",
   "execution_count": 27,
   "id": "4d577df9",
   "metadata": {},
   "outputs": [
    {
     "name": "stdout",
     "output_type": "stream",
     "text": [
      "dict_keys(['Ana', 'Victoria', 'Sofía', 'Yoly', 'Michelle'])\n",
      "dict_values([31, 24, 4, 29, 10])\n",
      "dict_items([('Ana', 31), ('Victoria', 24), ('Sofía', 4), ('Yoly', 29), ('Michelle', 10)])\n"
     ]
    }
   ],
   "source": [
    "print(edades.keys())\n",
    "print(edades.values())\n",
    "print(edades.items())"
   ]
  },
  {
   "cell_type": "markdown",
   "id": "d289ef34",
   "metadata": {},
   "source": [
    "### Cambiar value"
   ]
  },
  {
   "cell_type": "code",
   "execution_count": 24,
   "id": "2bf9d9c6",
   "metadata": {},
   "outputs": [
    {
     "name": "stdout",
     "output_type": "stream",
     "text": [
      "{'Ana': 31, 'Victoria': 24, 'Sofía': 4, 'Yoly': 29, 'Michelle': 10}\n"
     ]
    }
   ],
   "source": [
    "edades['Michelle'] = 10\n",
    "print(edades)"
   ]
  },
  {
   "cell_type": "markdown",
   "id": "4e93c4c0",
   "metadata": {},
   "source": [
    "### Agregar elemento"
   ]
  },
  {
   "cell_type": "code",
   "execution_count": 35,
   "id": "82461284",
   "metadata": {},
   "outputs": [
    {
     "name": "stdout",
     "output_type": "stream",
     "text": [
      "{'Ana': 31, 'Victoria': 24, 'Sofía': 4, 'Yoly': 29, 'Michelle': 10, 'Jesus': 55, 'Teresa': 50}\n"
     ]
    }
   ],
   "source": [
    "edades['Yoly'] = 29\n",
    "edades['Jesus'] = 55\n",
    "edades['Teresa'] = 50\n",
    "print(edades)"
   ]
  },
  {
   "cell_type": "markdown",
   "id": "b1eefffa",
   "metadata": {},
   "source": [
    "### Eliminar items"
   ]
  },
  {
   "cell_type": "code",
   "execution_count": 38,
   "id": "ac657026",
   "metadata": {},
   "outputs": [
    {
     "ename": "KeyError",
     "evalue": "'Jesus'",
     "output_type": "error",
     "traceback": [
      "\u001b[1;31m---------------------------------------------------------------------------\u001b[0m",
      "\u001b[1;31mKeyError\u001b[0m                                  Traceback (most recent call last)",
      "\u001b[1;32m<ipython-input-38-9952efae017b>\u001b[0m in \u001b[0;36m<module>\u001b[1;34m\u001b[0m\n\u001b[1;32m----> 1\u001b[1;33m \u001b[0medades\u001b[0m\u001b[1;33m.\u001b[0m\u001b[0mpop\u001b[0m\u001b[1;33m(\u001b[0m\u001b[1;34m'Jesus'\u001b[0m\u001b[1;33m)\u001b[0m\u001b[1;33m\u001b[0m\u001b[1;33m\u001b[0m\u001b[0m\n\u001b[0m\u001b[0;32m      2\u001b[0m \u001b[0mprint\u001b[0m\u001b[1;33m(\u001b[0m\u001b[0medades\u001b[0m\u001b[1;33m)\u001b[0m\u001b[1;33m\u001b[0m\u001b[1;33m\u001b[0m\u001b[0m\n",
      "\u001b[1;31mKeyError\u001b[0m: 'Jesus'"
     ]
    }
   ],
   "source": [
    "edades.pop('Jesus')\n",
    "print(edades)"
   ]
  },
  {
   "cell_type": "markdown",
   "id": "d9b996c3",
   "metadata": {},
   "source": [
    "### Eliminar usando `del`"
   ]
  },
  {
   "cell_type": "code",
   "execution_count": 37,
   "id": "652a2397",
   "metadata": {},
   "outputs": [
    {
     "name": "stdout",
     "output_type": "stream",
     "text": [
      "{'Ana': 31, 'Victoria': 24, 'Sofía': 4, 'Yoly': 29, 'Michelle': 10}\n"
     ]
    }
   ],
   "source": [
    "del edades['Teresa']\n",
    "print(edades)"
   ]
  },
  {
   "cell_type": "markdown",
   "id": "39d95de9",
   "metadata": {},
   "source": [
    "### Loops sobre un diccionario"
   ]
  },
  {
   "cell_type": "code",
   "execution_count": 39,
   "id": "b0c98d6b",
   "metadata": {},
   "outputs": [
    {
     "name": "stdout",
     "output_type": "stream",
     "text": [
      "Ana\n",
      "Victoria\n",
      "Sofía\n",
      "Yoly\n",
      "Michelle\n"
     ]
    }
   ],
   "source": [
    "for k in edades:\n",
    "    print(k)"
   ]
  },
  {
   "cell_type": "code",
   "execution_count": 40,
   "id": "daf8dc36",
   "metadata": {},
   "outputs": [
    {
     "name": "stdout",
     "output_type": "stream",
     "text": [
      "31\n",
      "24\n",
      "4\n",
      "29\n",
      "10\n"
     ]
    }
   ],
   "source": [
    "for k in edades.values():\n",
    "    print(k)"
   ]
  },
  {
   "cell_type": "code",
   "execution_count": 41,
   "id": "4606ec7d",
   "metadata": {},
   "outputs": [
    {
     "name": "stdout",
     "output_type": "stream",
     "text": [
      "Ana\n",
      "Victoria\n",
      "Sofía\n",
      "Yoly\n",
      "Michelle\n"
     ]
    }
   ],
   "source": [
    "for k in edades.keys():\n",
    "    print(k)"
   ]
  },
  {
   "cell_type": "code",
   "execution_count": 43,
   "id": "60f5e10f",
   "metadata": {},
   "outputs": [
    {
     "name": "stdout",
     "output_type": "stream",
     "text": [
      "Ana 31\n",
      "Victoria 24\n",
      "Sofía 4\n",
      "Yoly 29\n",
      "Michelle 10\n"
     ]
    }
   ],
   "source": [
    "for key, value in edades.items():\n",
    "    print(key, value)"
   ]
  },
  {
   "cell_type": "markdown",
   "id": "bc8112d6",
   "metadata": {},
   "source": [
    "# Bibliografía"
   ]
  },
  {
   "cell_type": "markdown",
   "id": "45813fd4",
   "metadata": {},
   "source": [
    "- Guttag, J. V. (2021). Introduction to Computation and Programming Using Python: With Application to Computational Modeling and Understanding Data. MIT Press.\n",
    "- Heinold, B. (2012). A Practical Introduction to Python Programming. Creative Commons Attribution.\n",
    "- Pine, D. J. (2019). Introduction to Python for science and engineering. CRC Press.\n",
    "- Python Software Foundation (2021). Python Language Reference, version 3.9.6. https://www.python.org/doc/"
   ]
  },
  {
   "cell_type": "code",
   "execution_count": null,
   "id": "20187758",
   "metadata": {},
   "outputs": [],
   "source": []
  }
 ],
 "metadata": {
  "kernelspec": {
   "display_name": "Python 3",
   "language": "python",
   "name": "python3"
  },
  "language_info": {
   "codemirror_mode": {
    "name": "ipython",
    "version": 3
   },
   "file_extension": ".py",
   "mimetype": "text/x-python",
   "name": "python",
   "nbconvert_exporter": "python",
   "pygments_lexer": "ipython3",
   "version": "3.12.2"
  }
 },
 "nbformat": 4,
 "nbformat_minor": 5
}
