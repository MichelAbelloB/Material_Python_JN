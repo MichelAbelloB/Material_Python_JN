{
  "nbformat": 4,
  "nbformat_minor": 0,
  "metadata": {
    "colab": {
      "name": "IntroPython03.ipynb",
      "provenance": [],
      "collapsed_sections": []
    },
    "kernelspec": {
      "name": "python3",
      "display_name": "Python 3"
    },
    "language_info": {
      "name": "python"
    }
  },
  "cells": [
    {
      "cell_type": "markdown",
      "metadata": {
        "id": "nhpmuND-5MF-"
      },
      "source": [
        "# Unidad modular 2: Introducción a Python.\n",
        "## Diplomado en R y Python para análisis de datos - UMNG\n",
        "Docente: Jarles Andrés Marimon Hernández"
      ]
    },
    {
      "cell_type": "markdown",
      "metadata": {
        "id": "qUrxZ499smOp"
      },
      "source": [
        "# Crear y acceder a archivos `.txt`\n",
        "\n",
        "- **open()** abre un archivo y retorna un objeto para manipular.\n",
        "- Argumentos:\n",
        "    - file: nombre\n",
        "    - mode: \n",
        "        - 'r' *read* (default): Abrir para leer, arroja error si el archivo no existe.\n",
        "        - 'a' *append*: Abrir para agregar contenido, crea un archivo nuevo si no existe.\n",
        "        - 'w' *write* : Abrir para escribir, crea un archivo si no existe. \n",
        "        - 'x' *create*: Crear un archivo, arroja error si el archivo existe."
      ]
    },
    {
      "cell_type": "code",
      "metadata": {
        "colab": {
          "base_uri": "https://localhost:8080/"
        },
        "id": "r-Bjls2c2_xM",
        "outputId": "6279a9d6-9e09-4e47-e57c-22fd15b78fff"
      },
      "source": [
        "f = open('file0.txt', 'w')\n",
        "f.write('jarles@correo.edu.co')\n",
        "f.write('\\nana@correo.edu.co')\n",
        "f.write('\\nsofia@correo.edu.co')\n",
        "f.write('\\nvictoria@correo.edu.co')\n",
        "f.close()\n",
        "\n",
        "f = open('file0.txt', 'r')\n",
        "print(f.read())"
      ],
      "execution_count": null,
      "outputs": [
        {
          "output_type": "stream",
          "text": [
            "jarles@correo.edu.co\n",
            "ana@correo.edu.co\n",
            "sofia@correo.edu.co\n",
            "victoria@correo.edu.co\n"
          ],
          "name": "stdout"
        }
      ]
    },
    {
      "cell_type": "markdown",
      "metadata": {
        "id": "DtAWV7AFFzzv"
      },
      "source": [
        "Si el archivo estuviera guardado en la carpeta \"data_diplomado\": \n",
        "- open(\"data_diplomado/emails.txt\") \n",
        "- open(\"../data_diplomado/emails.txt\")"
      ]
    },
    {
      "cell_type": "code",
      "metadata": {
        "colab": {
          "base_uri": "https://localhost:8080/"
        },
        "id": "lrt4Vf7Y6Lpt",
        "outputId": "96478cd3-3056-4516-e1d8-68b3ff256a02"
      },
      "source": [
        "file1 = open('file1.txt', 'a')\n",
        "file1.write('jarles@correo.edu.co')\n",
        "file1.write('\\nana@correo.edu.co')\n",
        "file1.close()\n",
        "\n",
        "file1 = open('file1.txt', 'r')\n",
        "print(file1.read())"
      ],
      "execution_count": null,
      "outputs": [
        {
          "output_type": "stream",
          "text": [
            "jarles@correo.edu.co\n",
            "ana@correo.edu.co\n",
            "michelle@correo.edu.cojarles@correo.edu.co\n",
            "ana@correo.edu.co\n"
          ],
          "name": "stdout"
        }
      ]
    },
    {
      "cell_type": "code",
      "metadata": {
        "id": "LeyNP2HB3148",
        "colab": {
          "base_uri": "https://localhost:8080/"
        },
        "outputId": "b5eaacd4-a6ce-47a0-9cee-34c57e4f322e"
      },
      "source": [
        "f = open('file0.txt', 'w')\n",
        "f.write('michelle@correo.edu.co')\n",
        "f.close()\n",
        "\n",
        "f = open('file0.txt', 'r')\n",
        "print(f.read())"
      ],
      "execution_count": null,
      "outputs": [
        {
          "output_type": "stream",
          "text": [
            "michelle@correo.edu.co\n"
          ],
          "name": "stdout"
        }
      ]
    },
    {
      "cell_type": "code",
      "metadata": {
        "id": "jDJ6vHYdPTBo",
        "colab": {
          "base_uri": "https://localhost:8080/"
        },
        "outputId": "3f713ed5-25a8-4198-c7cf-c7babe40ce8e"
      },
      "source": [
        "file1 = open('file1.txt', 'a')\n",
        "file1.write('\\nmichelle@correo.edu.co')\n",
        "file1.close()\n",
        "\n",
        "file1 = open('file1.txt', 'r')\n",
        "print(file1.read())"
      ],
      "execution_count": null,
      "outputs": [
        {
          "output_type": "stream",
          "text": [
            "jarles@correo.edu.co\n",
            "ana@correo.edu.co\n",
            "michelle@correo.edu.cojarles@correo.edu.co\n",
            "ana@correo.edu.co\n",
            "michelle@correo.edu.co\n"
          ],
          "name": "stdout"
        }
      ]
    },
    {
      "cell_type": "markdown",
      "metadata": {
        "id": "k3JB7YzL--Tt"
      },
      "source": [
        "Usando `with` no es necesario cerrar el archivo. "
      ]
    },
    {
      "cell_type": "code",
      "metadata": {
        "colab": {
          "base_uri": "https://localhost:8080/"
        },
        "id": "yn_tquX2-cN8",
        "outputId": "68453541-5d6c-4b6f-8e3f-525bd2103726"
      },
      "source": [
        "with open('correos.txt', 'r') as file_email:\n",
        "    print(file_email.read()) "
      ],
      "execution_count": null,
      "outputs": [
        {
          "output_type": "stream",
          "text": [
            "u2204653@unimilitar.edu.co\n",
            "u5800138@unimilitar.edu.co\n",
            "u2101812@unimilitar.edu.co\n",
            "daniel84chaparro@gmail.com\n",
            "est.juanf.corredor@unimilitar.edu.co\n",
            "est.james.espitia@unimilitar.edu.co\n",
            "u8100126@unimilitar.edu.co\n",
            "u1201397@unimilitar.edu.co\n",
            "est.jenny.mendoza@unimilitar.edu.co\n",
            "est.jorgea.rodriguez@unimilitar.edu.co\n",
            "u2101255@unimilitar.edu.co\n",
            "u2101868@unimilitar.edu.co\n",
            "u2101679@unimilitar.edu.co\n",
            "u8100124@unimilitar.edu.co\n",
            "\n"
          ],
          "name": "stdout"
        }
      ]
    },
    {
      "cell_type": "code",
      "metadata": {
        "colab": {
          "base_uri": "https://localhost:8080/"
        },
        "id": "GPYZ56THBav7",
        "outputId": "17e0cc3f-65c0-4c79-fcc5-7901390b99aa"
      },
      "source": [
        "with open('correos.txt', 'r') as file_email:\n",
        "    for line in file_email:\n",
        "        print(line)"
      ],
      "execution_count": null,
      "outputs": [
        {
          "output_type": "stream",
          "text": [
            "u2204653@unimilitar.edu.co\n",
            "\n",
            "u5800138@unimilitar.edu.co\n",
            "\n",
            "u2101812@unimilitar.edu.co\n",
            "\n",
            "daniel84chaparro@gmail.com\n",
            "\n",
            "est.juanf.corredor@unimilitar.edu.co\n",
            "\n",
            "est.james.espitia@unimilitar.edu.co\n",
            "\n",
            "u8100126@unimilitar.edu.co\n",
            "\n",
            "u1201397@unimilitar.edu.co\n",
            "\n",
            "est.jenny.mendoza@unimilitar.edu.co\n",
            "\n",
            "est.jorgea.rodriguez@unimilitar.edu.co\n",
            "\n",
            "u2101255@unimilitar.edu.co\n",
            "\n",
            "u2101868@unimilitar.edu.co\n",
            "\n",
            "u2101679@unimilitar.edu.co\n",
            "\n",
            "u8100124@unimilitar.edu.co\n",
            "\n"
          ],
          "name": "stdout"
        }
      ]
    },
    {
      "cell_type": "code",
      "metadata": {
        "colab": {
          "base_uri": "https://localhost:8080/"
        },
        "id": "DmbKsNEaEaTV",
        "outputId": "8820c11c-2299-43c5-ecc5-93977f432c8e"
      },
      "source": [
        "with open('correos.txt', 'r') as file_email:\n",
        "    list_emails = list(file_email)\n",
        "print(list_emails)"
      ],
      "execution_count": null,
      "outputs": [
        {
          "output_type": "stream",
          "text": [
            "['u2204653@unimilitar.edu.co\\n', 'u5800138@unimilitar.edu.co\\n', 'u2101812@unimilitar.edu.co\\n', 'daniel84chaparro@gmail.com\\n', 'est.juanf.corredor@unimilitar.edu.co\\n', 'est.james.espitia@unimilitar.edu.co\\n', 'u8100126@unimilitar.edu.co\\n', 'u1201397@unimilitar.edu.co\\n', 'est.jenny.mendoza@unimilitar.edu.co\\n', 'est.jorgea.rodriguez@unimilitar.edu.co\\n', 'u2101255@unimilitar.edu.co\\n', 'u2101868@unimilitar.edu.co\\n', 'u2101679@unimilitar.edu.co\\n', 'u8100124@unimilitar.edu.co\\n']\n"
          ],
          "name": "stdout"
        }
      ]
    },
    {
      "cell_type": "markdown",
      "metadata": {
        "id": "EE_l5DqzFQe_"
      },
      "source": [
        "Eliminar los espacios."
      ]
    },
    {
      "cell_type": "code",
      "metadata": {
        "colab": {
          "base_uri": "https://localhost:8080/"
        },
        "id": "8plX0RO6E6Cp",
        "outputId": "93a6a55b-550f-4244-d02b-72532b671eb4"
      },
      "source": [
        "list_emails = [line[:-1] for line in list_emails]\n",
        "print(list_emails)"
      ],
      "execution_count": null,
      "outputs": [
        {
          "output_type": "stream",
          "text": [
            "['u2204653@unimilitar.edu.co', 'u5800138@unimilitar.edu.co', 'u2101812@unimilitar.edu.co', 'daniel84chaparro@gmail.com', 'est.juanf.corredor@unimilitar.edu.co', 'est.james.espitia@unimilitar.edu.co', 'u8100126@unimilitar.edu.co', 'u1201397@unimilitar.edu.co', 'est.jenny.mendoza@unimilitar.edu.co', 'est.jorgea.rodriguez@unimilitar.edu.co', 'u2101255@unimilitar.edu.co', 'u2101868@unimilitar.edu.co', 'u2101679@unimilitar.edu.co', 'u8100124@unimilitar.edu.co']\n"
          ],
          "name": "stdout"
        }
      ]
    },
    {
      "cell_type": "markdown",
      "metadata": {
        "id": "zk079EatHG07"
      },
      "source": [
        "# Módulos\n",
        "- Un módulo es un archivo `.py` que contiene funciones y otras líneas de código que permiten construir un programa en varios archivos."
      ]
    },
    {
      "cell_type": "code",
      "metadata": {
        "id": "ZJvOVwEqG8n1"
      },
      "source": [
        "# Crear archivo: geometrymodule.py\n",
        "pi = 3.14159265358979323846\n",
        "def circle_area(radius):\n",
        "    return pi*(radius)**2\n",
        "\n",
        "def circle_circumference(radius):\n",
        "    return 2*pi*radius\n",
        "\n",
        "def sphere_surface(radius):\n",
        "    return 4*pi*(radius**2)\n",
        "\n",
        "def sphere_volume(radius):\n",
        "    return (4.0/3.0)*pi*(radius**3)\n",
        "\n",
        "def square_area(side):\n",
        "    return side*side\n",
        "\n",
        "def cube_surface(side):\n",
        "    return 6*side**2\n",
        "\n",
        "def cube_volume(side):\n",
        "    return side**3"
      ],
      "execution_count": null,
      "outputs": []
    },
    {
      "cell_type": "markdown",
      "metadata": {
        "id": "eOZ2fnGUPZLE"
      },
      "source": [
        "### Acceder al módulo\n",
        "\n",
        "- Abrir un nuevo archivo `.py`\n",
        "\n",
        "import geometrymodule \n",
        "\n",
        "print(geometrymodule.pi)\n",
        "\n",
        "print(geometrymodule.circle_area(5))\n",
        "\n",
        "print(geometrymodule.circle_circumference(5))\n",
        "\n",
        "print(geometrymodule.sphere_surface(5))\n",
        "\n",
        "print(geometrymodule.sphere_volume(5))\n",
        "\n",
        "print(geometrymodule.square_area(5))\n",
        "\n",
        "print(geometrymodule.cube_surface(5))\n",
        "\n",
        "print(geometrymodule.cube_volume(5))"
      ]
    },
    {
      "cell_type": "markdown",
      "metadata": {
        "id": "QL216LSeftPN"
      },
      "source": [
        "import geometrymodule as geo\n",
        "\n",
        "print(geo.circle_area(5))"
      ]
    },
    {
      "cell_type": "markdown",
      "metadata": {
        "id": "PcVn_cycfXiC"
      },
      "source": [
        "rom geometrymodule import cube_surface\n",
        "\n",
        "print(cube_surface(10))\n",
        "\n",
        " #print(cube_volumen(5)) #error"
      ]
    },
    {
      "cell_type": "markdown",
      "metadata": {
        "id": "SgOO1rOFdDij"
      },
      "source": [
        "from geometrymodule import *\n",
        "\n",
        "print(cube_surface(7))\n",
        "\n",
        "print(sphere_volume(7))"
      ]
    },
    {
      "cell_type": "markdown",
      "metadata": {
        "id": "l_oC2X3_fWK7"
      },
      "source": [
        "# Algunas librerías de python\n",
        "\n",
        "\n",
        "*   **math:** Funciones y constantes básicas. \n",
        "*   **random:** Generar números pseudo aleatorios\n",
        "*   **numpy:** Computación científica y operaciones con arreglos multidimensionales.\n",
        "*   **matplotlib:** Visualizaciones.\n",
        "*   **pandas:** Análisis y manipulación de datos. \n",
        "*   **scipy:** Rutinas numéricas y estadísticas.\n",
        "*   **statsmodels:** Estimación de modelos estadísticos.\n",
        "*   **scikit-learn** Machine learning.  \n",
        "\n",
        "\n"
      ]
    },
    {
      "cell_type": "markdown",
      "metadata": {
        "id": "BCGxLAWGJaAk"
      },
      "source": [
        "# Bibliografía\n",
        "\n",
        "- Guttag, J. V. (2021). Introduction to Computation and Programming Using Python: With Application to Computational Modeling and Understanding Data. MIT Press.\n",
        "- Heinold, B. (2012). A Practical Introduction to Python Programming. Creative Commons Attribution.\n",
        "- Pine, D. J. (2019). Introduction to Python for science and engineering. CRC Press.\n",
        "- Python Software Foundation (2021). Python Language Reference, version 3.9.6. https://www.python.org/doc/"
      ]
    }
  ]
}