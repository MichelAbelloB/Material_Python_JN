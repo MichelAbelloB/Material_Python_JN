{
  "nbformat": 4,
  "nbformat_minor": 0,
  "metadata": {
    "colab": {
      "name": "Machine Learning no supervisado.ipynb",
      "provenance": []
    },
    "kernelspec": {
      "name": "python3",
      "display_name": "Python 3"
    },
    "language_info": {
      "name": "python"
    }
  },
  "cells": [
    {
      "cell_type": "markdown",
      "metadata": {
        "id": "gLCxL64uJnQA"
      },
      "source": [
        "# Machine Learning no supervisado: K-Means"
      ]
    },
    {
      "cell_type": "code",
      "metadata": {
        "id": "oGEEUCauJdEP"
      },
      "source": [
        "import numpy as np\n",
        "import matplotlib.pyplot as  plt\n",
        "import pandas as pd"
      ],
      "execution_count": 1,
      "outputs": []
    },
    {
      "cell_type": "markdown",
      "metadata": {
        "id": "SPgKk9mbUKoD"
      },
      "source": [
        "**Ejemplo**\n",
        "\n",
        "Segmentación de clientes de un centro comercial. Deseamos clasificar un grupo de clientes en base a su ingreso anual y su puntaje en gasto en el centro comercial."
      ]
    },
    {
      "cell_type": "code",
      "metadata": {
        "id": "SHtSPX9wUBz3"
      },
      "source": [
        "datos = pd.read_csv(\"/content/Mall_Customers.csv\")"
      ],
      "execution_count": 2,
      "outputs": []
    },
    {
      "cell_type": "code",
      "metadata": {
        "colab": {
          "base_uri": "https://localhost:8080/",
          "height": 204
        },
        "id": "Z1gEH8kZVRFf",
        "outputId": "956d1e01-3ece-40c9-b706-9da89b29edce"
      },
      "source": [
        "datos.head()"
      ],
      "execution_count": 3,
      "outputs": [
        {
          "output_type": "execute_result",
          "data": {
            "text/html": [
              "<div>\n",
              "<style scoped>\n",
              "    .dataframe tbody tr th:only-of-type {\n",
              "        vertical-align: middle;\n",
              "    }\n",
              "\n",
              "    .dataframe tbody tr th {\n",
              "        vertical-align: top;\n",
              "    }\n",
              "\n",
              "    .dataframe thead th {\n",
              "        text-align: right;\n",
              "    }\n",
              "</style>\n",
              "<table border=\"1\" class=\"dataframe\">\n",
              "  <thead>\n",
              "    <tr style=\"text-align: right;\">\n",
              "      <th></th>\n",
              "      <th>CustomerID</th>\n",
              "      <th>Genre</th>\n",
              "      <th>Age</th>\n",
              "      <th>Annual Income (k$)</th>\n",
              "      <th>Spending Score (1-100)</th>\n",
              "    </tr>\n",
              "  </thead>\n",
              "  <tbody>\n",
              "    <tr>\n",
              "      <th>0</th>\n",
              "      <td>1</td>\n",
              "      <td>Male</td>\n",
              "      <td>19</td>\n",
              "      <td>15</td>\n",
              "      <td>39</td>\n",
              "    </tr>\n",
              "    <tr>\n",
              "      <th>1</th>\n",
              "      <td>2</td>\n",
              "      <td>Male</td>\n",
              "      <td>21</td>\n",
              "      <td>15</td>\n",
              "      <td>81</td>\n",
              "    </tr>\n",
              "    <tr>\n",
              "      <th>2</th>\n",
              "      <td>3</td>\n",
              "      <td>Female</td>\n",
              "      <td>20</td>\n",
              "      <td>16</td>\n",
              "      <td>6</td>\n",
              "    </tr>\n",
              "    <tr>\n",
              "      <th>3</th>\n",
              "      <td>4</td>\n",
              "      <td>Female</td>\n",
              "      <td>23</td>\n",
              "      <td>16</td>\n",
              "      <td>77</td>\n",
              "    </tr>\n",
              "    <tr>\n",
              "      <th>4</th>\n",
              "      <td>5</td>\n",
              "      <td>Female</td>\n",
              "      <td>31</td>\n",
              "      <td>17</td>\n",
              "      <td>40</td>\n",
              "    </tr>\n",
              "  </tbody>\n",
              "</table>\n",
              "</div>"
            ],
            "text/plain": [
              "   CustomerID   Genre  Age  Annual Income (k$)  Spending Score (1-100)\n",
              "0           1    Male   19                  15                      39\n",
              "1           2    Male   21                  15                      81\n",
              "2           3  Female   20                  16                       6\n",
              "3           4  Female   23                  16                      77\n",
              "4           5  Female   31                  17                      40"
            ]
          },
          "metadata": {
            "tags": []
          },
          "execution_count": 3
        }
      ]
    },
    {
      "cell_type": "code",
      "metadata": {
        "colab": {
          "base_uri": "https://localhost:8080/"
        },
        "id": "lHUXHBUqVSua",
        "outputId": "37174870-48a9-4e3e-c43d-84f43f76ae1f"
      },
      "source": [
        "datos.info()"
      ],
      "execution_count": 4,
      "outputs": [
        {
          "output_type": "stream",
          "text": [
            "<class 'pandas.core.frame.DataFrame'>\n",
            "RangeIndex: 200 entries, 0 to 199\n",
            "Data columns (total 5 columns):\n",
            " #   Column                  Non-Null Count  Dtype \n",
            "---  ------                  --------------  ----- \n",
            " 0   CustomerID              200 non-null    int64 \n",
            " 1   Genre                   200 non-null    object\n",
            " 2   Age                     200 non-null    int64 \n",
            " 3   Annual Income (k$)      200 non-null    int64 \n",
            " 4   Spending Score (1-100)  200 non-null    int64 \n",
            "dtypes: int64(4), object(1)\n",
            "memory usage: 7.9+ KB\n"
          ],
          "name": "stdout"
        }
      ]
    },
    {
      "cell_type": "markdown",
      "metadata": {
        "id": "4wLq3l_LVkl4"
      },
      "source": [
        "Declaramos nuestras variables de interés en un objeto X"
      ]
    },
    {
      "cell_type": "code",
      "metadata": {
        "id": "Iteiq_B0VY9X"
      },
      "source": [
        "X = datos[[\"Annual Income (k$)\",\"Spending Score (1-100)\"]]"
      ],
      "execution_count": 5,
      "outputs": []
    },
    {
      "cell_type": "code",
      "metadata": {
        "colab": {
          "base_uri": "https://localhost:8080/",
          "height": 204
        },
        "id": "XadvQTgpVyT5",
        "outputId": "9f8cc5fb-b7db-4c37-9bff-b9a0e35611cc"
      },
      "source": [
        "X.head()"
      ],
      "execution_count": 6,
      "outputs": [
        {
          "output_type": "execute_result",
          "data": {
            "text/html": [
              "<div>\n",
              "<style scoped>\n",
              "    .dataframe tbody tr th:only-of-type {\n",
              "        vertical-align: middle;\n",
              "    }\n",
              "\n",
              "    .dataframe tbody tr th {\n",
              "        vertical-align: top;\n",
              "    }\n",
              "\n",
              "    .dataframe thead th {\n",
              "        text-align: right;\n",
              "    }\n",
              "</style>\n",
              "<table border=\"1\" class=\"dataframe\">\n",
              "  <thead>\n",
              "    <tr style=\"text-align: right;\">\n",
              "      <th></th>\n",
              "      <th>Annual Income (k$)</th>\n",
              "      <th>Spending Score (1-100)</th>\n",
              "    </tr>\n",
              "  </thead>\n",
              "  <tbody>\n",
              "    <tr>\n",
              "      <th>0</th>\n",
              "      <td>15</td>\n",
              "      <td>39</td>\n",
              "    </tr>\n",
              "    <tr>\n",
              "      <th>1</th>\n",
              "      <td>15</td>\n",
              "      <td>81</td>\n",
              "    </tr>\n",
              "    <tr>\n",
              "      <th>2</th>\n",
              "      <td>16</td>\n",
              "      <td>6</td>\n",
              "    </tr>\n",
              "    <tr>\n",
              "      <th>3</th>\n",
              "      <td>16</td>\n",
              "      <td>77</td>\n",
              "    </tr>\n",
              "    <tr>\n",
              "      <th>4</th>\n",
              "      <td>17</td>\n",
              "      <td>40</td>\n",
              "    </tr>\n",
              "  </tbody>\n",
              "</table>\n",
              "</div>"
            ],
            "text/plain": [
              "   Annual Income (k$)  Spending Score (1-100)\n",
              "0                  15                      39\n",
              "1                  15                      81\n",
              "2                  16                       6\n",
              "3                  16                      77\n",
              "4                  17                      40"
            ]
          },
          "metadata": {
            "tags": []
          },
          "execution_count": 6
        }
      ]
    },
    {
      "cell_type": "markdown",
      "metadata": {
        "id": "MvTRvpW3WeIA"
      },
      "source": [
        "Importamos el modelo del paquete sklearn"
      ]
    },
    {
      "cell_type": "code",
      "metadata": {
        "id": "AaY0qtQfVzze"
      },
      "source": [
        "from sklearn.cluster import KMeans"
      ],
      "execution_count": 10,
      "outputs": []
    },
    {
      "cell_type": "markdown",
      "metadata": {
        "id": "yvZQ5JAOW0lC"
      },
      "source": [
        "Técnica del codo"
      ]
    },
    {
      "cell_type": "code",
      "metadata": {
        "colab": {
          "base_uri": "https://localhost:8080/",
          "height": 295
        },
        "id": "FRyQ57zWWCXR",
        "outputId": "255b6e67-e982-4bba-d3d9-66d3aa18d7e5"
      },
      "source": [
        "err_sum =[]\n",
        "for i in range(1,11):\n",
        "  kmeans = KMeans(n_clusters=i,random_state=0)\n",
        "  kmeans.fit(X)\n",
        "  err_sum.append(kmeans.inertia_)\n",
        "plt.plot(range(1,11),err_sum)\n",
        "plt.title(\"Método del codo\")\n",
        "plt.xlabel(\"# de clusters\")\n",
        "plt.ylabel(\"wcss\")\n",
        "plt.show()"
      ],
      "execution_count": 12,
      "outputs": [
        {
          "output_type": "display_data",
          "data": {
            "image/png": "[encoded data removed]",
            "text/plain": [
              "<Figure size 432x288 with 1 Axes>"
            ]
          },
          "metadata": {
            "tags": [],
            "needs_background": "light"
          }
        }
      ]
    },
    {
      "cell_type": "markdown",
      "metadata": {
        "id": "jGsWRMNsazdy"
      },
      "source": [
        "Número óptimo de clusters = 5"
      ]
    },
    {
      "cell_type": "code",
      "metadata": {
        "colab": {
          "base_uri": "https://localhost:8080/"
        },
        "id": "ptbngDMaaGqF",
        "outputId": "a25c437a-5584-4235-fdf2-4f816de1563b"
      },
      "source": [
        "kmeans = KMeans(n_clusters=5,random_state=0)\n",
        "kmeans.fit(X)"
      ],
      "execution_count": 13,
      "outputs": [
        {
          "output_type": "execute_result",
          "data": {
            "text/plain": [
              "KMeans(algorithm='auto', copy_x=True, init='k-means++', max_iter=300,\n",
              "       n_clusters=5, n_init=10, n_jobs=None, precompute_distances='auto',\n",
              "       random_state=0, tol=0.0001, verbose=0)"
            ]
          },
          "metadata": {
            "tags": []
          },
          "execution_count": 13
        }
      ]
    },
    {
      "cell_type": "code",
      "metadata": {
        "id": "V6rmLRLIbCAo"
      },
      "source": [
        "y_predict = kmeans.fit_predict(X)"
      ],
      "execution_count": 14,
      "outputs": []
    },
    {
      "cell_type": "code",
      "metadata": {
        "colab": {
          "base_uri": "https://localhost:8080/"
        },
        "id": "svZw77Bnb1pd",
        "outputId": "18786944-e40c-4d87-e8eb-6f46feffe8e7"
      },
      "source": [
        "y_predict"
      ],
      "execution_count": 15,
      "outputs": [
        {
          "output_type": "execute_result",
          "data": {
            "text/plain": [
              "array([3, 1, 3, 1, 3, 1, 3, 1, 3, 1, 3, 1, 3, 1, 3, 1, 3, 1, 3, 1, 3, 1,\n",
              "       3, 1, 3, 1, 3, 1, 3, 1, 3, 1, 3, 1, 3, 1, 3, 1, 3, 1, 3, 1, 3, 0,\n",
              "       3, 1, 0, 0, 0, 0, 0, 0, 0, 0, 0, 0, 0, 0, 0, 0, 0, 0, 0, 0, 0, 0,\n",
              "       0, 0, 0, 0, 0, 0, 0, 0, 0, 0, 0, 0, 0, 0, 0, 0, 0, 0, 0, 0, 0, 0,\n",
              "       0, 0, 0, 0, 0, 0, 0, 0, 0, 0, 0, 0, 0, 0, 0, 0, 0, 0, 0, 0, 0, 0,\n",
              "       0, 0, 0, 0, 0, 0, 0, 0, 0, 0, 0, 0, 0, 2, 4, 2, 0, 2, 4, 2, 4, 2,\n",
              "       0, 2, 4, 2, 4, 2, 4, 2, 4, 2, 0, 2, 4, 2, 4, 2, 4, 2, 4, 2, 4, 2,\n",
              "       4, 2, 4, 2, 4, 2, 4, 2, 4, 2, 4, 2, 4, 2, 4, 2, 4, 2, 4, 2, 4, 2,\n",
              "       4, 2, 4, 2, 4, 2, 4, 2, 4, 2, 4, 2, 4, 2, 4, 2, 4, 2, 4, 2, 4, 2,\n",
              "       4, 2], dtype=int32)"
            ]
          },
          "metadata": {
            "tags": []
          },
          "execution_count": 15
        }
      ]
    },
    {
      "cell_type": "markdown",
      "metadata": {
        "id": "0tU1tzhycDOQ"
      },
      "source": [
        "## Representación gráfica"
      ]
    },
    {
      "cell_type": "code",
      "metadata": {
        "colab": {
          "base_uri": "https://localhost:8080/",
          "height": 404
        },
        "id": "YTyazw_1b2xb",
        "outputId": "1e3b1f49-fc12-4c0b-f41b-5da08e8a0f35"
      },
      "source": [
        "colores = [\"red\",\"blue\",\"green\",\"cyan\",\"magenta\"]\n",
        "plt.figure(figsize=(10,6))\n",
        "for i in range(5):\n",
        "  plt.scatter(X.iloc[y_predict==i,0],X.iloc[y_predict==i,1],s=100,c=colores[i],label=\"Cluster %d\"%(i+1))\n",
        "plt.scatter(kmeans.cluster_centers_[:,0],kmeans.cluster_centers_[:,1],s=300,c=\"yellow\",label=\"Centroides\")\n",
        "plt.title(\"Clusters de clientes\")\n",
        "plt.xlabel(\"Ingresos Anuales en miles de US\")\n",
        "plt.ylabel(\"Puntaje por cliente (1-100)\")\n",
        "plt.legend()\n",
        "plt.show()"
      ],
      "execution_count": 18,
      "outputs": [
        {
          "output_type": "display_data",
          "data": {
            "image/png": "[encoded data removed]",
            "text/plain": [
              "<Figure size 720x432 with 1 Axes>"
            ]
          },
          "metadata": {
            "tags": [],
            "needs_background": "light"
          }
        }
      ]
    },
    {
      "cell_type": "markdown",
      "metadata": {
        "id": "0D3okvRLfFXT"
      },
      "source": [
        "$$coef silueta(i) = \\frac{b-a}{max(b,a)}$$\n",
        "\n",
        "$a$ es el promedio de distancias del cluster al cual pertenece i.\n",
        "\n",
        "$b$ es el promedio de distancias del cluster más cercano al cluster de i\n",
        "\n",
        "\n",
        "entre más grande sea este coeficiente de silueta, el número de clusters asociado a ese coeficiente es el óptimo."
      ]
    },
    {
      "cell_type": "code",
      "metadata": {
        "id": "dDynNwrrgpb9"
      },
      "source": [
        "from sklearn import metrics"
      ],
      "execution_count": 19,
      "outputs": []
    },
    {
      "cell_type": "code",
      "metadata": {
        "colab": {
          "base_uri": "https://localhost:8080/"
        },
        "id": "ihIogiQ1d1gb",
        "outputId": "48c48bc7-5e06-4042-d321-e22cef67b019"
      },
      "source": [
        "silueta_promedio = []\n",
        "min_k = 2\n",
        "for k in range(min_k,11):\n",
        "  kmeans = KMeans(n_clusters=k,random_state=0).fit(X)\n",
        "  score = metrics.silhouette_score(X,kmeans.labels_)\n",
        "  print(\"Los coeficientes de silueta para k=\",k,\" es \",score)\n",
        "  silueta_promedio.append(score)\n",
        "optim_k = silueta_promedio.index(max(silueta_promedio))+min_k\n",
        "print(\"El k óptimo es \",optim_k)"
      ],
      "execution_count": 20,
      "outputs": [
        {
          "output_type": "stream",
          "text": [
            "Los coeficientes de silueta para k= 2  es  0.2968969162503008\n",
            "Los coeficientes de silueta para k= 3  es  0.46761358158775435\n",
            "Los coeficientes de silueta para k= 4  es  0.4931963109249047\n",
            "Los coeficientes de silueta para k= 5  es  0.553931997444648\n",
            "Los coeficientes de silueta para k= 6  es  0.5393922132561455\n",
            "Los coeficientes de silueta para k= 7  es  0.5270287298101395\n",
            "Los coeficientes de silueta para k= 8  es  0.4575689106804838\n",
            "Los coeficientes de silueta para k= 9  es  0.4565077334305076\n",
            "Los coeficientes de silueta para k= 10  es  0.449795408266166\n",
            "El k óptimo es  5\n"
          ],
          "name": "stdout"
        }
      ]
    },
    {
      "cell_type": "markdown",
      "metadata": {
        "id": "7CX-Xpzsi3X7"
      },
      "source": [
        "## Clustering Jerárquico\n"
      ]
    },
    {
      "cell_type": "code",
      "metadata": {
        "id": "4Se77ldyhbia"
      },
      "source": [
        "from sklearn.cluster import AgglomerativeClustering"
      ],
      "execution_count": 21,
      "outputs": []
    },
    {
      "cell_type": "code",
      "metadata": {
        "id": "b6vZTtkRjd4Q"
      },
      "source": [
        "from scipy.cluster import hierarchy as sch"
      ],
      "execution_count": 22,
      "outputs": []
    },
    {
      "cell_type": "code",
      "metadata": {
        "colab": {
          "base_uri": "https://localhost:8080/",
          "height": 404
        },
        "id": "1ks52SfdmsoO",
        "outputId": "ef08698d-edbb-4992-b084-48a677e4f309"
      },
      "source": [
        "plt.figure(figsize=(18,6))\n",
        "dendrogram = sch.dendrogram(sch.linkage(X,method=\"ward\")) # \n",
        "plt.title(\"Dendrograma\")\n",
        "plt.xlabel(\"Clientes\")\n",
        "plt.ylabel(\"Distancia Euclídea\")\n",
        "plt.show()"
      ],
      "execution_count": 27,
      "outputs": [
        {
          "output_type": "display_data",
          "data": {
            "image/png": "[encoded data removed]",
            "text/plain": [
              "<Figure size 1296x432 with 1 Axes>"
            ]
          },
          "metadata": {
            "tags": [],
            "needs_background": "light"
          }
        }
      ]
    },
    {
      "cell_type": "code",
      "metadata": {
        "colab": {
          "base_uri": "https://localhost:8080/"
        },
        "id": "lEL9BsHQnOBD",
        "outputId": "556f69a3-54cc-42a6-d817-71cfae7f5069"
      },
      "source": [
        "silueta_promedio = []\n",
        "min_k = 2\n",
        "for k in range(min_k,11):\n",
        "  jer = AgglomerativeClustering(n_clusters=k).fit(X)\n",
        "  score = metrics.silhouette_score(X,jer.labels_)\n",
        "  print(\"Los coeficientes de silueta para k=\",k,\" es \",score)\n",
        "  silueta_promedio.append(score)\n",
        "optim_k = silueta_promedio.index(max(silueta_promedio))+min_k\n",
        "print(\"El k óptimo es \",optim_k)"
      ],
      "execution_count": 28,
      "outputs": [
        {
          "output_type": "stream",
          "text": [
            "Los coeficientes de silueta para k= 2  es  0.36706444723912895\n",
            "Los coeficientes de silueta para k= 3  es  0.4618340266628975\n",
            "Los coeficientes de silueta para k= 4  es  0.4916598193892782\n",
            "Los coeficientes de silueta para k= 5  es  0.5529945955148897\n",
            "Los coeficientes de silueta para k= 6  es  0.5380208285578872\n",
            "Los coeficientes de silueta para k= 7  es  0.519904611908887\n",
            "Los coeficientes de silueta para k= 8  es  0.4326286245782246\n",
            "Los coeficientes de silueta para k= 9  es  0.43892545672004507\n",
            "Los coeficientes de silueta para k= 10  es  0.4342656377895271\n",
            "El k óptimo es  5\n"
          ],
          "name": "stdout"
        }
      ]
    },
    {
      "cell_type": "markdown",
      "metadata": {
        "id": "9GDJamN4wiey"
      },
      "source": [
        "El número de clusters óptimo es de 5. Ajustamos entonces un modelo de cluster jerárquico con 5 clusters:"
      ]
    },
    {
      "cell_type": "code",
      "metadata": {
        "id": "cR2pe3-7wY_e"
      },
      "source": [
        "h = AgglomerativeClustering(n_clusters=5).fit(X)"
      ],
      "execution_count": 29,
      "outputs": []
    },
    {
      "cell_type": "code",
      "metadata": {
        "id": "VhdMMd00w6yg"
      },
      "source": [
        "clasificacion = h.fit_predict(X)"
      ],
      "execution_count": 30,
      "outputs": []
    },
    {
      "cell_type": "code",
      "metadata": {
        "colab": {
          "base_uri": "https://localhost:8080/"
        },
        "id": "7plZmT6vw_HK",
        "outputId": "fe4b6db0-732c-4cf1-bbca-86afa143a5e9"
      },
      "source": [
        "clasificacion"
      ],
      "execution_count": 31,
      "outputs": [
        {
          "output_type": "execute_result",
          "data": {
            "text/plain": [
              "array([4, 3, 4, 3, 4, 3, 4, 3, 4, 3, 4, 3, 4, 3, 4, 3, 4, 3, 4, 3, 4, 3,\n",
              "       4, 3, 4, 3, 4, 3, 4, 3, 4, 3, 4, 3, 4, 3, 4, 3, 4, 3, 4, 3, 4, 1,\n",
              "       4, 1, 1, 1, 1, 1, 1, 1, 1, 1, 1, 1, 1, 1, 1, 1, 1, 1, 1, 1, 1, 1,\n",
              "       1, 1, 1, 1, 1, 1, 1, 1, 1, 1, 1, 1, 1, 1, 1, 1, 1, 1, 1, 1, 1, 1,\n",
              "       1, 1, 1, 1, 1, 1, 1, 1, 1, 1, 1, 1, 1, 1, 1, 1, 1, 1, 1, 1, 1, 1,\n",
              "       1, 1, 1, 1, 1, 1, 1, 1, 1, 1, 1, 1, 1, 2, 1, 2, 1, 2, 0, 2, 0, 2,\n",
              "       1, 2, 0, 2, 0, 2, 0, 2, 0, 2, 1, 2, 0, 2, 1, 2, 0, 2, 0, 2, 0, 2,\n",
              "       0, 2, 0, 2, 0, 2, 1, 2, 0, 2, 0, 2, 0, 2, 0, 2, 0, 2, 0, 2, 0, 2,\n",
              "       0, 2, 0, 2, 0, 2, 0, 2, 0, 2, 0, 2, 0, 2, 0, 2, 0, 2, 0, 2, 0, 2,\n",
              "       0, 2])"
            ]
          },
          "metadata": {
            "tags": []
          },
          "execution_count": 31
        }
      ]
    },
    {
      "cell_type": "markdown",
      "metadata": {
        "id": "BXtw4cSbxDp6"
      },
      "source": [
        "Elaboramos un diagrama de dispersión como en KMeans"
      ]
    },
    {
      "cell_type": "code",
      "metadata": {
        "colab": {
          "base_uri": "https://localhost:8080/",
          "height": 404
        },
        "id": "LbEXdHZYxAgh",
        "outputId": "c12bbbec-5ae0-4e3d-adb1-ce1b13491dfd"
      },
      "source": [
        "colores = [\"red\",\"blue\",\"green\",\"cyan\",\"magenta\"]\n",
        "plt.figure(figsize=(10,6))\n",
        "for i in range(5):\n",
        "  plt.scatter(X.iloc[clasificacion==i,0],X.iloc[clasificacion==i,1],s=100,c=colores[i],label=\"Cluster %d\"%(i+1))\n",
        "plt.title(\"Clusters de clientes\")\n",
        "plt.xlabel(\"Ingresos Anuales en miles de US\")\n",
        "plt.ylabel(\"Puntaje por cliente (1-100)\")\n",
        "plt.legend()\n",
        "plt.show()"
      ],
      "execution_count": 32,
      "outputs": [
        {
          "output_type": "display_data",
          "data": {
            "image/png": "[encoded data removed]",
            "text/plain": [
              "<Figure size 720x432 with 1 Axes>"
            ]
          },
          "metadata": {
            "tags": [],
            "needs_background": "light"
          }
        }
      ]
    },
    {
      "cell_type": "code",
      "metadata": {
        "id": "Tlcne6_6xwrq"
      },
      "source": [
        ""
      ],
      "execution_count": null,
      "outputs": []
    }
  ]
}