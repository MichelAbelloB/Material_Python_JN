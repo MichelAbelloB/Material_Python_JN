{
  "nbformat": 4,
  "nbformat_minor": 0,
  "metadata": {
    "colab": {
      "name": "1. Análisis Descriptivo en Python.ipynb",
      "provenance": [],
      "collapsed_sections": []
    },
    "kernelspec": {
      "name": "python3",
      "display_name": "Python 3"
    },
    "language_info": {
      "name": "python"
    }
  },
  "cells": [
    {
      "cell_type": "markdown",
      "metadata": {
        "id": "KMUElzHG3U9N"
      },
      "source": [
        "## 1.1 Explorando y entendiendo la información\n",
        "La idea en las siguientes secciones, es obtener ciertas funciones en Python que nos ayudarán a entender la información así como lo hicimos con R. Encontraremos comando análogos en búsqueda del análisis descriptivo de los datos.\n"
      ]
    },
    {
      "cell_type": "code",
      "metadata": {
        "id": "lhAuT5KK3UHv"
      },
      "source": [
        "import matplotlib.pyplot as plt\n",
        "import numpy as np\n",
        "import pandas as pd\n",
        "from scipy import stats"
      ],
      "execution_count": 1,
      "outputs": []
    },
    {
      "cell_type": "code",
      "metadata": {
        "id": "xc-7uOgy3J25"
      },
      "source": [
        "uc = pd.read_csv(\"/content/usedcars.csv\")"
      ],
      "execution_count": 27,
      "outputs": []
    },
    {
      "cell_type": "code",
      "metadata": {
        "colab": {
          "base_uri": "https://localhost:8080/",
          "height": 204
        },
        "id": "vujZ5gEN5KQD",
        "outputId": "c9e3284f-0dd0-40fc-f0da-da5b231187db"
      },
      "source": [
        "uc.tail() "
      ],
      "execution_count": 4,
      "outputs": [
        {
          "output_type": "execute_result",
          "data": {
            "text/html": [
              "<div>\n",
              "<style scoped>\n",
              "    .dataframe tbody tr th:only-of-type {\n",
              "        vertical-align: middle;\n",
              "    }\n",
              "\n",
              "    .dataframe tbody tr th {\n",
              "        vertical-align: top;\n",
              "    }\n",
              "\n",
              "    .dataframe thead th {\n",
              "        text-align: right;\n",
              "    }\n",
              "</style>\n",
              "<table border=\"1\" class=\"dataframe\">\n",
              "  <thead>\n",
              "    <tr style=\"text-align: right;\">\n",
              "      <th></th>\n",
              "      <th>year</th>\n",
              "      <th>model</th>\n",
              "      <th>price</th>\n",
              "      <th>mileage</th>\n",
              "      <th>color</th>\n",
              "      <th>transmission</th>\n",
              "    </tr>\n",
              "  </thead>\n",
              "  <tbody>\n",
              "    <tr>\n",
              "      <th>145</th>\n",
              "      <td>2006</td>\n",
              "      <td>SES</td>\n",
              "      <td>6200</td>\n",
              "      <td>95000</td>\n",
              "      <td>Silver</td>\n",
              "      <td>AUTO</td>\n",
              "    </tr>\n",
              "    <tr>\n",
              "      <th>146</th>\n",
              "      <td>2002</td>\n",
              "      <td>SE</td>\n",
              "      <td>5995</td>\n",
              "      <td>87003</td>\n",
              "      <td>Red</td>\n",
              "      <td>AUTO</td>\n",
              "    </tr>\n",
              "    <tr>\n",
              "      <th>147</th>\n",
              "      <td>2000</td>\n",
              "      <td>SE</td>\n",
              "      <td>5980</td>\n",
              "      <td>96841</td>\n",
              "      <td>Red</td>\n",
              "      <td>AUTO</td>\n",
              "    </tr>\n",
              "    <tr>\n",
              "      <th>148</th>\n",
              "      <td>2001</td>\n",
              "      <td>SE</td>\n",
              "      <td>4899</td>\n",
              "      <td>151479</td>\n",
              "      <td>Yellow</td>\n",
              "      <td>AUTO</td>\n",
              "    </tr>\n",
              "    <tr>\n",
              "      <th>149</th>\n",
              "      <td>2000</td>\n",
              "      <td>SE</td>\n",
              "      <td>3800</td>\n",
              "      <td>109259</td>\n",
              "      <td>Red</td>\n",
              "      <td>AUTO</td>\n",
              "    </tr>\n",
              "  </tbody>\n",
              "</table>\n",
              "</div>"
            ],
            "text/plain": [
              "     year model  price  mileage   color transmission\n",
              "145  2006   SES   6200    95000  Silver         AUTO\n",
              "146  2002    SE   5995    87003     Red         AUTO\n",
              "147  2000    SE   5980    96841     Red         AUTO\n",
              "148  2001    SE   4899   151479  Yellow         AUTO\n",
              "149  2000    SE   3800   109259     Red         AUTO"
            ]
          },
          "metadata": {
            "tags": []
          },
          "execution_count": 4
        }
      ]
    },
    {
      "cell_type": "markdown",
      "metadata": {
        "id": "dSgmowNN5VJl"
      },
      "source": [
        "## 1.2 Estructura de los datos"
      ]
    },
    {
      "cell_type": "code",
      "metadata": {
        "colab": {
          "base_uri": "https://localhost:8080/"
        },
        "id": "W1YWmC8m5LXU",
        "outputId": "5dd69a43-f573-4c16-a9f1-521d1d42e581"
      },
      "source": [
        "uc.info() # análogo a la función str() en R"
      ],
      "execution_count": 5,
      "outputs": [
        {
          "output_type": "stream",
          "text": [
            "<class 'pandas.core.frame.DataFrame'>\n",
            "RangeIndex: 150 entries, 0 to 149\n",
            "Data columns (total 6 columns):\n",
            " #   Column        Non-Null Count  Dtype \n",
            "---  ------        --------------  ----- \n",
            " 0   year          150 non-null    int64 \n",
            " 1   model         150 non-null    object\n",
            " 2   price         150 non-null    int64 \n",
            " 3   mileage       150 non-null    int64 \n",
            " 4   color         150 non-null    object\n",
            " 5   transmission  150 non-null    object\n",
            "dtypes: int64(3), object(3)\n",
            "memory usage: 7.2+ KB\n"
          ],
          "name": "stdout"
        }
      ]
    },
    {
      "cell_type": "markdown",
      "metadata": {
        "id": "0taM6q-K7V80"
      },
      "source": [
        "## 1.3 Explorando variables numéricas"
      ]
    },
    {
      "cell_type": "code",
      "metadata": {
        "colab": {
          "base_uri": "https://localhost:8080/"
        },
        "id": "1EQ8JDti5eQC",
        "outputId": "6e4bd278-27bb-454b-aa6f-eb3436f6e4c8"
      },
      "source": [
        "uc.columns "
      ],
      "execution_count": 6,
      "outputs": [
        {
          "output_type": "execute_result",
          "data": {
            "text/plain": [
              "Index(['year', 'model', 'price', 'mileage', 'color', 'transmission'], dtype='object')"
            ]
          },
          "metadata": {
            "tags": []
          },
          "execution_count": 6
        }
      ]
    },
    {
      "cell_type": "code",
      "metadata": {
        "colab": {
          "base_uri": "https://localhost:8080/"
        },
        "id": "nkiE2fUs-AW7",
        "outputId": "f88ce765-0533-4a60-fa93-f3ce40ea3de6"
      },
      "source": [
        "type(uc) "
      ],
      "execution_count": 8,
      "outputs": [
        {
          "output_type": "execute_result",
          "data": {
            "text/plain": [
              "pandas.core.frame.DataFrame"
            ]
          },
          "metadata": {
            "tags": []
          },
          "execution_count": 8
        }
      ]
    },
    {
      "cell_type": "code",
      "metadata": {
        "colab": {
          "base_uri": "https://localhost:8080/",
          "height": 297
        },
        "id": "f-JnO0Sp7iAM",
        "outputId": "14063d9f-78ea-4896-bc46-25aa6b24d12a"
      },
      "source": [
        "uc[[\"price\",\"mileage\"]].describe() # análogo a la función summary() en R"
      ],
      "execution_count": 9,
      "outputs": [
        {
          "output_type": "execute_result",
          "data": {
            "text/html": [
              "<div>\n",
              "<style scoped>\n",
              "    .dataframe tbody tr th:only-of-type {\n",
              "        vertical-align: middle;\n",
              "    }\n",
              "\n",
              "    .dataframe tbody tr th {\n",
              "        vertical-align: top;\n",
              "    }\n",
              "\n",
              "    .dataframe thead th {\n",
              "        text-align: right;\n",
              "    }\n",
              "</style>\n",
              "<table border=\"1\" class=\"dataframe\">\n",
              "  <thead>\n",
              "    <tr style=\"text-align: right;\">\n",
              "      <th></th>\n",
              "      <th>price</th>\n",
              "      <th>mileage</th>\n",
              "    </tr>\n",
              "  </thead>\n",
              "  <tbody>\n",
              "    <tr>\n",
              "      <th>count</th>\n",
              "      <td>150.000000</td>\n",
              "      <td>150.000000</td>\n",
              "    </tr>\n",
              "    <tr>\n",
              "      <th>mean</th>\n",
              "      <td>12961.933333</td>\n",
              "      <td>44260.646667</td>\n",
              "    </tr>\n",
              "    <tr>\n",
              "      <th>std</th>\n",
              "      <td>3122.481735</td>\n",
              "      <td>26982.104322</td>\n",
              "    </tr>\n",
              "    <tr>\n",
              "      <th>min</th>\n",
              "      <td>3800.000000</td>\n",
              "      <td>4867.000000</td>\n",
              "    </tr>\n",
              "    <tr>\n",
              "      <th>25%</th>\n",
              "      <td>10995.000000</td>\n",
              "      <td>27200.250000</td>\n",
              "    </tr>\n",
              "    <tr>\n",
              "      <th>50%</th>\n",
              "      <td>13591.500000</td>\n",
              "      <td>36385.000000</td>\n",
              "    </tr>\n",
              "    <tr>\n",
              "      <th>75%</th>\n",
              "      <td>14904.500000</td>\n",
              "      <td>55124.500000</td>\n",
              "    </tr>\n",
              "    <tr>\n",
              "      <th>max</th>\n",
              "      <td>21992.000000</td>\n",
              "      <td>151479.000000</td>\n",
              "    </tr>\n",
              "  </tbody>\n",
              "</table>\n",
              "</div>"
            ],
            "text/plain": [
              "              price        mileage\n",
              "count    150.000000     150.000000\n",
              "mean   12961.933333   44260.646667\n",
              "std     3122.481735   26982.104322\n",
              "min     3800.000000    4867.000000\n",
              "25%    10995.000000   27200.250000\n",
              "50%    13591.500000   36385.000000\n",
              "75%    14904.500000   55124.500000\n",
              "max    21992.000000  151479.000000"
            ]
          },
          "metadata": {
            "tags": []
          },
          "execution_count": 9
        }
      ]
    },
    {
      "cell_type": "markdown",
      "metadata": {
        "id": "qS1OYtEn8Ucc"
      },
      "source": [
        "### 1.3.1 Media y Mediana en Python"
      ]
    },
    {
      "cell_type": "code",
      "metadata": {
        "colab": {
          "base_uri": "https://localhost:8080/"
        },
        "id": "bNOJvnU_7n32",
        "outputId": "8c4a0225-206d-43dd-af36-b15cfcc640cd"
      },
      "source": [
        "np.mean(uc[\"price\"])"
      ],
      "execution_count": 12,
      "outputs": [
        {
          "output_type": "execute_result",
          "data": {
            "text/plain": [
              "12961.933333333332"
            ]
          },
          "metadata": {
            "tags": []
          },
          "execution_count": 12
        }
      ]
    },
    {
      "cell_type": "code",
      "metadata": {
        "colab": {
          "base_uri": "https://localhost:8080/"
        },
        "id": "6-OwC4ZRVF5z",
        "outputId": "a8dc42ce-4e78-47b0-faf9-aae0ecb2ffc7"
      },
      "source": [
        "uc[\"price\"].mean()"
      ],
      "execution_count": 13,
      "outputs": [
        {
          "output_type": "execute_result",
          "data": {
            "text/plain": [
              "12961.933333333332"
            ]
          },
          "metadata": {
            "tags": []
          },
          "execution_count": 13
        }
      ]
    },
    {
      "cell_type": "code",
      "metadata": {
        "colab": {
          "base_uri": "https://localhost:8080/",
          "height": 282
        },
        "id": "jQWK8m9oVQoD",
        "outputId": "1ec9308e-9a32-425c-84ef-5a48b646c11a"
      },
      "source": [
        "uc[\"price\"].plot()"
      ],
      "execution_count": 15,
      "outputs": [
        {
          "output_type": "execute_result",
          "data": {
            "text/plain": [
              "<matplotlib.axes._subplots.AxesSubplot at 0x7fa742f6fa10>"
            ]
          },
          "metadata": {
            "tags": []
          },
          "execution_count": 15
        },
        {
          "output_type": "display_data",
          "data": {
            "image/png": "[encoded data removed]",
            "text/plain": [
              "<Figure size 432x288 with 1 Axes>"
            ]
          },
          "metadata": {
            "tags": [],
            "needs_background": "light"
          }
        }
      ]
    },
    {
      "cell_type": "code",
      "metadata": {
        "colab": {
          "base_uri": "https://localhost:8080/",
          "height": 296
        },
        "id": "m3e_rO1ZVs33",
        "outputId": "5c466264-e624-42e3-e1c1-d0a05fbc98fe"
      },
      "source": [
        "uc.plot(x=\"mileage\",y=\"price\")"
      ],
      "execution_count": 18,
      "outputs": [
        {
          "output_type": "execute_result",
          "data": {
            "text/plain": [
              "<matplotlib.axes._subplots.AxesSubplot at 0x7fa74295cd10>"
            ]
          },
          "metadata": {
            "tags": []
          },
          "execution_count": 18
        },
        {
          "output_type": "display_data",
          "data": {
            "image/png": "[encoded data removed]",
            "text/plain": [
              "<Figure size 432x288 with 1 Axes>"
            ]
          },
          "metadata": {
            "tags": [],
            "needs_background": "light"
          }
        }
      ]
    },
    {
      "cell_type": "code",
      "metadata": {
        "colab": {
          "base_uri": "https://localhost:8080/"
        },
        "id": "9bNoFzN38b5u",
        "outputId": "da35ec73-ae9f-4f08-9aaa-66831c440bc7"
      },
      "source": [
        "np.median(uc[\"price\"])"
      ],
      "execution_count": 19,
      "outputs": [
        {
          "output_type": "execute_result",
          "data": {
            "text/plain": [
              "13591.5"
            ]
          },
          "metadata": {
            "tags": []
          },
          "execution_count": 19
        }
      ]
    },
    {
      "cell_type": "code",
      "metadata": {
        "colab": {
          "base_uri": "https://localhost:8080/"
        },
        "id": "xwSGxEzj8eyH",
        "outputId": "33ad1183-9776-4448-b561-2078abcd50f8"
      },
      "source": [
        "uc[\"mileage\"].mean()"
      ],
      "execution_count": 20,
      "outputs": [
        {
          "output_type": "execute_result",
          "data": {
            "text/plain": [
              "44260.64666666667"
            ]
          },
          "metadata": {
            "tags": []
          },
          "execution_count": 20
        }
      ]
    },
    {
      "cell_type": "code",
      "metadata": {
        "colab": {
          "base_uri": "https://localhost:8080/"
        },
        "id": "GZHXmjte8jX3",
        "outputId": "ec6944aa-46ae-4194-9f88-a2a4264a1e46"
      },
      "source": [
        "uc[\"mileage\"].median()"
      ],
      "execution_count": 21,
      "outputs": [
        {
          "output_type": "execute_result",
          "data": {
            "text/plain": [
              "36385.0"
            ]
          },
          "metadata": {
            "tags": []
          },
          "execution_count": 21
        }
      ]
    },
    {
      "cell_type": "markdown",
      "metadata": {
        "id": "H-R6nia99wMc"
      },
      "source": [
        "### 1.3.2 Medición de la dispersión: cuartiles y resumen de cinco números"
      ]
    },
    {
      "cell_type": "code",
      "metadata": {
        "id": "-zfphbIp8v_F"
      },
      "source": [
        "rango = [min(uc[\"mileage\"]),max(uc[\"mileage\"])]"
      ],
      "execution_count": 22,
      "outputs": []
    },
    {
      "cell_type": "code",
      "metadata": {
        "id": "RQH-W2ix97hB"
      },
      "source": [
        "rango = pd.DataFrame(rango)"
      ],
      "execution_count": 23,
      "outputs": []
    },
    {
      "cell_type": "code",
      "metadata": {
        "colab": {
          "base_uri": "https://localhost:8080/"
        },
        "id": "17kV_WZx_EbF",
        "outputId": "73b992aa-f919-4ce4-ef00-36e993d93001"
      },
      "source": [
        "rango.diff().iloc[1]"
      ],
      "execution_count": 24,
      "outputs": [
        {
          "output_type": "execute_result",
          "data": {
            "text/plain": [
              "0    146612.0\n",
              "Name: 1, dtype: float64"
            ]
          },
          "metadata": {
            "tags": []
          },
          "execution_count": 24
        }
      ]
    },
    {
      "cell_type": "code",
      "metadata": {
        "id": "tc3D93ok_hB_"
      },
      "source": [
        "IQR = stats.iqr(uc[\"price\"])"
      ],
      "execution_count": 25,
      "outputs": []
    },
    {
      "cell_type": "code",
      "metadata": {
        "colab": {
          "base_uri": "https://localhost:8080/"
        },
        "id": "8ULQU2UJA8_B",
        "outputId": "7b2060f3-9af9-4778-aff3-b9872bbfaedf"
      },
      "source": [
        "IQR"
      ],
      "execution_count": 26,
      "outputs": [
        {
          "output_type": "execute_result",
          "data": {
            "text/plain": [
              "3909.5"
            ]
          },
          "metadata": {
            "tags": []
          },
          "execution_count": 26
        }
      ]
    },
    {
      "cell_type": "markdown",
      "metadata": {
        "id": "ILLp0Y6HCGha"
      },
      "source": [
        "El equivalente en Python a la función *quantile()* en R, es el método o atributo\n",
        "\n",
        "\n",
        "\n",
        "```\n",
        "dataframe.quantile()\n",
        "```\n",
        "\n"
      ]
    },
    {
      "cell_type": "code",
      "metadata": {
        "colab": {
          "base_uri": "https://localhost:8080/"
        },
        "id": "Hyr5463KA92N",
        "outputId": "815652c2-02c3-409b-c6c9-d312ac27c3bc"
      },
      "source": [
        "uc[\"price\"].quantile(np.arange(0,1.25,0.25))"
      ],
      "execution_count": null,
      "outputs": [
        {
          "output_type": "execute_result",
          "data": {
            "text/plain": [
              "0.00     3800.0\n",
              "0.25    10995.0\n",
              "0.50    13591.5\n",
              "0.75    14904.5\n",
              "1.00    21992.0\n",
              "Name: price, dtype: float64"
            ]
          },
          "metadata": {
            "tags": []
          },
          "execution_count": 17
        }
      ]
    },
    {
      "cell_type": "markdown",
      "metadata": {
        "id": "SFaon5bED9aS"
      },
      "source": [
        "## 1.3.4 Visualización de variables numéricas - diagramas de cajas y bigotes"
      ]
    },
    {
      "cell_type": "code",
      "metadata": {
        "colab": {
          "base_uri": "https://localhost:8080/",
          "height": 281
        },
        "id": "zb6tBM8DC0bK",
        "outputId": "e36cfdbd-3f89-47ef-b495-67a409f8da23"
      },
      "source": [
        "plt.boxplot(uc[\"price\"])\n",
        "plt.title(\"Diagrama de cajas y bigotes de los precios\")\n",
        "plt.ylabel(\"Precios($)\")\n",
        "plt.show()"
      ],
      "execution_count": 28,
      "outputs": [
        {
          "output_type": "display_data",
          "data": {
            "image/png": "[encoded data removed]",
            "text/plain": [
              "<Figure size 432x288 with 1 Axes>"
            ]
          },
          "metadata": {
            "tags": [],
            "needs_background": "light"
          }
        }
      ]
    },
    {
      "cell_type": "code",
      "metadata": {
        "colab": {
          "base_uri": "https://localhost:8080/",
          "height": 281
        },
        "id": "xbVXm6MiEFod",
        "outputId": "b02f370d-59f4-404d-f24f-ec8eb23c0e82"
      },
      "source": [
        "plt.boxplot(uc[\"mileage\"])\n",
        "plt.title(\"Diagrama de cajas y bigotes de los odometros\")\n",
        "plt.ylabel(\"Millas\")\n",
        "plt.show()"
      ],
      "execution_count": 29,
      "outputs": [
        {
          "output_type": "display_data",
          "data": {
            "image/png": "[encoded data removed]",
            "text/plain": [
              "<Figure size 432x288 with 1 Axes>"
            ]
          },
          "metadata": {
            "tags": [],
            "needs_background": "light"
          }
        }
      ]
    },
    {
      "cell_type": "code",
      "metadata": {
        "colab": {
          "base_uri": "https://localhost:8080/",
          "height": 248
        },
        "id": "kx60CNVU5iH_",
        "outputId": "2758024b-f978-4388-c516-9f9ab0247d11"
      },
      "source": [
        "import seaborn as sns\n",
        "sns.set_theme(style=\"darkgrid\") #estilos que usa Seaborn\n",
        "ax = sns.boxplot(y=\"price\", data=uc)"
      ],
      "execution_count": 30,
      "outputs": [
        {
          "output_type": "display_data",
          "data": {
            "image/png": "[encoded data removed]",
            "text/plain": [
              "<Figure size 432x288 with 1 Axes>"
            ]
          },
          "metadata": {
            "tags": []
          }
        }
      ]
    },
    {
      "cell_type": "markdown",
      "metadata": {
        "id": "hpS9zZ4hEmH5"
      },
      "source": [
        "###1.3.5 Visualizando variables numéricas - histogramas"
      ]
    },
    {
      "cell_type": "code",
      "metadata": {
        "colab": {
          "base_uri": "https://localhost:8080/",
          "height": 301
        },
        "id": "XAR87vVoEiLK",
        "outputId": "bc281332-3249-4c33-9856-6ad6dd77337b"
      },
      "source": [
        "plt.hist(uc[\"price\"])\n",
        "plt.title(\"Histograma de los precios\")\n",
        "plt.ylabel(\"frecuencia\")\n",
        "plt.xlabel(\"precios($)\")\n",
        "plt.show()"
      ],
      "execution_count": 33,
      "outputs": [
        {
          "output_type": "display_data",
          "data": {
            "image/png": "[encoded data removed]",
            "text/plain": [
              "<Figure size 432x288 with 1 Axes>"
            ]
          },
          "metadata": {
            "tags": []
          }
        }
      ]
    },
    {
      "cell_type": "code",
      "metadata": {
        "colab": {
          "base_uri": "https://localhost:8080/",
          "height": 301
        },
        "id": "KkIMXbHREw-j",
        "outputId": "e32df025-6369-448b-a7b8-532a14fca39f"
      },
      "source": [
        "plt.hist(uc[\"mileage\"])\n",
        "plt.title(\"Histograma de los odómetros\")\n",
        "plt.ylabel(\"frecuencia\")\n",
        "plt.xlabel(\"Millas\")\n",
        "plt.show()"
      ],
      "execution_count": 34,
      "outputs": [
        {
          "output_type": "display_data",
          "data": {
            "image/png": "[encoded data removed]",
            "text/plain": [
              "<Figure size 432x288 with 1 Axes>"
            ]
          },
          "metadata": {
            "tags": []
          }
        }
      ]
    },
    {
      "cell_type": "code",
      "metadata": {
        "colab": {
          "base_uri": "https://localhost:8080/",
          "height": 301
        },
        "id": "DjTe0LZcCho2",
        "outputId": "816a99ef-df5c-4fd2-ee78-7fa123135eb1"
      },
      "source": [
        "sns.histplot(data=uc, x=\"price\").set(title=\"histograma con seaborn de los precios\")\n",
        "plt.show()"
      ],
      "execution_count": 35,
      "outputs": [
        {
          "output_type": "display_data",
          "data": {
            "image/png": "[encoded data removed]",
            "text/plain": [
              "<Figure size 432x288 with 1 Axes>"
            ]
          },
          "metadata": {
            "tags": []
          }
        }
      ]
    },
    {
      "cell_type": "markdown",
      "metadata": {
        "id": "x4LB2z0aGK15"
      },
      "source": [
        "Densidad"
      ]
    },
    {
      "cell_type": "code",
      "metadata": {
        "id": "O6C91Gn7FLcG"
      },
      "source": [
        "from scipy.stats import gaussian_kde"
      ],
      "execution_count": 36,
      "outputs": []
    },
    {
      "cell_type": "code",
      "metadata": {
        "id": "tVxyu76eGMl0"
      },
      "source": [
        "densidad_precios =  gaussian_kde(uc[\"mileage\"])\n",
        "x = np.arange(min(uc[\"mileage\"]),max(uc[\"mileage\"]),1)"
      ],
      "execution_count": 39,
      "outputs": []
    },
    {
      "cell_type": "code",
      "metadata": {
        "colab": {
          "base_uri": "https://localhost:8080/",
          "height": 279
        },
        "id": "PciwcFoEGTPE",
        "outputId": "10fa3e45-f89c-4560-a1bb-2bbb660215a9"
      },
      "source": [
        "plt.plot(x,densidad_precios(x))\n",
        "plt.show()"
      ],
      "execution_count": 41,
      "outputs": [
        {
          "output_type": "display_data",
          "data": {
            "image/png": "[encoded data removed]",
            "text/plain": [
              "<Figure size 432x288 with 1 Axes>"
            ]
          },
          "metadata": {
            "tags": []
          }
        }
      ]
    },
    {
      "cell_type": "code",
      "metadata": {
        "colab": {
          "base_uri": "https://localhost:8080/",
          "height": 301
        },
        "id": "fzaSUC-sDToY",
        "outputId": "e3f0095b-bd9a-4214-b62b-ef202586024a"
      },
      "source": [
        "sns.histplot(data=uc, x=\"mileage\",kde=True).set(title=\"histograma con seaborn de los precios\")\n",
        "plt.show()"
      ],
      "execution_count": 42,
      "outputs": [
        {
          "output_type": "display_data",
          "data": {
            "image/png": "[encoded data removed]",
            "text/plain": [
              "<Figure size 432x288 with 1 Axes>"
            ]
          },
          "metadata": {
            "tags": []
          }
        }
      ]
    },
    {
      "cell_type": "code",
      "metadata": {
        "colab": {
          "base_uri": "https://localhost:8080/",
          "height": 370
        },
        "id": "Mj3FR8hoNdkd",
        "outputId": "eb6cc55c-4341-4158-dcb8-7d76d5e1a047"
      },
      "source": [
        "sns.displot(uc,x=\"mileage\",kind=\"kde\").set(title=\"densidad de la distribución del kilometraje\")\n",
        "plt.show()"
      ],
      "execution_count": 43,
      "outputs": [
        {
          "output_type": "display_data",
          "data": {
            "image/png": "[encoded data removed]",
            "text/plain": [
              "<Figure size 360x360 with 1 Axes>"
            ]
          },
          "metadata": {
            "tags": []
          }
        }
      ]
    },
    {
      "cell_type": "markdown",
      "metadata": {
        "id": "bU9N4ouCHJhy"
      },
      "source": [
        "### 1.3.6 Distribuciones uniforme y normal"
      ]
    },
    {
      "cell_type": "code",
      "metadata": {
        "colab": {
          "base_uri": "https://localhost:8080/",
          "height": 268
        },
        "id": "7mmVcK1sGh0j",
        "outputId": "7540c606-8e0c-4234-871e-ddd69cb6fb4f"
      },
      "source": [
        "x = np.random.standard_normal(100)\n",
        "plt.hist(x)\n",
        "plt.show()"
      ],
      "execution_count": 44,
      "outputs": [
        {
          "output_type": "display_data",
          "data": {
            "image/png": "[encoded data removed]",
            "text/plain": [
              "<Figure size 432x288 with 1 Axes>"
            ]
          },
          "metadata": {
            "tags": []
          }
        }
      ]
    },
    {
      "cell_type": "code",
      "metadata": {
        "colab": {
          "base_uri": "https://localhost:8080/",
          "height": 268
        },
        "id": "BCWR6xdJHZfX",
        "outputId": "465db92f-2fd0-4217-907d-098497e18937"
      },
      "source": [
        "y = np.random.uniform(2,10,1000)\n",
        "plt.hist(y)\n",
        "plt.show()"
      ],
      "execution_count": 45,
      "outputs": [
        {
          "output_type": "display_data",
          "data": {
            "image/png": "[encoded data removed]",
            "text/plain": [
              "<Figure size 432x288 with 1 Axes>"
            ]
          },
          "metadata": {
            "tags": []
          }
        }
      ]
    },
    {
      "cell_type": "markdown",
      "metadata": {
        "id": "spnt0UCgqjWt"
      },
      "source": [
        "### 1.3.7 Medida de dispersión de datos numéricos - varianza y desviación estándar"
      ]
    },
    {
      "cell_type": "code",
      "metadata": {
        "id": "LoV0KwaSHl4C",
        "colab": {
          "base_uri": "https://localhost:8080/"
        },
        "outputId": "eeea7849-89b6-473c-dc10-eab5fc652733"
      },
      "source": [
        "np.var(uc['price'])"
      ],
      "execution_count": 46,
      "outputs": [
        {
          "output_type": "execute_result",
          "data": {
            "text/plain": [
              "9684892.902222227"
            ]
          },
          "metadata": {
            "tags": []
          },
          "execution_count": 46
        }
      ]
    },
    {
      "cell_type": "code",
      "metadata": {
        "colab": {
          "base_uri": "https://localhost:8080/"
        },
        "id": "Wf3LZehlqwGW",
        "outputId": "46f188f8-40c6-4841-9f10-ea1a843df84e"
      },
      "source": [
        "np.std(uc['price'])"
      ],
      "execution_count": 48,
      "outputs": [
        {
          "output_type": "execute_result",
          "data": {
            "text/plain": [
              "3112.056057050102"
            ]
          },
          "metadata": {
            "tags": []
          },
          "execution_count": 48
        }
      ]
    },
    {
      "cell_type": "code",
      "metadata": {
        "colab": {
          "base_uri": "https://localhost:8080/"
        },
        "id": "Oc5RkwQdq1K5",
        "outputId": "f0c6f3ce-1f79-4822-8cd2-154b1fd312ef"
      },
      "source": [
        "np.sum((uc['price']-np.mean(uc['price']))**2)/(len(uc['price'])-1)"
      ],
      "execution_count": 49,
      "outputs": [
        {
          "output_type": "execute_result",
          "data": {
            "text/plain": [
              "9749892.183445191"
            ]
          },
          "metadata": {
            "tags": []
          },
          "execution_count": 49
        }
      ]
    },
    {
      "cell_type": "code",
      "metadata": {
        "colab": {
          "base_uri": "https://localhost:8080/"
        },
        "id": "3FC9A1VMb-Mb",
        "outputId": "cac75414-9c6a-4a85-c2ea-49f4d0cc1590"
      },
      "source": [
        "uc[\"price\"].var()"
      ],
      "execution_count": 51,
      "outputs": [
        {
          "output_type": "execute_result",
          "data": {
            "text/plain": [
              "9749892.183445197"
            ]
          },
          "metadata": {
            "tags": []
          },
          "execution_count": 51
        }
      ]
    },
    {
      "cell_type": "markdown",
      "metadata": {
        "id": "dhXGx6nAt9XL"
      },
      "source": [
        "### Prueba de normalidad usando el test de KS(# datos >50) y Shapiro (# datos<=50)\n",
        "Estas pruebas consisten en verificar o contrastar la hipótesis nula de que la información que está siendo probada, proviene de una distribución normal."
      ]
    },
    {
      "cell_type": "code",
      "metadata": {
        "id": "FM1Q34-NrMzE"
      },
      "source": [
        "prueba_normalidad = stats.kstest(uc[\"price\"],\"norm\")"
      ],
      "execution_count": 52,
      "outputs": []
    },
    {
      "cell_type": "code",
      "metadata": {
        "colab": {
          "base_uri": "https://localhost:8080/"
        },
        "id": "w7rFH2m-uUGm",
        "outputId": "abea7e2b-dbcb-4483-8a4e-dfe6e9b9a7ff"
      },
      "source": [
        "prueba_normalidad"
      ],
      "execution_count": 53,
      "outputs": [
        {
          "output_type": "execute_result",
          "data": {
            "text/plain": [
              "KstestResult(statistic=1.0, pvalue=0.0)"
            ]
          },
          "metadata": {
            "tags": []
          },
          "execution_count": 53
        }
      ]
    },
    {
      "cell_type": "markdown",
      "metadata": {
        "id": "dCrEMY-YZzPU"
      },
      "source": [
        "## 1.4 Exploración de variables categóricas"
      ]
    },
    {
      "cell_type": "code",
      "metadata": {
        "id": "cnQhfu0MuVB_",
        "colab": {
          "base_uri": "https://localhost:8080/"
        },
        "outputId": "f1cfcb23-7aff-49b5-a489-17442e47a2ab"
      },
      "source": [
        "from collections import Counter # Extraemos una función parecida al comando table() en R\n",
        "Counter(uc['year'])"
      ],
      "execution_count": 54,
      "outputs": [
        {
          "output_type": "execute_result",
          "data": {
            "text/plain": [
              "Counter({2000: 3,\n",
              "         2001: 1,\n",
              "         2002: 1,\n",
              "         2003: 1,\n",
              "         2004: 3,\n",
              "         2005: 2,\n",
              "         2006: 6,\n",
              "         2007: 11,\n",
              "         2008: 14,\n",
              "         2009: 42,\n",
              "         2010: 49,\n",
              "         2011: 16,\n",
              "         2012: 1})"
            ]
          },
          "metadata": {
            "tags": []
          },
          "execution_count": 54
        }
      ]
    },
    {
      "cell_type": "code",
      "metadata": {
        "colab": {
          "base_uri": "https://localhost:8080/"
        },
        "id": "-3GmLilxaFIL",
        "outputId": "e2ba0444-823c-4a4f-d2ba-56240ae614a3"
      },
      "source": [
        "uc[\"year\"].value_counts().index"
      ],
      "execution_count": 56,
      "outputs": [
        {
          "output_type": "execute_result",
          "data": {
            "text/plain": [
              "Int64Index([2010, 2009, 2011, 2008, 2007, 2006, 2004, 2000, 2005, 2012, 2003,\n",
              "            2002, 2001],\n",
              "           dtype='int64')"
            ]
          },
          "metadata": {
            "tags": []
          },
          "execution_count": 56
        }
      ]
    },
    {
      "cell_type": "code",
      "metadata": {
        "colab": {
          "base_uri": "https://localhost:8080/",
          "height": 248
        },
        "id": "GzdhG-cJn7xp",
        "outputId": "d5fea4db-58f4-4b29-ec57-b311883a27d2"
      },
      "source": [
        "plt.pie(uc[\"year\"].value_counts(),labels = uc[\"year\"].value_counts().index,explode=(0,0,0,0,0,0,0,0,0,0,0,0,0),autopct='%1.1f%%')\n",
        "plt.show()"
      ],
      "execution_count": 63,
      "outputs": [
        {
          "output_type": "display_data",
          "data": {
            "image/png": "[encoded data removed]",
            "text/plain": [
              "<Figure size 432x288 with 1 Axes>"
            ]
          },
          "metadata": {
            "tags": []
          }
        }
      ]
    },
    {
      "cell_type": "markdown",
      "metadata": {
        "id": "NwDn7d4zzRNM"
      },
      "source": [
        "### 1.4.1 Midiendo la tendencia central - La moda"
      ]
    },
    {
      "cell_type": "code",
      "metadata": {
        "colab": {
          "base_uri": "https://localhost:8080/"
        },
        "id": "WsRittVV0BPN",
        "outputId": "3798fde9-d77f-4be2-8157-6c9b193ac954"
      },
      "source": [
        "uc.columns.values"
      ],
      "execution_count": 64,
      "outputs": [
        {
          "output_type": "execute_result",
          "data": {
            "text/plain": [
              "array(['year', 'model', 'price', 'mileage', 'color', 'transmission'],\n",
              "      dtype=object)"
            ]
          },
          "metadata": {
            "tags": []
          },
          "execution_count": 64
        }
      ]
    },
    {
      "cell_type": "code",
      "metadata": {
        "colab": {
          "base_uri": "https://localhost:8080/"
        },
        "id": "PftyNdsEoTrZ",
        "outputId": "91796fa7-daf2-4fb6-ab72-0ddd429f33e7"
      },
      "source": [
        "stats.mode(uc[\"transmission\"])"
      ],
      "execution_count": 65,
      "outputs": [
        {
          "output_type": "execute_result",
          "data": {
            "text/plain": [
              "ModeResult(mode=array(['AUTO'], dtype=object), count=array([128]))"
            ]
          },
          "metadata": {
            "tags": []
          },
          "execution_count": 65
        }
      ]
    },
    {
      "cell_type": "markdown",
      "metadata": {
        "id": "Hy4oHFEV0y2c"
      },
      "source": [
        "### 1.5.1 Visualizando las relaciones - diagramas de dispersión"
      ]
    },
    {
      "cell_type": "code",
      "metadata": {
        "colab": {
          "base_uri": "https://localhost:8080/",
          "height": 301
        },
        "id": "WQT97quSowDd",
        "outputId": "486b23f9-8366-4c25-b30f-e7942bcfa5d9"
      },
      "source": [
        "plt.scatter(uc[\"mileage\"],uc[\"price\"])\n",
        "plt.title(\"Diagrama de dispersión precios vs kilometraje\")\n",
        "plt.xlabel(\"precio\")\n",
        "plt.ylabel(\"millas\")\n",
        "plt.show()"
      ],
      "execution_count": 66,
      "outputs": [
        {
          "output_type": "display_data",
          "data": {
            "image/png": "[encoded data removed]",
            "text/plain": [
              "<Figure size 432x288 with 1 Axes>"
            ]
          },
          "metadata": {
            "tags": []
          }
        }
      ]
    },
    {
      "cell_type": "code",
      "metadata": {
        "colab": {
          "base_uri": "https://localhost:8080/",
          "height": 285
        },
        "id": "PGSrGeNbXzqW",
        "outputId": "507b3056-b16a-4521-f812-cd3a5b70972f"
      },
      "source": [
        "sns.scatterplot(data=uc, x=\"mileage\", y=\"price\")\n",
        "plt.show()"
      ],
      "execution_count": 67,
      "outputs": [
        {
          "output_type": "display_data",
          "data": {
            "image/png": "[encoded data removed]",
            "text/plain": [
              "<Figure size 432x288 with 1 Axes>"
            ]
          },
          "metadata": {
            "tags": []
          }
        }
      ]
    },
    {
      "cell_type": "code",
      "metadata": {
        "id": "SdldmxTj1B_C"
      },
      "source": [
        ""
      ],
      "execution_count": null,
      "outputs": []
    }
  ]
}